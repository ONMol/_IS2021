{
 "cells": [
  {
   "cell_type": "markdown",
   "metadata": {},
   "source": [
    "# <font color=red>Лекция 3.2</font> <font color=blue>Специальные методы и перегрузка операторов</font>"
   ]
  },
  {
   "cell_type": "markdown",
   "metadata": {},
   "source": [
    "**Перегрузка операторов** — один из способов реализации полиморфизма, когда мы можем задать свою реализацию какого-либо метода в своем классе.\n",
    "\n",
    "Например, у нас есть два класса:"
   ]
  },
  {
   "cell_type": "code",
   "execution_count": null,
   "metadata": {},
   "outputs": [],
   "source": [
    "class A:\n",
    "    def go(self):\n",
    "        print('Go, A!')\n",
    "\n",
    "class B(A):\n",
    "    def go(self, name):\n",
    "        print('Go, {}!'.format(name))"
   ]
  },
  {
   "cell_type": "markdown",
   "metadata": {},
   "source": [
    "В данном примере класс B <font color=blue>наследует</font> класс A, но переопределяет метод go, поэтому он имеет мало общего с аналогичным методом класса A.\n",
    "\n",
    "Однако в python имеются методы, которые, как правило, не вызываются напрямую, а вызываются встроенными функциями или операторами.\n",
    "\n",
    "Например, метод `__init__` перегружает конструктор класса. Конструктор — создание экземпляра класса."
   ]
  },
  {
   "cell_type": "code",
   "execution_count": null,
   "metadata": {},
   "outputs": [],
   "source": [
    "class A:\n",
    "    def __init__(self, name):\n",
    "        self.name = name\n",
    "    \n",
    "a = A('Vasya')\n",
    "print(a.name)"
   ]
  },
  {
   "cell_type": "markdown",
   "metadata": {},
   "source": [
    "**Собственно, далее пойдёт список таких \"магических\" методов (magic method), также называемых специальными:**\n",
    "\n",
    "<i>(Для отображения двойных подчеркиваний в именах операторов выполните двойной счелчок мыши по выбранному блоку)</i>\n",
    "\n",
    "__new__(cls[, ...]) — управляет созданием экземпляра. В качестве обязательного аргумента принимает класс (не путать с экземпляром). Должен возвращать экземпляр класса для его последующей его передачи методу __init__.\n",
    "\n",
    "__init__(self[, ...]) - как уже было сказано выше, конструктор.\n",
    "\n",
    "__del__(self) - вызывается при удалении объекта сборщиком мусора.\n",
    "\n",
    "__repr__(self) - вызывается встроенной функцией repr; возвращает \"сырые\" данные, использующиеся для внутреннего представления в python.\n",
    "\n",
    "__str__(self) - вызывается функциями str, print и format. Возвращает строковое представление объекта.\n",
    "\n",
    "__bytes__(self) - вызывается функцией bytes при преобразовании к байтам.\n",
    "\n",
    "__format__(self, format_spec) - используется функцией format (а также методом format у строк).\n",
    "\n",
    "__lt__(self, other) - x < y вызывает x.__lt__(y).\n",
    "\n",
    "__le__(self, other) - x ≤ y вызывает x.__le__(y).\n",
    "\n",
    "__eq__(self, other) - x == y вызывает x.__eq__(y).\n",
    "\n",
    "__ne__(self, other) - x != y вызывает x.__ne__(y)\n",
    "\n",
    "__gt__(self, other) - x > y вызывает x.__gt__(y).\n",
    "\n",
    "__ge__(self, other) - x ≥ y вызывает x.__ge__(y).\n",
    "\n",
    "__hash__(self) - получение хэш-суммы объекта, например, для добавления в словарь.\n",
    "\n",
    "__bool__(self) - вызывается при проверке истинности. Если этот метод не определён, вызывается метод __len__ (объекты, имеющие ненулевую длину, считаются истинными).\n",
    "\n",
    "__getattr__(self, name) - вызывается, когда атрибут экземпляра класса не найден в обычных местах (например, у экземпляра нет метода с таким названием).\n",
    "\n",
    "__setattr__(self, name, value) - назначение атрибута.\n",
    "\n",
    "__delattr__(self, name) - удаление атрибута (del obj.name).\n",
    "\n",
    "__call__(self[, args...]) - вызов экземпляра класса как функции.\n",
    "\n",
    "__len__(self) - длина объекта.\n",
    "\n",
    "__getitem__(self, key) - доступ по индексу (или ключу).\n",
    "\n",
    "__setitem__(self, key, value) - назначение элемента по индексу.\n",
    "\n",
    "__delitem__(self, key) - удаление элемента по индексу.\n",
    "\n",
    "__iter__(self) - возвращает итератор для контейнера.\n",
    "\n",
    "__reversed__(self) - итератор из элементов, следующих в обратном порядке.\n",
    "\n",
    "__contains__(self, item) - проверка на принадлежность элемента контейнеру (item in self)."
   ]
  },
  {
   "cell_type": "markdown",
   "metadata": {},
   "source": [
    "В Python есть встроенная функция repr(), которая преобразует объект в строку. Но \"сырую\" строку. Что это значит, попробуем понять с помощью примера:"
   ]
  },
  {
   "cell_type": "code",
   "execution_count": null,
   "metadata": {},
   "outputs": [],
   "source": [
    "a = '3 + 2'\n",
    "b = repr(a)\n",
    "print(a)\n",
    "print(b)\n",
    "\n",
    "c = \"Hello\\nWorld\"\n",
    "d = repr(c)\n",
    "print(c)\n",
    "print(d)"
   ]
  },
  {
   "cell_type": "markdown",
   "metadata": {},
   "source": [
    "Функция repr() выполняет действия, направленные на своего рода защиту строки от интерпретации, оставляет ее \"сырой\", т. е. в исходном виде."
   ]
  },
  {
   "cell_type": "markdown",
   "metadata": {},
   "source": [
    "### Перегрузка арифметических операторов\n",
    "\n",
    "__add__(self, other) - сложение. x + y вызывает x.__add__(y).\n",
    "\n",
    "__sub__(self, other) - вычитание (x - y).\n",
    "\n",
    "__mul__(self, other) - умножение (x * y).\n",
    "\n",
    "__truediv__(self, other) - деление (x / y).\n",
    "\n",
    "__floordiv__(self, other) - целочисленное деление (x // y).\n",
    "\n",
    "__mod__(self, other) - остаток от деления (x % y).\n",
    "\n",
    "__divmod__(self, other) - частное и остаток (divmod(x, y)).\n",
    "\n",
    "__pow__(self, other[, modulo]) - возведение в степень (x ** y, pow(x, y[, modulo])).\n",
    "\n",
    "__lshift__(self, other) - битовый сдвиг влево (x << y).\n",
    "\n",
    "__rshift__(self, other) - битовый сдвиг вправо (x >> y).\n",
    "\n",
    "__and__(self, other) - битовое И (x & y).\n",
    "\n",
    "__xor__(self, other) - битовое ИСКЛЮЧАЮЩЕЕ ИЛИ (x ^ y).\n",
    "\n",
    "__or__(self, other) - битовое ИЛИ (x | y).\n",
    "\n",
    "Пойдём дальше.\n",
    "\n",
    "__radd__(self, other),\n",
    "\n",
    "__rsub__(self, other),\n",
    "\n",
    "__rmul__(self, other),\n",
    "\n",
    "__rtruediv__(self, other),\n",
    "\n",
    "__rfloordiv__(self, other),\n",
    "\n",
    "__rmod__(self, other),\n",
    "\n",
    "__rdivmod__(self, other),\n",
    "\n",
    "__rpow__(self, other),\n",
    "\n",
    "__rlshift__(self, other),\n",
    "\n",
    "__rrshift__(self, other),\n",
    "\n",
    "__rand__(self, other),\n",
    "\n",
    "__rxor__(self, other),\n",
    "\n",
    "__ror__(self, other) - делают то же самое, что и арифметические операторы, перечисленные выше, но для аргументов, находящихся справа, и только в случае, если для левого операнда не определён соответствующий метод.\n",
    "\n",
    "Например, операция x + y будет сначала пытаться вызвать x.__add__(y), и только в том случае, если это не получилось, будет пытаться вызвать y.__radd__(x). Аналогично для остальных методов.\n",
    "\n",
    "Идём дальше.\n",
    "\n",
    "__iadd__(self, other) - +=.\n",
    "\n",
    "__isub__(self, other) - -=.\n",
    "\n",
    "__imul__(self, other) - *=.\n",
    "\n",
    "__itruediv__(self, other) - /=.\n",
    "\n",
    "__ifloordiv__(self, other) - //=.\n",
    "\n",
    "__imod__(self, other) - %=.\n",
    "\n",
    "__ipow__(self, other[, modulo]) - **=.\n",
    "\n",
    "__ilshift__(self, other) - <<=.\n",
    "\n",
    "__irshift__(self, other) - >>=.\n",
    "\n",
    "__iand__(self, other) - &=.\n",
    "\n",
    "__ixor__(self, other) - ^=.\n",
    "\n",
    "__ior__(self, other) - |=.\n",
    "\n",
    "__neg__(self) - унарный -.\n",
    "\n",
    "__pos__(self) - унарный +.\n",
    "\n",
    "__abs__(self) - модуль (abs()).\n",
    "\n",
    "__invert__(self) - инверсия (~).\n",
    "\n",
    "__complex__(self) - приведение к complex.\n",
    "\n",
    "__int__(self) - приведение к int.\n",
    "\n",
    "__float__(self) - приведение к float.\n",
    "\n",
    "__round__(self[, n]) - округление.\n",
    "\n",
    "__enter__(self), __exit__(self, exc_type, exc_value, traceback) - реализация менеджеров контекста.\n",
    "\n",
    "Рассмотрим некоторые из этих методов на примере двухмерного вектора, для которого переопределим некоторые методы:"
   ]
  },
  {
   "cell_type": "code",
   "execution_count": null,
   "metadata": {},
   "outputs": [],
   "source": [
    "import math\n",
    "\n",
    "class Vector2D:\n",
    "    def __init__(self, x, y):\n",
    "        self.x = x\n",
    "        self.y = y\n",
    "\n",
    "    def __repr__(self):\n",
    "        return 'Vector({}, {})'.format(self.x, self.y)\n",
    "\n",
    "    def __str__(self):\n",
    "        return '({}, {})'.format(self.x, self.y)\n",
    "\n",
    "    def __add__(self, other):\n",
    "        return Vector2D(self.x + other.x, self.y + other.y)\n",
    "\n",
    "    def __iadd__(self, other):\n",
    "        self.x += other.x\n",
    "        self.y += other.y\n",
    "        return self\n",
    "\n",
    "    def __sub__(self, other):\n",
    "        return Vector2D(self.x - other.x, self.y - other.y)\n",
    "\n",
    "    def __isub__(self, other):\n",
    "        self.x -= other.x\n",
    "        self.y -= other.y\n",
    "        return self\n",
    "    \n",
    "    def __eq__(self, other):\n",
    "        return self.x==other.x & self.y==other.y\n",
    "\n",
    "    def __abs__(self):\n",
    "        return math.hypot(self.x, self.y)\n",
    "\n",
    "    def __bool__(self):\n",
    "        return self.x != 0 or self.y != 0\n",
    "\n",
    "    def __neg__(self):\n",
    "        return Vector2D(-self.x, -self.y)\n",
    "    \n",
    "# Выполним создание двух векторов\n",
    "a = Vector2D(3, 4)\n",
    "b = Vector2D(3, -5)"
   ]
  },
  {
   "cell_type": "markdown",
   "metadata": {},
   "source": [
    "#### Сложение векторов"
   ]
  },
  {
   "cell_type": "code",
   "execution_count": null,
   "metadata": {},
   "outputs": [],
   "source": [
    "print(a+b)\n",
    "a+b"
   ]
  },
  {
   "cell_type": "markdown",
   "metadata": {},
   "source": [
    "#### Вычитание векторов"
   ]
  },
  {
   "cell_type": "code",
   "execution_count": null,
   "metadata": {},
   "outputs": [],
   "source": [
    "print(a-b)\n",
    "a-b"
   ]
  },
  {
   "cell_type": "markdown",
   "metadata": {},
   "source": [
    "#### Сравнение векторов"
   ]
  },
  {
   "cell_type": "code",
   "execution_count": null,
   "metadata": {},
   "outputs": [],
   "source": [
    "print(a==b)"
   ]
  },
  {
   "cell_type": "markdown",
   "metadata": {},
   "source": [
    "#### Отрицательный вектор"
   ]
  },
  {
   "cell_type": "code",
   "execution_count": null,
   "metadata": {},
   "outputs": [],
   "source": [
    "print(-b)"
   ]
  },
  {
   "cell_type": "markdown",
   "metadata": {},
   "source": [
    "#### Модуль вектора"
   ]
  },
  {
   "cell_type": "code",
   "execution_count": null,
   "metadata": {},
   "outputs": [],
   "source": [
    "print(abs(a))"
   ]
  },
  {
   "cell_type": "code",
   "execution_count": null,
   "metadata": {},
   "outputs": [],
   "source": []
  }
 ],
 "metadata": {
  "kernelspec": {
   "display_name": "Python 3",
   "language": "python",
   "name": "python3"
  },
  "language_info": {
   "codemirror_mode": {
    "name": "ipython",
    "version": 3
   },
   "file_extension": ".py",
   "mimetype": "text/x-python",
   "name": "python",
   "nbconvert_exporter": "python",
   "pygments_lexer": "ipython3",
   "version": "3.8.5"
  }
 },
 "nbformat": 4,
 "nbformat_minor": 4
}
