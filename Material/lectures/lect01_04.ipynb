{
 "cells": [
  {
   "cell_type": "markdown",
   "metadata": {},
   "source": [
    "# <font color=red>Лекция 1.4</font> <font color=blue>Символы и строки</font>"
   ]
  },
  {
   "cell_type": "markdown",
   "metadata": {},
   "source": [
    "Строка представляет последовательность символов в кодировке Unicode. И мы можем обратиться к отдельным символам строки по индексу в квадратных скобках:"
   ]
  },
  {
   "cell_type": "code",
   "execution_count": 4,
   "metadata": {},
   "outputs": [
    {
     "name": "stdout",
     "output_type": "stream",
     "text": [
      "h\n",
      "w\n"
     ]
    },
    {
     "ename": "IndexError",
     "evalue": "string index out of range",
     "output_type": "error",
     "traceback": [
      "\u001b[1;31m---------------------------------------------------------------------------\u001b[0m",
      "\u001b[1;31mIndexError\u001b[0m                                Traceback (most recent call last)",
      "\u001b[1;32m<ipython-input-4-c46e69deef10>\u001b[0m in \u001b[0;36m<module>\u001b[1;34m\u001b[0m\n\u001b[0;32m      5\u001b[0m \u001b[0mprint\u001b[0m\u001b[1;33m(\u001b[0m\u001b[0mc6\u001b[0m\u001b[1;33m)\u001b[0m\u001b[1;33m\u001b[0m\u001b[1;33m\u001b[0m\u001b[0m\n\u001b[0;32m      6\u001b[0m \u001b[1;33m\u001b[0m\u001b[0m\n\u001b[1;32m----> 7\u001b[1;33m \u001b[0mc11\u001b[0m \u001b[1;33m=\u001b[0m \u001b[0mstring\u001b[0m\u001b[1;33m[\u001b[0m\u001b[1;36m11\u001b[0m\u001b[1;33m]\u001b[0m  \u001b[1;31m# ошибка IndexError: string index out of range\u001b[0m\u001b[1;33m\u001b[0m\u001b[1;33m\u001b[0m\u001b[0m\n\u001b[0m\u001b[0;32m      8\u001b[0m \u001b[0mprint\u001b[0m\u001b[1;33m(\u001b[0m\u001b[0mc11\u001b[0m\u001b[1;33m)\u001b[0m\u001b[1;33m\u001b[0m\u001b[1;33m\u001b[0m\u001b[0m\n",
      "\u001b[1;31mIndexError\u001b[0m: string index out of range"
     ]
    }
   ],
   "source": [
    "string = \"hello world\"\n",
    "c0 = string[0]  # h\n",
    "print(c0)\n",
    "c6 = string[6]  # w\n",
    "print(c6)\n",
    " \n",
    "#c11 = string[11]  # ошибка IndexError: string index out of range\n",
    "#print(c11)"
   ]
  },
  {
   "cell_type": "markdown",
   "metadata": {},
   "source": [
    "Индексация начинается с нуля, поэтому первый символ строки будет иметь индекс 0. А если мы попытаемся обратиться к индексу, которого нет в строке, то мы получим исключение IndexError. Например, в случае выше длина строки 11 символов, поэтому ее символы будут иметь индексы от 0 до 10.\n",
    "\n",
    "Чтобы получить доступ к символам, начиная с конца строки, можно использовать отрицательные индексы. Так, индекс -1 будет представлять последний символ, а -2 - предпоследний символ и так далее:"
   ]
  },
  {
   "cell_type": "code",
   "execution_count": 5,
   "metadata": {},
   "outputs": [
    {
     "name": "stdout",
     "output_type": "stream",
     "text": [
      "d\n",
      "w\n"
     ]
    }
   ],
   "source": [
    "string = \"hello world\"\n",
    "c1 = string[-1]  # d\n",
    "print(c1)\n",
    "c5 = string[-5]  # w\n",
    "print(c5)"
   ]
  },
  {
   "cell_type": "markdown",
   "metadata": {},
   "source": [
    "При работе с символами следует учитывать, что строка - это неизменяемый (immutable) тип, поэтому если мы попробуем изменить какой-то отдельный символ строки, то мы получим ошибку, как в следующем случае:"
   ]
  },
  {
   "cell_type": "code",
   "execution_count": 6,
   "metadata": {},
   "outputs": [
    {
     "ename": "TypeError",
     "evalue": "'str' object does not support item assignment",
     "output_type": "error",
     "traceback": [
      "\u001b[1;31m---------------------------------------------------------------------------\u001b[0m",
      "\u001b[1;31mTypeError\u001b[0m                                 Traceback (most recent call last)",
      "\u001b[1;32m<ipython-input-6-cfd9d37cfe48>\u001b[0m in \u001b[0;36m<module>\u001b[1;34m\u001b[0m\n\u001b[0;32m      1\u001b[0m \u001b[0mstring\u001b[0m \u001b[1;33m=\u001b[0m \u001b[1;34m\"hello world\"\u001b[0m\u001b[1;33m\u001b[0m\u001b[1;33m\u001b[0m\u001b[0m\n\u001b[1;32m----> 2\u001b[1;33m \u001b[0mstring\u001b[0m\u001b[1;33m[\u001b[0m\u001b[1;36m1\u001b[0m\u001b[1;33m]\u001b[0m \u001b[1;33m=\u001b[0m \u001b[1;34m\"R\"\u001b[0m\u001b[1;33m\u001b[0m\u001b[1;33m\u001b[0m\u001b[0m\n\u001b[0m",
      "\u001b[1;31mTypeError\u001b[0m: 'str' object does not support item assignment"
     ]
    }
   ],
   "source": [
    "string = \"hello world\"\n",
    "string[1] = \"R\""
   ]
  },
  {
   "cell_type": "markdown",
   "metadata": {},
   "source": [
    "Мы можем только полностью переустановить значение строки, присвоив ей другое значение."
   ]
  },
  {
   "cell_type": "markdown",
   "metadata": {},
   "source": [
    "### Получение подстроки"
   ]
  },
  {
   "cell_type": "markdown",
   "metadata": {},
   "source": [
    "При необходимости мы можем получить из строки не только отдельные символы, но и подстроку. Для этого используется следующий синтаксис:\n",
    "\n",
    "    string[:end]: извлекается последовательность символов начиная с 0-го индекса по индекс end\n",
    "    string[start:end]: извлекается последовательность символов начиная с индекса start по индекс end\n",
    "    string[start:end:step]: извлекается последовательность символов начиная с индекса start по индекс end через шаг step\n",
    "\n",
    "Используем все варианты получения подстроки:"
   ]
  },
  {
   "cell_type": "code",
   "execution_count": 16,
   "metadata": {},
   "outputs": [
    {
     "name": "stdout",
     "output_type": "stream",
     "text": [
      "hello\n",
      "llo\n",
      "lowr\n"
     ]
    }
   ],
   "source": [
    "string = \"hello world\"\n",
    " \n",
    "# с 0 до 5 символа\n",
    "sub_string1 = string[:5]\n",
    "print(sub_string1)      # hello\n",
    " \n",
    "# со 2 до 5 символа\n",
    "sub_string2 = string[2:5]\n",
    "print(sub_string2)      # llo\n",
    " \n",
    "# со 2 по 9 символ через один символ\n",
    "sub_string3 = string[2:9:2]\n",
    "print(sub_string3)      # lowr"
   ]
  },
  {
   "cell_type": "code",
   "execution_count": 15,
   "metadata": {},
   "outputs": [
    {
     "name": "stdout",
     "output_type": "stream",
     "text": [
      "lo world\n"
     ]
    }
   ],
   "source": [
    "string = \"hello world\"\n",
    "# со 2 по 9 символ через один символ\n",
    "sub_string3 = string[3:]\n",
    "print(sub_string3) #eoo"
   ]
  },
  {
   "cell_type": "markdown",
   "metadata": {},
   "source": [
    "### Функции ord и len"
   ]
  },
  {
   "cell_type": "markdown",
   "metadata": {},
   "source": [
    "Поскольку строка содержит символы Unicode, то с помощью функции ord() мы можем получить числовое значение для символа в кодировке Unicode:"
   ]
  },
  {
   "cell_type": "code",
   "execution_count": 19,
   "metadata": {},
   "outputs": [
    {
     "name": "stdout",
     "output_type": "stream",
     "text": [
      "65\n"
     ]
    }
   ],
   "source": [
    "print(ord(\"A\"))     # 65"
   ]
  },
  {
   "cell_type": "markdown",
   "metadata": {},
   "source": [
    "Для получения длины строки можно использовать функцию len():"
   ]
  },
  {
   "cell_type": "code",
   "execution_count": 20,
   "metadata": {},
   "outputs": [
    {
     "name": "stdout",
     "output_type": "stream",
     "text": [
      "11\n"
     ]
    }
   ],
   "source": [
    "string = \"hello world\"\n",
    "length = len(string)\n",
    "print(length)   # 11"
   ]
  },
  {
   "cell_type": "markdown",
   "metadata": {},
   "source": [
    "### Поиск в строке"
   ]
  },
  {
   "cell_type": "markdown",
   "metadata": {},
   "source": [
    "C помощью выражения term in string можно найти подстроку term в строке string. Если подстрока найдена, то выражение вернет значение True, иначе возвращается значение False:"
   ]
  },
  {
   "cell_type": "code",
   "execution_count": 21,
   "metadata": {},
   "outputs": [
    {
     "name": "stdout",
     "output_type": "stream",
     "text": [
      "True\n",
      "False\n"
     ]
    }
   ],
   "source": [
    "string = \"hello world\"\n",
    "exist = \"hello\" in string\n",
    "print(exist)    # True\n",
    " \n",
    "exist = \"sword\" in string\n",
    "print(exist)    # False"
   ]
  },
  {
   "cell_type": "markdown",
   "metadata": {},
   "source": [
    "### Перебор строки"
   ]
  },
  {
   "cell_type": "markdown",
   "metadata": {},
   "source": [
    "С помощью цикла for можно перебрать все символы строки:"
   ]
  },
  {
   "cell_type": "code",
   "execution_count": 22,
   "metadata": {},
   "outputs": [
    {
     "name": "stdout",
     "output_type": "stream",
     "text": [
      "h\n",
      "e\n",
      "l\n",
      "l\n",
      "o\n",
      " \n",
      "w\n",
      "o\n",
      "r\n",
      "l\n",
      "d\n"
     ]
    }
   ],
   "source": [
    "string = \"hello world\"\n",
    "for char in string:\n",
    "    print(char)"
   ]
  },
  {
   "cell_type": "markdown",
   "metadata": {},
   "source": [
    "## <font color=\"blue\">Основные методы строк</font>"
   ]
  },
  {
   "cell_type": "markdown",
   "metadata": {},
   "source": [
    "Рассмотрим основные методы строк, которые мы можем применить в приложениях:\n",
    "\n",
    "    isalpha(): возвращает True, если строка состоит только из алфавитных символов\n",
    "\n",
    "    islower(): возвращает True, если строка состоит только из символов в нижнем регистре\n",
    "\n",
    "    isupper(): возвращает True, если все символы строки в верхнем регистре\n",
    "\n",
    "    isdigit(): возвращает True, если все символы строки - цифры\n",
    "\n",
    "    isnumeric(): возвращает True, если строка представляет собой число\n",
    "\n",
    "    startswith(str): возвращает True, если строка начинается с подстроки str\n",
    "\n",
    "    endswith(str): возвращает True, если строка заканчивается на подстроку str\n",
    "\n",
    "    lower(): переводит строку в нижний регистр\n",
    "\n",
    "    upper(): переводит строку в вехний регистр\n",
    "\n",
    "    title(): начальные символы всех слов в строке переводятся в верхний регистр\n",
    "\n",
    "    capitalize(): переводит в верхний регистр первую букву только самого первого слова строки\n",
    "\n",
    "    lstrip(): удаляет начальные пробелы из строки\n",
    "\n",
    "    rstrip(): удаляет конечные пробелы из строки\n",
    "\n",
    "    strip(): удаляет начальные и конечные пробелы из строки\n",
    "\n",
    "    ljust(width): если длина строки меньше параметра width, то справа от строки добавляются пробелы, чтобы дополнить значение width, а сама строка выравнивается по левому краю\n",
    "\n",
    "    rjust(width): если длина строки меньше параметра width, то слева от строки добавляются пробелы, чтобы дополнить значение width, а сама строка выравнивается по правому краю\n",
    "\n",
    "    center(width): если длина строки меньше параметра width, то слева и справа от строки равномерно добавляются пробелы, чтобы дополнить значение width, а сама строка выравнивается по центру\n",
    "\n",
    "    find(str[, start [, end]): возвращает индекс подстроки в строке. Если подстрока не найдена, возвращается число -1\n",
    "\n",
    "    replace(old, new[, num]): заменяет в строке одну подстроку на другую\n",
    "\n",
    "    split([delimeter[, num]]): разбивает строку на подстроки в зависимости от разделителя\n",
    "\n",
    "    join(strs): объединяет строки в одну строку, вставляя между ними определенный разделитель\n",
    "\n",
    "Например, если мы ожидаем ввод с клавиатуры числа, то перед преобразованием введенной строки в число можно проверить, с помощью метода isnumeric() введено ли в действительности число, и если так, то выполнить операцию преобразования:"
   ]
  },
  {
   "cell_type": "code",
   "execution_count": 26,
   "metadata": {},
   "outputs": [
    {
     "name": "stdout",
     "output_type": "stream",
     "text": [
      "Введите число: 12a\n"
     ]
    }
   ],
   "source": [
    "string = input(\"Введите число: \")\n",
    "if string.isnumeric():\n",
    "    number = int(string)\n",
    "    print(number)"
   ]
  },
  {
   "cell_type": "markdown",
   "metadata": {},
   "source": [
    "Проверка, начинается или оканчивается строка на определенную подстроку:"
   ]
  },
  {
   "cell_type": "code",
   "execution_count": 29,
   "metadata": {},
   "outputs": [],
   "source": [
    "file_name = \"hello.py\"\n",
    "starts_with_hello = file_name.startswith(\"hello\")   # True\n",
    "ends_with_exe = file_name.endswith(\"exe\")           # False"
   ]
  },
  {
   "cell_type": "markdown",
   "metadata": {},
   "source": [
    "Удаление пробелов в начале и в конце строки:"
   ]
  },
  {
   "cell_type": "code",
   "execution_count": 33,
   "metadata": {},
   "outputs": [
    {
     "name": "stdout",
     "output_type": "stream",
     "text": [
      "   hello  world!  \n",
      "18\n",
      "hello  world!\n",
      "13\n"
     ]
    }
   ],
   "source": [
    "string = \"   hello  world!  \"\n",
    "print(string)\n",
    "print(len(string))\n",
    "string = string.strip()\n",
    "print(string)\n",
    "print(len(string))           # hello  world!"
   ]
  },
  {
   "cell_type": "markdown",
   "metadata": {},
   "source": [
    "Дополнение строки пробелами и выравнивание:"
   ]
  },
  {
   "cell_type": "code",
   "execution_count": 39,
   "metadata": {},
   "outputs": [
    {
     "name": "stdout",
     "output_type": "stream",
     "text": [
      "iPhone 7: 52000000\n",
      "Huawei P10:      36000\n"
     ]
    }
   ],
   "source": [
    "print(\"iPhone 7:\", \"52000000\".rjust(0))\n",
    "print(\"Huawei P10:\", \"36000\".rjust(10))"
   ]
  },
  {
   "cell_type": "markdown",
   "metadata": {},
   "source": [
    "#### Поиск в строке"
   ]
  },
  {
   "cell_type": "markdown",
   "metadata": {},
   "source": [
    "Для поиска подстроки в строке в Python применяется метод find(), который возвращает индекс первого вхождения подстроки в строку и имеет три формы:\n",
    "\n",
    "    find(str): поиск подстроки str ведется с начала строки до ее конца\n",
    "\n",
    "    find(str, start): параметр start задает начальный индекс, с которого будет производиться поиск\n",
    "\n",
    "    find(str, start, end): параметр end задает конечный индекс, до которого будет идти поиск\n",
    "\n",
    "Если подстрока не найдена, метод возвращает -1:"
   ]
  },
  {
   "cell_type": "code",
   "execution_count": null,
   "metadata": {},
   "outputs": [],
   "source": [
    "welcome = \"Hello world! Goodbye world!\"\n",
    "index = welcome.find(\"wor\")\n",
    "print(index)       # 6\n",
    " \n",
    "# поиск с 10-го индекса\n",
    "index = welcome.find(\"wor\",10)\n",
    "print(index)       # 21\n",
    " \n",
    "# поиск с 10 по 15 индекс\n",
    "index = welcome.find(\"wor\",10,15)\n",
    "print(index)       # -1"
   ]
  },
  {
   "cell_type": "markdown",
   "metadata": {},
   "source": [
    "### Замена в строке"
   ]
  },
  {
   "cell_type": "markdown",
   "metadata": {},
   "source": [
    "Для замены в строке одной подстроки на другую применяется метод replace():\n",
    "\n",
    "    replace(old, new): заменяет подстроку old на new\n",
    "\n",
    "    replace(old, new, num): параметр num указывает, сколько вхождений подстроки old надо заменить на new\n"
   ]
  },
  {
   "cell_type": "code",
   "execution_count": null,
   "metadata": {},
   "outputs": [],
   "source": [
    "phone = \"+1-234-567-89-10\"\n",
    " \n",
    "# замена дефисов на пробел\n",
    "edited_phone = phone.replace(\"-\", \" \")\n",
    "print(edited_phone)     # +1 234 567 89 10\n",
    " \n",
    "# удаление дефисов\n",
    "edited_phone = phone.replace(\"-\", \"\")\n",
    "print(edited_phone)     # +12345678910\n",
    " \n",
    "# замена только первого дефиса\n",
    "edited_phone = phone.replace(\"-\", \"\", 1)\n",
    "print(edited_phone)     # +1234-567-89-10"
   ]
  },
  {
   "cell_type": "markdown",
   "metadata": {},
   "source": [
    "### Разделение на подстроки"
   ]
  },
  {
   "cell_type": "markdown",
   "metadata": {},
   "source": [
    "Метод split() разбивает строку на список подстрок в зависимости от разделителя. В качестве разделителя может выступать любой символ или последовательность символов. Данный метод имеет следующие формы:\n",
    "\n",
    "    split(): в качестве разделителя используется пробел\n",
    "\n",
    "    split(delimeter): в качестве разделителя используется delimeter\n",
    "\n",
    "    split(delimeter, num): параметр num указывает, сколько вхождений delimeter используется для разделения. Оставшаяся часть строки добавляется в список без разделения на подстроки\n"
   ]
  },
  {
   "cell_type": "code",
   "execution_count": 40,
   "metadata": {},
   "outputs": [
    {
     "name": "stdout",
     "output_type": "stream",
     "text": [
      "['Это', 'был', 'огромный,', 'в', 'два', 'обхвата', 'дуб,', 'с', 'обломанными', 'ветвями', 'и', 'с', 'обломанной', 'корой']\n",
      "дуб,\n",
      "['Это был огромный', ' в два обхвата дуб', ' с обломанными ветвями и с обломанной корой']\n",
      " в два обхвата дуб\n",
      "['Это', 'был', 'огромный,', 'в', 'два', 'обхвата дуб, с обломанными ветвями и с обломанной корой']\n",
      "обхвата дуб, с обломанными ветвями и с обломанной корой\n"
     ]
    }
   ],
   "source": [
    "text = \"Это был огромный, в два обхвата дуб, с обломанными ветвями и с обломанной корой\"\n",
    "# разделение по пробелам\n",
    "splitted_text = text.split()\n",
    "print(splitted_text)\n",
    "print(splitted_text[6])     # дуб,\n",
    " \n",
    "# разбиение по запятым\n",
    "splitted_text = text.split(\",\")\n",
    "print(splitted_text)\n",
    "print(splitted_text[1])     # в два обхвата дуб\n",
    " \n",
    "# разбиение по первым пяти пробелам\n",
    "splitted_text = text.split(\" \", 5)\n",
    "print(splitted_text)        \n",
    "print(splitted_text[5])     # обхвата дуб, с обломанными ветвями и с обломанной корой"
   ]
  },
  {
   "cell_type": "markdown",
   "metadata": {},
   "source": [
    "### Соединение строк"
   ]
  },
  {
   "cell_type": "markdown",
   "metadata": {},
   "source": [
    "При рассмотрении простейших операций со строками было показано, как объединять строки с помощью операции сложения. Другую возможность для соединения строк представляет метод join(): он объединяет список строк. Причем текущая строка, у которой вызывается данный метод, используется в качестве разделителя:"
   ]
  },
  {
   "cell_type": "code",
   "execution_count": null,
   "metadata": {},
   "outputs": [],
   "source": [
    "words = [\"Let\", \"me\", \"speak\", \"from\", \"my\", \"heart\", \"in\", \"English\"]\n",
    " \n",
    "# разделитель - пробел\n",
    "sentence = \" \".join(words)\n",
    "print(sentence)  # Let me speak from my heart in English\n",
    " \n",
    "# разделитель - вертикальная черта\n",
    "sentence = \" | \".join(words)\n",
    "print(sentence)  # Let | me | speak | from | my | heart | in | English"
   ]
  },
  {
   "cell_type": "markdown",
   "metadata": {},
   "source": [
    "Вместо списка в метод join можно передать простую строку, тогда разделитель будет вставляться между символами этой строки:"
   ]
  },
  {
   "cell_type": "code",
   "execution_count": null,
   "metadata": {},
   "outputs": [],
   "source": [
    "word = \"hello\"\n",
    "joined_word = \"|\".join(word)\n",
    "print(joined_word)      # h|e|l|l|o"
   ]
  },
  {
   "cell_type": "markdown",
   "metadata": {},
   "source": [
    "## <center>Программа подсчета слов</center>"
   ]
  },
  {
   "cell_type": "markdown",
   "metadata": {},
   "source": [
    "Рассмотрим работу со строками на небольшом примере, который будет представлять программу подсчета слов, введенных с клавиатуры.\n",
    "\n",
    "Пусть весь код программы будет выглядеть следующим образом:"
   ]
  },
  {
   "cell_type": "code",
   "execution_count": null,
   "metadata": {},
   "outputs": [],
   "source": []
  }
 ],
 "metadata": {
  "kernelspec": {
   "display_name": "Python 3",
   "language": "python",
   "name": "python3"
  },
  "language_info": {
   "codemirror_mode": {
    "name": "ipython",
    "version": 3
   },
   "file_extension": ".py",
   "mimetype": "text/x-python",
   "name": "python",
   "nbconvert_exporter": "python",
   "pygments_lexer": "ipython3",
   "version": "3.8.5"
  }
 },
 "nbformat": 4,
 "nbformat_minor": 4
}
