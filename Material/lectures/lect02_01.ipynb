{
 "cells": [
  {
   "cell_type": "markdown",
   "metadata": {},
   "source": [
    "# <font color=red>Лекция 2.1</font> <font color=blue>Списки, кортежи, словари</font>"
   ]
  },
  {
   "cell_type": "markdown",
   "metadata": {},
   "source": [
    "Для работы с наборами данных Python предоставляет такие встроенные типы как списки, кортежи и словари."
   ]
  },
  {
   "cell_type": "markdown",
   "metadata": {},
   "source": [
    "## <font color=\"blue\">Списки</font>"
   ]
  },
  {
   "cell_type": "markdown",
   "metadata": {},
   "source": [
    "Список (list) представляет тип данных, который хранит набор или последовательность элементов. Для создания списка в квадратных скобках ([]) через запятую перечисляются все его элементы. Во многих языках программирования есть аналогичная структура данных, которая называется массив. Например, определим список чисел:"
   ]
  },
  {
   "cell_type": "code",
   "execution_count": null,
   "metadata": {},
   "outputs": [],
   "source": [
    "numbers = [1, 2, 3, 4, 5]\n",
    "print(numbers)"
   ]
  },
  {
   "cell_type": "markdown",
   "metadata": {},
   "source": [
    "Для обращения к элементам списка надо использовать индексы, которые представляют номер элемента в списка. Индексы начинаются с нуля. То есть второй элемент будет иметь индекс 1. Для обращения к элементам с конца можно использовать отрицательные индексы, начиная с -1. То есть у последнего элемента будет индекс -1, у предпоследнего - -2 и так далее."
   ]
  },
  {
   "cell_type": "code",
   "execution_count": null,
   "metadata": {},
   "outputs": [],
   "source": [
    "numbers = [1, 2, 3, 4, 5]\n",
    "print(numbers[0])   # 1\n",
    "print(numbers[2])   # 3\n",
    "print(numbers[-3])  # 3\n",
    " \n",
    "numbers[0] = 125  # изменяем первый элемент списка\n",
    "print(numbers[0])   # 125\n",
    "print(numbers)"
   ]
  },
  {
   "cell_type": "markdown",
   "metadata": {},
   "source": [
    "Если необходимо создать список, в котором повторяется одно и то же значение несколько раз, то можно использовать символ звездочки *. Например, определим список из шести пятерок:"
   ]
  },
  {
   "cell_type": "code",
   "execution_count": null,
   "metadata": {},
   "outputs": [],
   "source": [
    "numbers = [5] * 6  # [5, 5, 5, 5, 5, 5]\n",
    "print(numbers)"
   ]
  },
  {
   "cell_type": "markdown",
   "metadata": {},
   "source": [
    "Кроме того, если нам необходим последовательный список чисел, то для его создания удобно использовать функцию range, которая имеет три формы:\n",
    "\n",
    "    range(end): создается набор чисел от 0 до числа end\n",
    "\n",
    "    range(start, end): создается набор чисел от числа start до числа end\n",
    "\n",
    "    range(start, end, step): создается набор чисел от числа start до числа end с шагом step\n"
   ]
  },
  {
   "cell_type": "code",
   "execution_count": null,
   "metadata": {},
   "outputs": [],
   "source": [
    "numbers = list(range(10))\n",
    "print(numbers)      # [0, 1, 2, 3, 4, 5, 6, 7, 8, 9]\n",
    "numbers = list(range(2, 10))\n",
    "print(numbers)      # [2, 3, 4, 5, 6, 7, 8, 9]\n",
    "numbers = list(range(10, 2, -2))\n",
    "print(numbers)      # [10, 8, 6, 4]"
   ]
  },
  {
   "cell_type": "markdown",
   "metadata": {},
   "source": [
    "Список необязательно должен содержать только однотипные объекты. Мы можем поместить в один и тот же список одновременно строки, числа, объекты других типов данных:"
   ]
  },
  {
   "cell_type": "code",
   "execution_count": null,
   "metadata": {},
   "outputs": [],
   "source": [
    "objects = [1, 2.6, \"Hello\", True]\n",
    "print(objects)"
   ]
  },
  {
   "cell_type": "markdown",
   "metadata": {},
   "source": [
    "#### Перебор элементов"
   ]
  },
  {
   "cell_type": "markdown",
   "metadata": {},
   "source": [
    "Для перебора элементов можно использовать как цикл for, так и цикл while.\n",
    "\n",
    "Перебор с помощью цикла for:"
   ]
  },
  {
   "cell_type": "code",
   "execution_count": null,
   "metadata": {},
   "outputs": [],
   "source": [
    "companies = [\"Microsoft\", \"Google\", \"Oracle\", \"Apple\"]\n",
    "for item in companies:\n",
    "    print(item)"
   ]
  },
  {
   "cell_type": "markdown",
   "metadata": {},
   "source": [
    "Здесь вместо функции range мы сразу можем подставить имеющийся список companies.\n",
    "\n",
    "Перебор с помощью цикла while:"
   ]
  },
  {
   "cell_type": "code",
   "execution_count": null,
   "metadata": {},
   "outputs": [],
   "source": [
    "companies = [\"Microsoft\", \"Google\", \"Oracle\", \"Apple\"]\n",
    "i = 0\n",
    "while i < len(companies):\n",
    "    print(companies[i])\n",
    "    i += 1"
   ]
  },
  {
   "cell_type": "markdown",
   "metadata": {},
   "source": [
    "Для перебора с помощью функции len() получаем длину списка. С помощью счетчика i выводит по элементу, пока значение счетчика не станет равно длине списка."
   ]
  },
  {
   "cell_type": "markdown",
   "metadata": {},
   "source": [
    "#### Сравнение списков"
   ]
  },
  {
   "cell_type": "markdown",
   "metadata": {},
   "source": [
    "Два списка считаются равными, если они содержат один и тот же набор элементов:"
   ]
  },
  {
   "cell_type": "code",
   "execution_count": null,
   "metadata": {},
   "outputs": [],
   "source": [
    "numbers = [1, 2, 3, 4, 5, 6, 7, 8, 9]\n",
    "numbers2 = list(range(1,10))\n",
    "if numbers == numbers2:\n",
    "    print(\"numbers equal to numbers2\")\n",
    "else:\n",
    "    print(\"numbers is not equal to numbers2\")"
   ]
  },
  {
   "cell_type": "markdown",
   "metadata": {},
   "source": [
    "В данном случае оба списка будут равны."
   ]
  },
  {
   "cell_type": "markdown",
   "metadata": {},
   "source": [
    "#### Методы и функции по работе со списками"
   ]
  },
  {
   "cell_type": "markdown",
   "metadata": {},
   "source": [
    "Для управления элементами списки имеют целый ряд методов. Некоторые из них:\n",
    "\n",
    "    append(item): добавляет элемент item в конец списка\n",
    "\n",
    "    insert(index, item): добавляет элемент item в список по индексу index\n",
    "\n",
    "    remove(item): удаляет элемент item. Удаляется только первое вхождение элемента. Если элемент не найден, генерирует исключение ValueError\n",
    "\n",
    "    clear(): удаление всех элементов из списка\n",
    "\n",
    "    index(item): возвращает индекс элемента item. Если элемент не найден, генерирует исключение ValueError\n",
    "\n",
    "    pop([index]): удаляет и возвращает элемент по индексу index. Если индекс не передан, то просто удаляет последний элемент.\n",
    "\n",
    "    count(item): возвращает количество вхождений элемента item в список\n",
    "\n",
    "    sort([key]): сортирует элементы. По умолчанию сортирует по возрастанию. Но с помощью параметра key мы можем передать функцию сортировки.\n",
    "\n",
    "    reverse(): расставляет все элементы в списке в обратном порядке\n",
    "\n",
    "Кроме того, Python предоставляет ряд встроенных функций для работы со списками:\n",
    "\n",
    "    len(list): возвращает длину списка\n",
    "\n",
    "    sorted(list, [key]): возвращает отсортированный список\n",
    "\n",
    "    min(list): возвращает наименьший элемент списка\n",
    "\n",
    "    max(list): возвращает наибольший элемент списка\n"
   ]
  },
  {
   "cell_type": "markdown",
   "metadata": {},
   "source": [
    "#### Добавление и удаление элементов"
   ]
  },
  {
   "cell_type": "markdown",
   "metadata": {},
   "source": [
    "Для добавления элемента применяются методы append() и insert, а для удаления - методы remove(), pop() и clear().\n",
    "\n",
    "Использование методов:"
   ]
  },
  {
   "cell_type": "code",
   "execution_count": null,
   "metadata": {},
   "outputs": [],
   "source": [
    "users = [\"Tom\", \"Bob\"]\n",
    " \n",
    "# добавляем в конец списка\n",
    "users.append(\"Alice\")  # [\"Tom\", \"Bob\", \"Alice\"]\n",
    "# добавляем на вторую позицию\n",
    "users.insert(1, \"Bill\")          # [\"Tom\", \"Bill\", \"Bob\", \"Alice\"]\n",
    " \n",
    "# получаем индекс элемента\n",
    "i = users.index(\"Tom\")\n",
    "print(i)                        # 0\n",
    "# удаляем по этому индексу\n",
    "removed_item = users.pop(i)            # [\"Bill\", \"Bob\", \"Alice\"]\n",
    " \n",
    "last_user = users[-1]\n",
    "print(last_user)                # \"Alice\"\n",
    "# удаляем последний элемент\n",
    "users.remove(last_user)           # [\"Bill\", \"Bob\"]\n",
    " \n",
    "print(users)\n",
    " \n",
    "# удаляем все элементы\n",
    "users.clear()"
   ]
  },
  {
   "cell_type": "markdown",
   "metadata": {},
   "source": [
    "#### Проверка наличия элемента"
   ]
  },
  {
   "cell_type": "markdown",
   "metadata": {},
   "source": [
    "Если определенный элемент не найден, то методы remove и index генерируют исключение. Чтобы избежать подобной ситуации, перед операцией с элементом можно проверять его наличие с помощью ключевого слова in:"
   ]
  },
  {
   "cell_type": "code",
   "execution_count": null,
   "metadata": {},
   "outputs": [],
   "source": [
    "companies = [\"Microsoft\", \"Google\", \"Oracle\", \"Apple\"]\n",
    "item = \"Oracle\"  # элемент для удаления\n",
    "if item in companies:\n",
    "    companies.remove(item)\n",
    " \n",
    "print(companies)"
   ]
  },
  {
   "cell_type": "markdown",
   "metadata": {},
   "source": [
    "Выражение item in companies возвращает True, если элемент item имеется в списке companies. Поэтому конструкция if item in companies может выполнить последующий блок инструкций в зависимости от наличия элемента в списке."
   ]
  },
  {
   "cell_type": "markdown",
   "metadata": {},
   "source": [
    "#### Подсчет вхождений"
   ]
  },
  {
   "cell_type": "markdown",
   "metadata": {},
   "source": [
    "Если необходимо узнать, сколько раз в списке присутствует тот или иной элемент, то можно применить метод count():"
   ]
  },
  {
   "cell_type": "code",
   "execution_count": null,
   "metadata": {},
   "outputs": [],
   "source": [
    "users = [\"Tom\", \"Bob\", \"Alice\", \"Tom\", \"Bill\", \"Tom\"]\n",
    " \n",
    "print(users.count(\"Tom\"))      # 3"
   ]
  },
  {
   "cell_type": "markdown",
   "metadata": {},
   "source": [
    "#### Сортировка"
   ]
  },
  {
   "cell_type": "markdown",
   "metadata": {},
   "source": [
    "Для сортировки по возрастанию применяется метод sort():"
   ]
  },
  {
   "cell_type": "code",
   "execution_count": null,
   "metadata": {},
   "outputs": [],
   "source": [
    "users = [\"Tom\", \"Bob\", \"Alice\", \"Sam\", \"Bill\"]\n",
    " \n",
    "users.sort()\n",
    "print(users)      # [\"Alice\", \"Bill\", \"Bob\", \"Sam\", \"Tom\"]"
   ]
  },
  {
   "cell_type": "markdown",
   "metadata": {},
   "source": [
    "Если необходимо отсортировать данные в обратном порядке, то мы можем после сортировки применить метод reverse():"
   ]
  },
  {
   "cell_type": "code",
   "execution_count": null,
   "metadata": {},
   "outputs": [],
   "source": [
    "users = [\"Tom\", \"Bob\", \"Alice\", \"Sam\", \"Bill\"]\n",
    " \n",
    "users.sort()\n",
    "users.reverse()\n",
    "print(users)      # [\"Tom\", \"Sam\", \"Bob\", \"Bill\", \"Alice\""
   ]
  },
  {
   "cell_type": "markdown",
   "metadata": {},
   "source": [
    "При сортировке фактически сравниваются два объекта, и который из них \"меньше\", ставится перед тем, который \"больше\". Понятия \"больше\" и \"меньше\" довольно условны. И если для чисел все просто - числа расставляются в порядке возрастания, то для строк и других объектов ситуация сложнее. В частности, строки оцениваются по первым символам. Если первые символы равны, оцениваются вторые символы и так далее. При чем цифровой символ считается \"меньше\", чем алфавитный заглавный символ, а заглавный символ считается меньше, чем строчный. Подробнее про сравнение строк описывалось в статье Операции со строками.\n",
    "\n",
    "Таким образом, если в списке сочетаются строки с верхним и нижним регистром, то мы можем получить не совсем корректные результаты, так как для нас строка \"bob\" должна стоять до строки \"Tom\". И чтобы изменить стандартное поведение сортировки, мы можем передать в метод sort() в качестве параметра функцию:"
   ]
  },
  {
   "cell_type": "code",
   "execution_count": null,
   "metadata": {},
   "outputs": [],
   "source": [
    "users = [\"Tom\", \"bob\", \"alice\", \"Sam\", \"Bill\"]\n",
    " \n",
    "users.sort(key=str.lower)\n",
    "print(users)      # [\"alice\", \"Bill\", \"bob\", \"Sam\", \"Tom\"]"
   ]
  },
  {
   "cell_type": "markdown",
   "metadata": {},
   "source": [
    "Кроме метода sort мы можем использовать встроенную функцию sorted, которая имеет две формы:\n",
    "\n",
    "    sorted(list): сортирует список list\n",
    "\n",
    "    sorted(list, key): сортирует список list, применяя к элементам функцию key\n"
   ]
  },
  {
   "cell_type": "code",
   "execution_count": null,
   "metadata": {},
   "outputs": [],
   "source": [
    "users = [\"Tom\", \"bob\", \"alice\", \"Sam\", \"Bill\"]\n",
    " \n",
    "sorted_users = sorted(users, key=str.lower)\n",
    "print(sorted_users)      # [\"alice\", \"Bill\", \"bob\", \"Sam\", \"Tom\"]"
   ]
  },
  {
   "cell_type": "markdown",
   "metadata": {},
   "source": [
    "При использовании этой функции следует учитывать, что эта функция не изменяет сортируемый список, а все отсортированные элементы она помещает в новый список, который возвращается в качестве результата."
   ]
  },
  {
   "cell_type": "markdown",
   "metadata": {},
   "source": [
    "#### Минимальное и максимальное значения"
   ]
  },
  {
   "cell_type": "markdown",
   "metadata": {},
   "source": [
    "Встроенный функции Python min() и max() позволяют найти минимальное и максимальное значения соответственно:"
   ]
  },
  {
   "cell_type": "code",
   "execution_count": null,
   "metadata": {},
   "outputs": [],
   "source": [
    "numbers = [9, 21, 12, 1, 3, 15, 18]\n",
    "print(min(numbers))     # 1    \n",
    "print(max(numbers))     # 21"
   ]
  },
  {
   "cell_type": "markdown",
   "metadata": {},
   "source": [
    "#### Копирование списков"
   ]
  },
  {
   "cell_type": "markdown",
   "metadata": {},
   "source": [
    "При копировании списков следует учитывать, что списки представляют изменяемый (mutable) тип, поэтому если обе переменных будут указывать на один и тот же список, то изменение одной переменной, затронет и другую переменную:"
   ]
  },
  {
   "cell_type": "code",
   "execution_count": null,
   "metadata": {},
   "outputs": [],
   "source": [
    "users1 = [\"Tom\", \"Bob\", \"Alice\"]\n",
    "users2 = users1\n",
    "users2.append(\"Sam\")\n",
    "# users1 и users2 указывают на один и тот же список\n",
    "print(users1)   # [\"Tom\", \"Bob\", \"Alice\", \"Sam\"]\n",
    "print(users2)   # [\"Tom\", \"Bob\", \"Alice\", \"Sam\"]"
   ]
  },
  {
   "cell_type": "markdown",
   "metadata": {},
   "source": [
    "Это так называемое \"поверхностное копирование\" (shallow copy). И, как правило, такое поведение нежелательное. И чтобы происходило копирование элементов, но при этом переменные указывали на разные списки, необходимо выполнить глубокое копирование (deep copy). Для этого можно использовать метод deepcopy(), который определен во встроенном модуле copy:"
   ]
  },
  {
   "cell_type": "code",
   "execution_count": null,
   "metadata": {},
   "outputs": [],
   "source": [
    "import copy\n",
    " \n",
    "users1 = [\"Tom\", \"Bob\", \"Alice\"]\n",
    "users2 = copy.deepcopy(users1)\n",
    "users2.append(\"Sam\")\n",
    "# пееменные users1 и users2 указывают на разные списки\n",
    "print(users1)   # [\"Tom\", \"Bob\", \"Alice\"]\n",
    "print(users2)   # [\"Tom\", \"Bob\", \"Alice\", \"Sam\"]"
   ]
  },
  {
   "cell_type": "markdown",
   "metadata": {},
   "source": [
    "#### Копирование части списка"
   ]
  },
  {
   "cell_type": "markdown",
   "metadata": {},
   "source": [
    "Если необходимо скопировать не весь список, а только его какую-то определенную часть, то мы можем применять специальный синтаксис. который может принимать следующие формы:\n",
    "\n",
    "    list[:end]: через параметр end передается индекс элемента, до которого нужно копировать список\n",
    "\n",
    "    list[start:end]: параметр start указывает на индекс элемента, начиная с которого надо скопировать элементы\n",
    "\n",
    "    list[start:end:step]: параметр step указывает на шаг, через который будут копироваться элементы из списка. По умолчанию этот параметр равен 1.\n"
   ]
  },
  {
   "cell_type": "code",
   "execution_count": null,
   "metadata": {},
   "outputs": [],
   "source": [
    "users = [\"Tom\", \"Bob\", \"Alice\", \"Sam\", \"Tim\", \"Bill\"]\n",
    " \n",
    "slice_users1 = users[:3]   # с 0 по 3\n",
    "print(slice_users1)   # [\"Tom\", \"Bob\", \"Alice\"]\n",
    " \n",
    "slice_users2 = users[1:3]   # с 1 по 3\n",
    "print(slice_users2)   # [\"Bob\", \"Alice\"]\n",
    " \n",
    "slice_users3 = users[1:6:2]   # с 1 по 6 с шагом 2\n",
    "print(slice_users3)   # [\"Bob\", \"Sam\", \"Bill\"]"
   ]
  },
  {
   "cell_type": "markdown",
   "metadata": {},
   "source": [
    "#### Соединение списков"
   ]
  },
  {
   "cell_type": "markdown",
   "metadata": {},
   "source": [
    "Для объединения списков применяется операция сложения (+):"
   ]
  },
  {
   "cell_type": "code",
   "execution_count": null,
   "metadata": {},
   "outputs": [],
   "source": [
    "users1 = [\"Tom\", \"Bob\", \"Alice\"]\n",
    "users2 = [\"Tom\", \"Sam\", \"Tim\", \"Bill\"]\n",
    "users3 = users1 + users2\n",
    "print(users3)   # [\"Tom\", \"Bob\", \"Alice\", \"Tom\", \"Sam\", \"Tim\", \"Bill\"]"
   ]
  },
  {
   "cell_type": "markdown",
   "metadata": {},
   "source": [
    "#### Списки списков"
   ]
  },
  {
   "cell_type": "markdown",
   "metadata": {},
   "source": [
    "Списки кроме стандартных данных типа строк, чисел, также могут содержать другие списки. Подобные списки можно ассоциировать с таблицами, где вложенные списки выполняют роль строк. Например:"
   ]
  },
  {
   "cell_type": "code",
   "execution_count": null,
   "metadata": {},
   "outputs": [],
   "source": [
    "users = [\n",
    "    [\"Tom\", 29],\n",
    "    [\"Alice\", 33],\n",
    "    [\"Bob\", 27]\n",
    "]\n",
    " \n",
    "print(users[0])         # [\"Tom\", 29]\n",
    "print(users[0][0])      # Tom\n",
    "print(users[0][1])      # 29"
   ]
  },
  {
   "cell_type": "markdown",
   "metadata": {},
   "source": [
    "Чтобы обратиться к элементу вложенного списка, необходимо использовать пару индексов: users[0][1] - обращение ко второму элементу первого вложенного списка.\n",
    "\n",
    "Добавление, удаление и исменение общего списка, а также вложенных списков аналогично тому, как это делается с обычными (одномерными) списками:"
   ]
  },
  {
   "cell_type": "code",
   "execution_count": null,
   "metadata": {},
   "outputs": [],
   "source": [
    "users = [\n",
    "    [\"Tom\", 29],\n",
    "    [\"Alice\", 33],\n",
    "    [\"Bob\", 27]\n",
    "]\n",
    " \n",
    "# создание вложенного списка\n",
    "user = list()\n",
    "user.append(\"Bill\")\n",
    "user.append(41)\n",
    "# добавление вложенного списка\n",
    "users.append(user)\n",
    " \n",
    "print(users[-1])         # [\"Bill\", 41]\n",
    " \n",
    "# добавление во вложенный список\n",
    "users[-1].append(\"+79876543210\")\n",
    " \n",
    "print(users[-1])         # [\"Bill\", 41, \"+79876543210\"]\n",
    " \n",
    "# удаление последнего элемента из вложенного списка\n",
    "users[-1].pop()\n",
    "print(users[-1])         # [\"Bill\", 41]\n",
    " \n",
    "# удаление всего последнего вложенного списка\n",
    "users.pop(-1)\n",
    " \n",
    "# изменение первого элемента\n",
    "users[0] = [\"Sam\", 18]\n",
    "print(users)            # [ [\"Sam\", 18], [\"Alice\", 33], [\"Bob\", 27]]"
   ]
  },
  {
   "cell_type": "markdown",
   "metadata": {},
   "source": [
    "#### Перебор вложенных списков:"
   ]
  },
  {
   "cell_type": "code",
   "execution_count": null,
   "metadata": {},
   "outputs": [],
   "source": [
    "users = [\n",
    "    [\"Tom\", 29],\n",
    "    [\"Alice\", 33],\n",
    "    [\"Bob\", 27]\n",
    "]\n",
    " \n",
    "for user in users:\n",
    "    for item in user:\n",
    "        print(item, end=\" | \")"
   ]
  },
  {
   "cell_type": "markdown",
   "metadata": {},
   "source": [
    "### Двумерные массивы\n",
    "\n",
    "#### Создание, вывод и ввод матрицы\n",
    "\n",
    "Для работы с матрицами в Python также используются **списки**. Каждый элемент списка-матрицы содержит вложенный список. \n",
    "Таким образом, получается структура из вложенных списков, количество которых определяет количество строк матрицы, а число элементов внутри каждого вложенного списка указывает на количество столбцов в исходной матрице.\n",
    "\n",
    "Рассмотрим пример матрицы размера 4 х 3:"
   ]
  },
  {
   "cell_type": "code",
   "execution_count": null,
   "metadata": {},
   "outputs": [],
   "source": [
    "matrix = [[-1, 0, 1], \n",
    "          [-1, 0, 1], \n",
    "          [0, 1, -1],\n",
    "          [1, 1, -1]]"
   ]
  },
  {
   "cell_type": "markdown",
   "metadata": {},
   "source": [
    "Данный оператор можно записать в одну строку:"
   ]
  },
  {
   "cell_type": "code",
   "execution_count": null,
   "metadata": {},
   "outputs": [],
   "source": [
    "matrix = [[-1, 0, 1], [-1, 0, 1], [0, 1, -1], [1, 1, -1]]"
   ]
  },
  {
   "cell_type": "markdown",
   "metadata": {},
   "source": [
    "**Вывод матрицы** можно осуществить одним оператором, но такой простой способ не позволяет выполнять какой-то предварительной обработки элементов:"
   ]
  },
  {
   "cell_type": "code",
   "execution_count": null,
   "metadata": {},
   "outputs": [],
   "source": [
    "print(matrix)"
   ]
  },
  {
   "cell_type": "markdown",
   "metadata": {},
   "source": [
    "Для вывода матрицы в виде <i><b>таблицы</b></i> можно использовать специально заготовленную для этого процедуру:\n",
    "\n",
    "#### 1-ый способ"
   ]
  },
  {
   "cell_type": "code",
   "execution_count": null,
   "metadata": {},
   "outputs": [],
   "source": [
    "for i in range ( len(matrix) ): \n",
    "    for j in range ( len(matrix[i]) ): \n",
    "        print ( \"{:4d}\".format(matrix[i][j]), end = \"\" ) \n",
    "    print ()"
   ]
  },
  {
   "cell_type": "markdown",
   "metadata": {},
   "source": [
    "В примере i – это номер строки, а j – номер столбца;\n",
    "\n",
    "len(matrix) – число строк в матрице.\n",
    "\n",
    "#### 2-ой способ"
   ]
  },
  {
   "cell_type": "code",
   "execution_count": null,
   "metadata": {},
   "outputs": [],
   "source": [
    "   for row in matrix: \n",
    "      for x in row: \n",
    "          print ( \"{:4d}\".format(x), end = \"\" ) \n",
    "      print ()"
   ]
  },
  {
   "cell_type": "markdown",
   "metadata": {},
   "source": [
    "Внешний цикл проходит по строкам матрицы (row), а внутренний цикл проходит по элементам каждой строки (x)."
   ]
  },
  {
   "cell_type": "markdown",
   "metadata": {},
   "source": [
    "**Для инициализации элементов матрицы случайными числами** используется алгоритм:"
   ]
  },
  {
   "cell_type": "code",
   "execution_count": null,
   "metadata": {},
   "outputs": [],
   "source": [
    "import random \n",
    "N=5\n",
    "M=6\n",
    "matrix1 = [[0] * M] * N\n",
    "for i in range(N): \n",
    "    for j in range(M): \n",
    "       matrix1[i][j] = random.randint (1, 10)\n",
    "       print ( \"{:4d}\".format(matrix1[i][j]), end = \"\" ) \n",
    "    print()"
   ]
  },
  {
   "cell_type": "markdown",
   "metadata": {},
   "source": [
    "#### Ввод двумерного массива с клавиатуры\n",
    "\n",
    "Пусть программа получает на вход двумерный массив, в виде n строк, каждая из которых содержит m чисел, разделенных пробелами. Как их считать? Например, так:"
   ]
  },
  {
   "cell_type": "code",
   "execution_count": null,
   "metadata": {},
   "outputs": [],
   "source": [
    "n=int(input(\"Введите кол-во строк\"))\n",
    "a = [list(map(int, input().split())) for i in range(n)]\n",
    "\n",
    "for row in a: \n",
    "    for x in row: \n",
    "        print ( \"{:4d}\".format(x), end = \"\" ) \n",
    "    print ()"
   ]
  },
  {
   "cell_type": "markdown",
   "metadata": {},
   "source": [
    "#### Обработка элементов двумерного массива\n",
    "\n",
    "Нумерация элементов двумерного массива, как и элементов одномерного массива, начинается с нуля. Т.е. matrix[2][3] — это элемент третьей строки четвертого столбца."
   ]
  },
  {
   "cell_type": "markdown",
   "metadata": {},
   "source": [
    "**Пример 1:**\n",
    "\n",
    "Найти сумму элементов двумерного массива."
   ]
  },
  {
   "cell_type": "code",
   "execution_count": null,
   "metadata": {},
   "outputs": [],
   "source": [
    "s = 0 \n",
    "for i in range(N): \n",
    "    for j in range(M): \n",
    "       s += matrix1[i][j] \n",
    "print (s)"
   ]
  },
  {
   "cell_type": "markdown",
   "metadata": {},
   "source": [
    "Для поиска суммы существует стандартная функция sum.\n",
    "\n",
    "Более подходящий вариант для Python:"
   ]
  },
  {
   "cell_type": "code",
   "execution_count": null,
   "metadata": {},
   "outputs": [],
   "source": [
    "s = 0 \n",
    "for row in matrix1: \n",
    "   s += sum(row) \n",
    "print (s)"
   ]
  },
  {
   "cell_type": "markdown",
   "metadata": {},
   "source": [
    "**Пример 2:**\n",
    "\n",
    "Найти произведение элементов двумерного массива."
   ]
  },
  {
   "cell_type": "code",
   "execution_count": null,
   "metadata": {},
   "outputs": [],
   "source": [
    "p = 1 \n",
    "for i in range(N): \n",
    "    for j in range(M): \n",
    "       p *= matrix1[i][j] \n",
    "print (p)"
   ]
  },
  {
   "attachments": {
    "image.png": {
     "image/png": "[encoded data removed]"
    }
   },
   "cell_type": "markdown",
   "metadata": {},
   "source": [
    "**Задание:**\n",
    "Получены значения температуры воздуха за 4 дня с трех метеостанций, расположенных в разных регионах:\n",
    "![image.png](attachment:image.png)\n",
    "\n",
    "    1. Распечатать температуру на 2-й метеостанции за 4-й день и на 3-й метеостанции за 1-й день.\n",
    "    2. Распечатать показания термометров всех метеостанций за 2-й день.\n",
    "    3. Определить среднюю температуру на 3-й метеостанции.\n",
    "    4. Распечатать, в какие дни и на каких метеостанциях температура была в диапазоне 24-26 градусов тепла."
   ]
  },
  {
   "cell_type": "code",
   "execution_count": null,
   "metadata": {},
   "outputs": [],
   "source": []
  },
  {
   "cell_type": "markdown",
   "metadata": {},
   "source": [
    "## <font color=\"blue\">Кортежи</font>"
   ]
  },
  {
   "cell_type": "markdown",
   "metadata": {},
   "source": [
    "Кортеж (tuple) представляет последовательность элементов, которая во многом похожа на список за тем исключением, что кортеж является неизменяемым (immutable) типом. Поэтому мы не можем добавлять или удалять элементы в кортеже, изменять его.\n",
    "\n",
    "Для создания кортежа используются круглые скобки, в которые помещаются его значения, разделенные запятыми:"
   ]
  },
  {
   "cell_type": "code",
   "execution_count": null,
   "metadata": {},
   "outputs": [],
   "source": [
    "user = (\"Tom\", 23)\n",
    "print(user)"
   ]
  },
  {
   "cell_type": "markdown",
   "metadata": {},
   "source": [
    "Также для определения кортежа мы можем просто перечислить значения через запятую без применения скобок:"
   ]
  },
  {
   "cell_type": "code",
   "execution_count": null,
   "metadata": {},
   "outputs": [],
   "source": [
    "user = \"Tom\", 23\n",
    "print(user)"
   ]
  },
  {
   "cell_type": "markdown",
   "metadata": {},
   "source": [
    "Если вдруг кортеж состоит из одного элемента, то после единственного элемента кортежа необходимо поставить запятую:"
   ]
  },
  {
   "cell_type": "code",
   "execution_count": null,
   "metadata": {},
   "outputs": [],
   "source": [
    "user = (\"Tom\",)\n",
    "print(user)"
   ]
  },
  {
   "cell_type": "markdown",
   "metadata": {},
   "source": [
    "Для создания кортежа из списка можно передать список в функцию tuple(), которая возвратит кортеж:"
   ]
  },
  {
   "cell_type": "code",
   "execution_count": null,
   "metadata": {},
   "outputs": [],
   "source": [
    "users_list = [\"Tom\", \"Bob\", \"Kate\"]\n",
    "users_tuple = tuple(users_list)\n",
    "print(users_tuple)      # (\"Tom\", \"Bob\", \"Kate\")"
   ]
  },
  {
   "cell_type": "markdown",
   "metadata": {},
   "source": [
    "Обращение к элементам в кортеже происходит также, как и в списке по индексу. Индексация начинается также с нуля при получении элементов с начала списка и с -1 при получении элементов с конца списка:"
   ]
  },
  {
   "cell_type": "code",
   "execution_count": null,
   "metadata": {},
   "outputs": [],
   "source": [
    "users = (\"Tom\", \"Bob\", \"Sam\", \"Kate\")\n",
    "print(users[0])     # Tom\n",
    "print(users[2])     # Sam\n",
    "print(users[-1])     # Kate\n",
    " \n",
    "# получим часть кортежа со 2 элемента по 4\n",
    "print(users[1:4])       # (\"Bob\", \"Sam\", \"Kate\")"
   ]
  },
  {
   "cell_type": "markdown",
   "metadata": {},
   "source": [
    "<font color=\"red\">Но так как кортеж - неизменяемый тип (immutable), то мы не сможем изменить его элементы. То есть следующая запись работать не будет:</font>"
   ]
  },
  {
   "cell_type": "code",
   "execution_count": null,
   "metadata": {},
   "outputs": [],
   "source": [
    "users[1] = \"Tim\""
   ]
  },
  {
   "cell_type": "markdown",
   "metadata": {},
   "source": [
    "С помощью встроенной функции len() можно получить длину кортежа:"
   ]
  },
  {
   "cell_type": "code",
   "execution_count": null,
   "metadata": {},
   "outputs": [],
   "source": [
    "user = (\"Tom\", 22, False)\n",
    "print(len(user))        # 3"
   ]
  },
  {
   "cell_type": "markdown",
   "metadata": {},
   "source": [
    "#### Перебор кортежей"
   ]
  },
  {
   "cell_type": "markdown",
   "metadata": {},
   "source": [
    "Для перебора кортежа можно использовать стандартные циклы for и while. С помощью цикла for:"
   ]
  },
  {
   "cell_type": "code",
   "execution_count": null,
   "metadata": {},
   "outputs": [],
   "source": [
    "user = (\"Tom\", 22, False)\n",
    "for item in user:\n",
    "    print(item)"
   ]
  },
  {
   "cell_type": "markdown",
   "metadata": {},
   "source": [
    "С помощью цикла while:"
   ]
  },
  {
   "cell_type": "code",
   "execution_count": null,
   "metadata": {},
   "outputs": [],
   "source": [
    "user = (\"Tom\", 22, False)\n",
    " \n",
    "i = 0\n",
    "while i < len(user):\n",
    "    print(user[i])\n",
    "    i += 1"
   ]
  },
  {
   "cell_type": "markdown",
   "metadata": {},
   "source": [
    "Как для списка с помощью выражения элемент in кортеж можно проверить наличие элемента в кортеже:"
   ]
  },
  {
   "cell_type": "code",
   "execution_count": null,
   "metadata": {},
   "outputs": [],
   "source": [
    "user = (\"Tom\", 22, False)\n",
    "name = \"Tom\"\n",
    "if name in user:\n",
    "    print(\"Пользователя зовут Tom\")\n",
    "else:\n",
    "    print(\"Пользователь имеет другое имя\")"
   ]
  },
  {
   "cell_type": "markdown",
   "metadata": {},
   "source": [
    "## <font color=\"blue\">Словари</font>"
   ]
  },
  {
   "cell_type": "markdown",
   "metadata": {},
   "source": [
    "Наряду со списками и кортежами Python имеет еще одну встроенную структуру данных, которая называется словарь (dictionary). В ряде языков программирования есть похожие структуры (словарь в C#, ассоциативный массив в PHP).\n",
    "\n",
    "Как и список, словарь хранит коллекцию элементов. Каждый элемент в словаре имеет уникальный ключ, с которым ассоциировано некоторое значение.\n",
    "\n",
    "**Когда можно использовать словари**\n",
    "\n",
    "    Словари можно использовать в следующих случаях:\n",
    "    1) Подсчет числа каких-то объектов. В этом случае нужно завести словарь, в котором ключами являются объекты, а значениями — их количество.\n",
    "    2) Хранение каких-либо данных, связанных с объектом. Ключи — объекты, значения — связанные с ними данные. Например, если нужно по названию месяца определить его порядковый номер, то это можно сделать при помощи словаря Num[‘January’] = 1; Num[‘February’] = 2; ….\n",
    "    3) Установка соответствия между объектами (например, “родитель—потомок”). Ключ — объект, значение — соответствующий ему объект.\n",
    "    4) Если нужен обычный массив, но при этом максимальное значение индекса элемента очень велико, но при этом будут использоваться не все возможные индексы (так называемый “разреженный массив”), то можно использовать ассоциативный массив для экономии памяти.\n",
    "\n",
    "\n",
    "Определение словаря имеет следующий синтаксис:\n",
    "\n",
    "dictionary = { ключ1:значение1, ключ2:значение2, ....}"
   ]
  },
  {
   "cell_type": "markdown",
   "metadata": {},
   "source": [
    "Определим пару словарей:"
   ]
  },
  {
   "cell_type": "code",
   "execution_count": null,
   "metadata": {},
   "outputs": [],
   "source": [
    "users = {1: \"Tom\", 2: \"Bob\", 3: \"Bill\"}\n",
    " \n",
    "elements = {\"Au\": \"Золото\", \"Fe\": \"Железо\", \"H\": \"Водород\", \"O\": \"Кислород\"}"
   ]
  },
  {
   "cell_type": "markdown",
   "metadata": {},
   "source": [
    "В словаре users в качестве ключей используются числа, а в качестве значений - строки. В словаре element в качестве ключей используются строки.\n",
    "\n",
    "Но необязательно ключи и строки должны быть однотипными. Они могу представлять разные типы:"
   ]
  },
  {
   "cell_type": "code",
   "execution_count": null,
   "metadata": {},
   "outputs": [],
   "source": [
    "objects = {1: \"Tom\", \"2\": True, 3: 100.6}"
   ]
  },
  {
   "cell_type": "markdown",
   "metadata": {},
   "source": [
    "Мы можем также вообще определить пустой словарь без элементов:"
   ]
  },
  {
   "cell_type": "code",
   "execution_count": null,
   "metadata": {},
   "outputs": [],
   "source": [
    "objects = {}"
   ]
  },
  {
   "cell_type": "markdown",
   "metadata": {},
   "source": [
    "или так:"
   ]
  },
  {
   "cell_type": "code",
   "execution_count": null,
   "metadata": {},
   "outputs": [],
   "source": [
    "objects = dict()"
   ]
  },
  {
   "cell_type": "markdown",
   "metadata": {},
   "source": [
    "#### Преобразование из списка в словарь"
   ]
  },
  {
   "cell_type": "markdown",
   "metadata": {},
   "source": [
    "Несмотря на то, что словарь и список - непохожие по структуре типы, но тем не менее существует возможности для отдельных видов списков преобразования их в словарь с помощью встроенной функции dict(). Для этого список должен хранить набор вложенных списков. Каждый вложенный список должен состоять из двух элементов - при конвертации в словарь первый элемент станет ключом, а второй - значением:"
   ]
  },
  {
   "cell_type": "code",
   "execution_count": null,
   "metadata": {},
   "outputs": [],
   "source": [
    "users_list = [\n",
    "    [\"+111123455\", \"Tom\"],\n",
    "    [\"+384767557\", \"Bob\"],\n",
    "    [\"+958758767\", \"Alice\"]\n",
    "]\n",
    "users_dict = dict(users_list)\n",
    "print(users_dict)  # {\"+111123455\": \"Tom\", \"+384767557\": \"Bob\", \"+958758767\": \"Alice\"}"
   ]
  },
  {
   "cell_type": "markdown",
   "metadata": {},
   "source": [
    "Подобным образом можно преобразовать в словарь двухмерные кортежи, которые в свою очередь содержать кортежи из двух элементов:"
   ]
  },
  {
   "cell_type": "code",
   "execution_count": null,
   "metadata": {},
   "outputs": [],
   "source": [
    "users_tuple = (\n",
    "    (\"+111123455\", \"Tom\"),\n",
    "    (\"+384767557\", \"Bob\"),\n",
    "    (\"+958758767\", \"Alice\")\n",
    ")\n",
    "users_dict = dict(users_tuple)\n",
    "print(users_dict)"
   ]
  },
  {
   "cell_type": "markdown",
   "metadata": {},
   "source": [
    "#### Получение и изменение элементов"
   ]
  },
  {
   "cell_type": "markdown",
   "metadata": {},
   "source": [
    "Для доступа к элементам словаря необходимо использовать ключ:\n",
    "    \t\n",
    "dictionary[ключ]"
   ]
  },
  {
   "cell_type": "markdown",
   "metadata": {},
   "source": [
    "Например, получим и изменим элементы в словаре:"
   ]
  },
  {
   "cell_type": "code",
   "execution_count": null,
   "metadata": {},
   "outputs": [],
   "source": [
    "users = {\n",
    "    \"+11111111\": \"Tom\",\n",
    "    \"+33333333\": \"Bob\",\n",
    "    \"+55555555\": \"Alice\"\n",
    "}\n",
    " \n",
    "# получаем элемент с ключом \"+11111111\"\n",
    "print(users[\"+11111111\"])      # Tom\n",
    " \n",
    "# установка значения элемента с ключом \"+33333333\"\n",
    "users[\"+33333333\"] = \"Bob Smith\"\n",
    "print(users[\"+33333333\"])      # Bob Smith"
   ]
  },
  {
   "cell_type": "markdown",
   "metadata": {},
   "source": [
    "Если при установки значения элемента с таким ключом в словаре не окажется, то произойдет его добавление:"
   ]
  },
  {
   "cell_type": "code",
   "execution_count": null,
   "metadata": {},
   "outputs": [],
   "source": [
    "users[\"+4444444\"] = \"Sam\""
   ]
  },
  {
   "cell_type": "markdown",
   "metadata": {},
   "source": [
    "Но если мы попробуем получить значение с ключом, которого нет в словаре, то Python сгенерирует ошибку KeyError:"
   ]
  },
  {
   "cell_type": "code",
   "execution_count": null,
   "metadata": {},
   "outputs": [],
   "source": [
    "user = users[\"+4444444\"]    # KeyError"
   ]
  },
  {
   "cell_type": "markdown",
   "metadata": {},
   "source": [
    " чтобы предупредить эту ситуацию перед обращением к элементу мы можем проверять наличие ключа в словаре с помощью выражения <strong>ключ in словарь</strong>. Если ключ имеется в словаре, то данное выражение возвращает True:"
   ]
  },
  {
   "cell_type": "code",
   "execution_count": null,
   "metadata": {},
   "outputs": [],
   "source": [
    "key = \"+4444444\"\n",
    "if key in users:\n",
    "    user = users[key]\n",
    "    print(user)\n",
    "else:\n",
    "    print(\"Элемент не найден\")"
   ]
  },
  {
   "cell_type": "markdown",
   "metadata": {},
   "source": [
    "Также для получения элементов можно использовать метод get, который имеет две формы:\n",
    "\n",
    "    get(key): возвращает из словаря элемент с ключом key. Если элемента с таким ключом нет, то возвращает значение None\n",
    "\n",
    "    get(key, default): возвращает из словаря элемент с ключом key. Если элемента с таким ключом нет, то возвращает значение по умолчанию default\n"
   ]
  },
  {
   "cell_type": "code",
   "execution_count": null,
   "metadata": {},
   "outputs": [],
   "source": [
    "key = \"+55555555\"\n",
    "user = users.get(key)\n",
    "user = users.get(key, \"Unknown user\")"
   ]
  },
  {
   "cell_type": "markdown",
   "metadata": {},
   "source": [
    "#### Удаление"
   ]
  },
  {
   "cell_type": "markdown",
   "metadata": {},
   "source": [
    "Для удаления элемента по ключу применяется оператор del:"
   ]
  },
  {
   "cell_type": "code",
   "execution_count": null,
   "metadata": {},
   "outputs": [],
   "source": [
    "users = {\n",
    "    \"+11111111\": \"Tom\",\n",
    "    \"+33333333\": \"Bob\",\n",
    "    \"+55555555\": \"Alice\"\n",
    "}\n",
    " \n",
    "del users[\"+55555555\"]\n",
    "print(users)"
   ]
  },
  {
   "cell_type": "markdown",
   "metadata": {},
   "source": [
    "Но стоит учитывать, что если подобного ключа не окажется в словаре, то будет выброшено исключение KeyError. Поэтому опять же перед удалением желательно проверять наличие элемента с данным ключом."
   ]
  },
  {
   "cell_type": "code",
   "execution_count": null,
   "metadata": {},
   "outputs": [],
   "source": [
    "key = \"+55555555\"\n",
    "if key in users:\n",
    "    user = users[key]\n",
    "    del users[key]\n",
    "    print(user, \"удален\")\n",
    "else:\n",
    "    print(\"Элемент не найден\")"
   ]
  },
  {
   "cell_type": "markdown",
   "metadata": {},
   "source": [
    "Другой способ удаления представляет метод pop(). Он имеет две формы:\n",
    "\n",
    "    pop(key): удаляет элемент по ключу key и возвращает удаленный элемент. Если элемент с данным ключом отсутствует, то генерируется исключение KeyError\n",
    "\n",
    "    pop(key, default): удаляет элемент по ключу key и возвращает удаленный элемент. Если элемент с данным ключом отсутствует, то возвращается значение default\n"
   ]
  },
  {
   "cell_type": "code",
   "execution_count": null,
   "metadata": {},
   "outputs": [],
   "source": [
    "users = {\n",
    "    \"+11111111\": \"Tom\",\n",
    "    \"+33333333\": \"Bob\",\n",
    "    \"+55555555\": \"Alice\"\n",
    "}\n",
    "key = \"+55555555\"\n",
    "user = users.pop(key)\n",
    "print(user)\n",
    " \n",
    "user = users.pop(\"+4444444\", \"Unknown user\")\n",
    "print(user)"
   ]
  },
  {
   "cell_type": "markdown",
   "metadata": {},
   "source": [
    "Если необходимо удалить все элементы, то в этом случае можно воспользоваться методом clear():"
   ]
  },
  {
   "cell_type": "code",
   "execution_count": null,
   "metadata": {},
   "outputs": [],
   "source": [
    "users.clear()"
   ]
  },
  {
   "cell_type": "markdown",
   "metadata": {},
   "source": [
    "#### Копирование и объединение словарей"
   ]
  },
  {
   "cell_type": "markdown",
   "metadata": {},
   "source": [
    "Метод copy() копирует содержимое словаря, возвращая новый словарь:"
   ]
  },
  {
   "cell_type": "code",
   "execution_count": null,
   "metadata": {},
   "outputs": [],
   "source": [
    "users = {\"+1111111\": \"Tom\",\"+3333333\": \"Bob\",\"+5555555\": \"Alice\"}\n",
    "users2 = users.copy()"
   ]
  },
  {
   "cell_type": "markdown",
   "metadata": {},
   "source": [
    "Метод update() объединяет два словаря:"
   ]
  },
  {
   "cell_type": "code",
   "execution_count": null,
   "metadata": {},
   "outputs": [],
   "source": [
    "users = {\"+1111111\": \"Tom\",\"+3333333\": \"Bob\",\"+5555555\": \"Alice\"}\n",
    " \n",
    "users2 = {\"+2222222\": \"Sam\",\"+6666666\": \"Kate\"}\n",
    "users.update(users2)\n",
    " \n",
    "print(users)    # {\"+1111111\": \"Tom\", \"+3333333\": \"Bob\", \"+5555555\": \"Alice\", \"+2222222\": \"Sam\", \"+6666666\": \"Kate\"}\n",
    "print(users2)   # {\"+2222222\": \"Sam\", \"+6666666\": \"Kate\"}"
   ]
  },
  {
   "cell_type": "markdown",
   "metadata": {},
   "source": [
    "При этом словарь users2 остается без изменений. Изменяется словарь users, в который добавляются элементы другого словаря. Но если необходимо, чтобы оба исходных словаря были без изменений, а результатом объединения был какой-то третий словарь, то можно предварительно скопировать один словарь в другой:"
   ]
  },
  {
   "cell_type": "code",
   "execution_count": null,
   "metadata": {},
   "outputs": [],
   "source": [
    "users3 = users.copy()\n",
    "users3.update(users2)"
   ]
  },
  {
   "cell_type": "markdown",
   "metadata": {},
   "source": [
    "#### Перебор словаря"
   ]
  },
  {
   "cell_type": "markdown",
   "metadata": {},
   "source": [
    "Для перебора словаря можно воспользоваться циклом for:"
   ]
  },
  {
   "cell_type": "code",
   "execution_count": null,
   "metadata": {},
   "outputs": [],
   "source": [
    "users = {\n",
    "    \"+11111111\": \"Tom\",\n",
    "    \"+33333333\": \"Bob\",\n",
    "    \"+55555555\": \"Alice\"\n",
    "}\n",
    "for key in users:\n",
    "    print(key, \" - \", users[key])"
   ]
  },
  {
   "cell_type": "markdown",
   "metadata": {},
   "source": [
    "При переборе элементов мы получаем ключ текущего элемента и по нему можем получить сам элемент.\n",
    "\n",
    "Другой способ перебора элементов представляет использование метода items():"
   ]
  },
  {
   "cell_type": "code",
   "execution_count": null,
   "metadata": {},
   "outputs": [],
   "source": [
    "for key, value in users.items():\n",
    "    print(key, \" - \", value)"
   ]
  },
  {
   "cell_type": "markdown",
   "metadata": {},
   "source": [
    "Метод items() возвращает набор кортежей. Каждый кортеж содержит ключ и значение элемента, которые при переборе мы тут же можем получить в переменные key и value.\n",
    "\n",
    "Также существуют отдельно возможности перебора ключей и перебора значений. Для перебора ключей мы можем вызвать у словаря метод <strong>keys()</strong>:"
   ]
  },
  {
   "cell_type": "code",
   "execution_count": null,
   "metadata": {},
   "outputs": [],
   "source": [
    "for key in users.keys():\n",
    "    print(key)"
   ]
  },
  {
   "cell_type": "markdown",
   "metadata": {},
   "source": [
    "Правда, этот способ перебора не имеет смысла, так как и без вызова метода keys() мы можем перебрать ключи, как было показано выше.\n",
    "\n",
    "Для перебора только значений мы можем вызвать у словаря метод <strong>values()</strong>:"
   ]
  },
  {
   "cell_type": "code",
   "execution_count": null,
   "metadata": {},
   "outputs": [],
   "source": [
    "for value in users.values():\n",
    "    print(value)"
   ]
  },
  {
   "cell_type": "markdown",
   "metadata": {},
   "source": [
    "#### Комплексные словари"
   ]
  },
  {
   "cell_type": "markdown",
   "metadata": {},
   "source": [
    "Кроме простейших объектов типа чисел и строк словари также могут хранить и более сложные объекты - те же списки, кортежи или другие словари:"
   ]
  },
  {
   "cell_type": "code",
   "execution_count": null,
   "metadata": {},
   "outputs": [],
   "source": [
    "users = {\n",
    "    \"Tom\": {\n",
    "        \"phone\": \"+971478745\",\n",
    "        \"email\": \"tom12@gmail.com\"\n",
    "    },\n",
    "    \"Bob\": {\n",
    "        \"phone\": \"+876390444\",\n",
    "        \"email\": \"bob@gmail.com\",\n",
    "        \"skype\": \"bob123\"\n",
    "    }\n",
    "}"
   ]
  },
  {
   "cell_type": "markdown",
   "metadata": {},
   "source": [
    "В данном случае значение каждого элемента словаря в свою очередь представляет отдельный словарь.\n",
    "\n",
    "Для обращения к элементам вложенного словаря соответственно необходимо использовать два ключа:"
   ]
  },
  {
   "cell_type": "code",
   "execution_count": null,
   "metadata": {},
   "outputs": [],
   "source": [
    "old_email = users[\"Tom\"][\"email\"]\n",
    "users[\"Tom\"][\"email\"] = \"supertom@gmail.com\""
   ]
  },
  {
   "cell_type": "markdown",
   "metadata": {},
   "source": [
    "Но если мы попробуем получить значение по ключу, который отсутствует в словаре, Python сгенерирует исключение KeyError:"
   ]
  },
  {
   "cell_type": "code",
   "execution_count": null,
   "metadata": {},
   "outputs": [],
   "source": [
    "tom_skype = users[\"Tom\"][\"skype\"]   # KeyError"
   ]
  },
  {
   "cell_type": "markdown",
   "metadata": {},
   "source": [
    "Чтобы избежать ошибки, можно проверять наличие ключа в словаре:"
   ]
  },
  {
   "cell_type": "code",
   "execution_count": null,
   "metadata": {},
   "outputs": [],
   "source": [
    "key = \"skype\"\n",
    "if key in users[\"Tom\"]:\n",
    "    print(users[\"Tom\"][\"skype\"])\n",
    "else:\n",
    "    print(\"skype is not found\")"
   ]
  },
  {
   "cell_type": "markdown",
   "metadata": {},
   "source": [
    "Во всем остальном работа с комплексными и вложенными словарями аналогична работе с обычными словарями."
   ]
  }
 ],
 "metadata": {
  "kernelspec": {
   "display_name": "Python 3",
   "language": "python",
   "name": "python3"
  },
  "language_info": {
   "codemirror_mode": {
    "name": "ipython",
    "version": 3
   },
   "file_extension": ".py",
   "mimetype": "text/x-python",
   "name": "python",
   "nbconvert_exporter": "python",
   "pygments_lexer": "ipython3",
   "version": "3.8.5"
  }
 },
 "nbformat": 4,
 "nbformat_minor": 4
}
