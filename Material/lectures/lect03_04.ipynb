{
 "cells": [
  {
   "cell_type": "markdown",
   "metadata": {},
   "source": [
    "# <font color=red>Лекция 3.4</font> <font color=blue>Свойства и декораторы классов</font>"
   ]
  },
  {
   "cell_type": "code",
   "execution_count": null,
   "metadata": {},
   "outputs": [],
   "source": [
    "from functools import lru_cache\n",
    "@lru_cache\n",
    "def fib(n):\n",
    "    return fib(n-1)+fib(n-2) if n>1 else n\n",
    "fib(100)"
   ]
  },
  {
   "cell_type": "markdown",
   "metadata": {},
   "source": [
    "**Декораторы** Python весьма хороши, однако их достаточно сложно понять при первом знакомстве. **Декоратор в Python – это функция, которая принимает другую функцию в качестве аргумента.** Декоратор модифицирует или улучшает принятую функцию и выдает измененную. Это значит, что когда вы вызываете декорированную функцию, вы получите функцию, которая может иметь небольшие отличия, в виде дополнительных функций, совмещенных с базовым определением."
   ]
  },
  {
   "cell_type": "markdown",
   "metadata": {},
   "source": [
    "#### Пара примеров\n",
    "\n",
    "Раз уж мы ознакомились со всеми аспектами функций в Python, давайте продемонстрируем их в коде:"
   ]
  },
  {
   "cell_type": "code",
   "execution_count": null,
   "metadata": {},
   "outputs": [],
   "source": [
    "def hello_world():\n",
    "    print('Hello world!')"
   ]
  },
  {
   "cell_type": "markdown",
   "metadata": {},
   "source": [
    "**Мы можем хранить функции в переменных:**"
   ]
  },
  {
   "cell_type": "code",
   "execution_count": null,
   "metadata": {},
   "outputs": [],
   "source": [
    "hello = hello_world\n",
    "hello()"
   ]
  },
  {
   "cell_type": "markdown",
   "metadata": {},
   "source": [
    "**Определять функции внутри других функций:**"
   ]
  },
  {
   "cell_type": "code",
   "execution_count": null,
   "metadata": {},
   "outputs": [],
   "source": [
    "def wrapper_function():\n",
    "    def hello_world():\n",
    "        print('Hello world!')\n",
    "    hello_world()\n",
    "# hello_word() - ошибка\n",
    "wrapper_function()"
   ]
  },
  {
   "cell_type": "markdown",
   "metadata": {},
   "source": [
    "## Декораторы\n",
    "\n",
    "Раз мы знаем, как работают функции, теперь мы можем понять как работают декораторы. Сначала посмотрим на пример декоратора:"
   ]
  },
  {
   "cell_type": "code",
   "execution_count": null,
   "metadata": {},
   "outputs": [],
   "source": [
    "def decorator_function(func):\n",
    "    def wrapper():\n",
    "        print('Функция-обёртка!')\n",
    "        print('Оборачиваемая функция: {}'.format(func))\n",
    "        print('Выполняем обёрнутую функцию...')\n",
    "        func()\n",
    "        print('Выходим из обёртки')\n",
    "    return wrapper"
   ]
  },
  {
   "cell_type": "markdown",
   "metadata": {},
   "source": [
    "Здесь decorator_function() является функцией-декоратором. Как вы могли заметить, она является функцией высшего порядка, так как принимает функцию в качестве аргумента, а также возвращает функцию. Внутри decorator_function() мы определили другую функцию, обёртку, так сказать, которая обёртывает функцию-аргумент и затем изменяет её поведение. Декоратор возвращает эту обёртку. Теперь посмотрим на декоратор в действии:"
   ]
  },
  {
   "cell_type": "code",
   "execution_count": null,
   "metadata": {},
   "outputs": [],
   "source": [
    "@decorator_function\n",
    "def hello_world():\n",
    "    print('Hello world!')\n",
    "hello_world()"
   ]
  },
  {
   "cell_type": "markdown",
   "metadata": {},
   "source": [
    "Просто добавив @decorator_function перед определением функции hello_world(), мы модифицировали её поведение. Однако как вы уже могли догадаться, выражение с @ является всего лишь синтаксическим сахаром для hello_world = decorator_function(hello_world).\n",
    "\n",
    "Иными словами, выражение @decorator_function вызывает decorator_function() с hello_world в качестве аргумента и присваивает имени hello_world возвращаемую функцию.\n",
    "\n",
    "Давайте взглянем на другие применения.\n",
    "\n",
    "**Создание логируемого декоратора**\n",
    "\n",
    "Возможно, вам потребуется логировать того, что делает ваша функция. Большую часть времени логинг будет встроен внутри вашей функции. Однако, бывают случаи, когда вам нужно сделать это на уровне функции, что бы получить представление о потоке программы или, возможно, для следования тем или иным условиям бизнеса, таким как аудит. Посмотрим на небольшой декоратор, который мы можем использовать для записи названия любой функции и того, что она делает:"
   ]
  },
  {
   "cell_type": "code",
   "execution_count": null,
   "metadata": {},
   "outputs": [],
   "source": [
    "import logging\n",
    "\n",
    "def log(func):\n",
    "    # Логируем какая функция вызывается.\n",
    "    def wrap_log(*args, **kwargs):\n",
    "        name = func.__name__\n",
    "        logger = logging.getLogger(name)\n",
    "        logger.setLevel(logging.INFO)\n",
    "    \n",
    "        # Открываем файл логов для записи.\n",
    "        fh = logging.FileHandler(\"Files/%s.log\" % name)\n",
    "        fmt = '%(asctime)s - %(name)s - %(levelname)s - %(message)s'\n",
    "        formatter = logging.Formatter(fmt)\n",
    "        fh.setFormatter(formatter)\n",
    "        logger.addHandler(fh)\n",
    "        \n",
    "        logger.info(\"Вызов функции: %s\" % name)\n",
    "        result = func(*args, **kwargs)\n",
    "        logger.info(\"Результат: %s\" % result)\n",
    "        return func\n",
    "    \n",
    "    return wrap_log\n",
    "\n",
    "@log\n",
    "def double_function(a):\n",
    "    # Умножаем полученный параметр\n",
    "    return a*2"
   ]
  },
  {
   "cell_type": "markdown",
   "metadata": {},
   "source": [
    "Вызовите несколько раз функцию ouble_function с разными параментрами (не только с 2). "
   ]
  },
  {
   "cell_type": "code",
   "execution_count": null,
   "metadata": {},
   "outputs": [],
   "source": [
    "value = double_function(2) "
   ]
  },
  {
   "cell_type": "markdown",
   "metadata": {},
   "source": [
    "В папке Material/lectures/Files найдите файл double_function.log и просмотрите его содержимое в любом текстовом редакторе."
   ]
  },
  {
   "cell_type": "markdown",
   "metadata": {},
   "source": [
    "Этот небольшой скрипт содержит функцию log, которая принимает функцию как единственный аргумент. Мы создаем объект логгер, а название лог файла такое же, как и у функции. После этого, функция log будет записывать, как наша функция была вызвана и что она возвращает, если возвращает.\n",
    "\n",
    "#### Встроенные декораторы\n",
    "\n",
    "Python содержит несколько встроенных декораторов. Из всех этих декораторов, самой важной троицей являются:\n",
    "\n",
    "    @classmethod\n",
    "    @staticmethod\n",
    "    @property\n",
    "\n",
    "Также существуют декораторы в различных разделах стандартной библиотеки Python. Одним из примеров является functools.wraps. Мы сосредоточимся декораторе @property."
   ]
  },
  {
   "cell_type": "markdown",
   "metadata": {},
   "source": [
    "### Свойства Python (@property)\n",
    "\n",
    "Python содержит очень удобный небольшой концепт, под названием property, который выполняет несколько полезных задач. Мы рассмотрим, как делать следующее:\n",
    "- конвертация метода класс в атрибуты только для чтения;\n",
    "- как реализовать сеттеры и геттеры в атрибут.\n",
    "\n",
    "Один из самых простых способов использования property, это использовать его в качестве декоратора метода (). Это позволит вам превратить метод класса в атрибут класса. Это было очень полезно, когда нужно сделать какую-нибудь комбинацию значений.\n",
    "\n",
    "Давайте взглянем на простой пример:"
   ]
  },
  {
   "cell_type": "code",
   "execution_count": null,
   "metadata": {},
   "outputs": [],
   "source": [
    "class Person(object):\n",
    "    def __init__(self, first_name, last_name):\n",
    "         #Конструктор\n",
    "        self.first_name = first_name\n",
    "        self.last_name = last_name\n",
    "    \n",
    "    @property\n",
    "    def full_name(self):\n",
    "         #Возвращаем полное имя\n",
    "        return \"%s %s\" % (self.first_name, self.last_name)\n"
   ]
  },
  {
   "cell_type": "markdown",
   "metadata": {},
   "source": [
    "В данном коде мы создали два класса атрибута, или свойств: self.first_name и self.last_name.\n",
    "Далее мы создали метод full_name, который содержит декоратор <*@property>*. Это позволяет нам использовать следующий код в сессии интерпретатора:"
   ]
  },
  {
   "cell_type": "code",
   "execution_count": null,
   "metadata": {},
   "outputs": [],
   "source": [
    "person = Person(\"Mike\", \"Driscoll\")\n",
    " \n",
    "print(person.full_name) # Mike Driscoll\n",
    "print(person.first_name) # Mike\n",
    " \n",
    "person.full_name = \"Jackalope\""
   ]
  },
  {
   "cell_type": "markdown",
   "metadata": {},
   "source": [
    "Как вы видите, в результате превращение метода в свойство, мы можем получить к нему доступ при помощи обычной точечной нотации. Однако, если мы попытаемся настроить свойство на что-то другое, получим ошибку AttributeError. Единственный способ изменить свойство full_name, это сделать это косвенно:"
   ]
  },
  {
   "cell_type": "code",
   "execution_count": null,
   "metadata": {},
   "outputs": [],
   "source": [
    "class Person(object):\n",
    "\n",
    "    def __init__(self, first_name, last_name):\n",
    "        #Конструктор\n",
    "        self.first_name = first_name\n",
    "        self.last_name = last_name\n",
    "\n",
    "    @property\n",
    "    def full_name(self):\n",
    "        #Возвращаем полное имя\n",
    "        return \"%s %s\" % (self.first_name, self.last_name)"
   ]
  },
  {
   "cell_type": "markdown",
   "metadata": {},
   "source": [
    "В данном коде мы создали два класса атрибута, или свойств: self.first_name и self.last_name.\n",
    "\n",
    "Далее мы создали метод full_name, который содержит декоратор **@property**. Это позволяет нам использовать следующий код: "
   ]
  },
  {
   "cell_type": "code",
   "execution_count": null,
   "metadata": {},
   "outputs": [],
   "source": [
    "person = Person(\"Mike\", \"Driscoll\")\n",
    "print(person.full_name) # Mike Driscoll\n",
    "print(person.first_name) # Mike\n",
    "person.full_name = \"Jackalope\""
   ]
  },
  {
   "cell_type": "markdown",
   "metadata": {},
   "source": [
    "Как вы видите, в результате превращение метода в свойство, мы можем получить к нему доступ при помощи обычной точечной нотации. Однако, если мы попытаемся настроить свойство на что-то другое, мы получим ошибку AttributeError. Единственный способ изменить свойство full_name, это сделать это косвенно: "
   ]
  },
  {
   "cell_type": "code",
   "execution_count": null,
   "metadata": {},
   "outputs": [],
   "source": [
    "person.first_name = \"Dan\"\n",
    "print(person.full_name) # Dan Driscoll"
   ]
  },
  {
   "cell_type": "markdown",
   "metadata": {},
   "source": [
    "Это своего рода ограничение, так что взглянем на другой пример, где мы можем создать свойство, которое позволяет нам делать настройки."
   ]
  },
  {
   "cell_type": "markdown",
   "metadata": {},
   "source": [
    "#### Замена сеттеров и геттеров на свойство Python"
   ]
  },
  {
   "cell_type": "markdown",
   "metadata": {},
   "source": [
    "Давайте представим, что у нас есть код, который написал кто-то, кто не очень понимает Python: "
   ]
  },
  {
   "cell_type": "code",
   "execution_count": null,
   "metadata": {},
   "outputs": [],
   "source": [
    "from decimal import Decimal\n",
    "\n",
    "class Fees(object):\n",
    "\n",
    "    def __init__(self):\n",
    "        #Конструктор\n",
    "        self._fee = None\n",
    "\n",
    "    def get_fee(self):\n",
    "        #Возвращаем текущую комиссию\n",
    "        return self._fee\n",
    "\n",
    "    def set_fee(self, value):\n",
    "        #Устанавливаем размер комиссии\n",
    "        if isinstance(value, str):\n",
    "            self._fee = Decimal(value)\n",
    "        elif isinstance(value, Decimal):\n",
    "            self._fee = value"
   ]
  },
  {
   "cell_type": "markdown",
   "metadata": {},
   "source": [
    "Для использования этого класса, нам нужно использовать сеттеры и геттеры, которые определены как:"
   ]
  },
  {
   "cell_type": "code",
   "execution_count": null,
   "metadata": {},
   "outputs": [],
   "source": [
    "f = Fees()\n",
    "f.set_fee(\"1\")\n",
    "print(f.get_fee()) # Decimal('1')"
   ]
  },
  {
   "cell_type": "markdown",
   "metadata": {},
   "source": [
    "Если нужно добавить обычную точечную нотацию атрибутов в данный код без выведения из строя всех приложений в этой части кода, можно сделать это очень просто, добавив свойство: "
   ]
  },
  {
   "cell_type": "code",
   "execution_count": null,
   "metadata": {},
   "outputs": [],
   "source": [
    "from decimal import Decimal\n",
    "\n",
    "class Fees(object):\n",
    "\n",
    "    def __init__(self):\n",
    "        #Конструктор\n",
    "        self._fee = None\n",
    "\n",
    "    def get_fee(self):\n",
    "        #Возвращаем текущую комиссию\n",
    "        return self._fee\n",
    "\n",
    "    def set_fee(self, value):\n",
    "        #Устанавливаем размер комиссии\n",
    "\n",
    "        if isinstance(value, str):\n",
    "            self._fee = Decimal(value)\n",
    "        elif isinstance(value, Decimal):\n",
    "            self._fee = value\n",
    "\n",
    "    fee = property(get_fee, set_fee)"
   ]
  },
  {
   "cell_type": "markdown",
   "metadata": {},
   "source": [
    "Мы **добавили одну строку в конце этого кода**. Теперь мы можем делать что-то вроде этого:"
   ]
  },
  {
   "cell_type": "code",
   "execution_count": null,
   "metadata": {},
   "outputs": [],
   "source": [
    "f = Fees()\n",
    "f.set_fee(\"1\")\n",
    "print(f.fee) # Decimal('1')\n",
    "f.fee = \"2\"\n",
    "print( f.get_fee() ) # Decimal('2')"
   ]
  },
  {
   "cell_type": "markdown",
   "metadata": {},
   "source": [
    "Когда мы используем свойство таким образом, это позволяет свойству fee настраивать и получать значение без поломки наследуемого кода. Давайте перепишем этот код с использованием **декоратора property**, и посмотрим, можем ли получить его для разрешения установки. "
   ]
  },
  {
   "cell_type": "code",
   "execution_count": null,
   "metadata": {},
   "outputs": [],
   "source": [
    "from decimal import Decimal\n",
    "\n",
    "class Fees(object):\n",
    "\n",
    "    def __init__(self):\n",
    "        #Конструктор\n",
    "        self._fee = None\n",
    "\n",
    "    @property\n",
    "    def fee(self):\n",
    "        #Возвращаем текущую комиссию - геттер\n",
    "        return self._fee\n",
    "\n",
    "    @fee.setter\n",
    "    def set_fee(self, value):\n",
    "        #Устанавливаем размер комиссии - сеттер\n",
    "        if isinstance(value, str):\n",
    "            self._fee = Decimal(value)\n",
    "        elif isinstance(value, Decimal):\n",
    "            self._fee = value\n",
    "\n",
    "f = Fees()"
   ]
  },
  {
   "cell_type": "markdown",
   "metadata": {},
   "source": [
    "Данный код демонстрирует, как создать сеттер для свойства fee. Можно сделать это, декорируя второй метод, который также называется fee с декоратором, под названием <@fee.setter>."
   ]
  },
  {
   "cell_type": "markdown",
   "metadata": {},
   "source": [
    "### Итоги"
   ]
  },
  {
   "cell_type": "markdown",
   "metadata": {},
   "source": [
    "В итоге вы должны понимать, как создавать собственные декораторы и как использовать встроенные декораторы Python. Также мы рассмотрели @property."
   ]
  },
  {
   "cell_type": "code",
   "execution_count": null,
   "metadata": {},
   "outputs": [],
   "source": []
  }
 ],
 "metadata": {
  "kernelspec": {
   "display_name": "Python 3",
   "language": "python",
   "name": "python3"
  },
  "language_info": {
   "codemirror_mode": {
    "name": "ipython",
    "version": 3
   },
   "file_extension": ".py",
   "mimetype": "text/x-python",
   "name": "python",
   "nbconvert_exporter": "python",
   "pygments_lexer": "ipython3",
   "version": "3.8.5"
  }
 },
 "nbformat": 4,
 "nbformat_minor": 4
}
