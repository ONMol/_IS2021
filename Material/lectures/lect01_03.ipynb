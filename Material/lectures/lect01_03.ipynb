{
 "cells": [
  {
   "cell_type": "markdown",
   "metadata": {},
   "source": [
    "# <font color=red>Лекция 1.3</font> <font color=blue>Циклы</font>"
   ]
  },
  {
   "cell_type": "markdown",
   "metadata": {},
   "source": [
    "Циклы позволяют повторять некоторое действие в зависимости от соблюдения некоторого условия."
   ]
  },
  {
   "cell_type": "markdown",
   "metadata": {},
   "source": [
    "## Цикл while"
   ]
  },
  {
   "cell_type": "markdown",
   "metadata": {},
   "source": [
    "   Первый цикл, который мы рассмотрим, это цикл while. Он имеет следующее формальное определение:\n",
    "\t\n",
    "    while условное_выражение:\n",
    "\n",
    "       инструкции\n",
    "\n",
    "   После ключевого слова while указывается условное выражение, и пока это выражение возвращает значение True, будет выполняться блок инструкций, который идет далее.\n",
    "\n",
    "   Все инструкции, которые относятся к циклу while, располагаются на последующих строках и должны иметь отступ от начала строки."
   ]
  },
  {
   "cell_type": "code",
   "execution_count": 2,
   "metadata": {},
   "outputs": [
    {
     "name": "stdout",
     "output_type": "stream",
     "text": [
      "Привет\n",
      "Для продолжения нажмите Y, а для выхода любую другую клавишу: N\n",
      "Работа программы завешена\n"
     ]
    }
   ],
   "source": [
    "choice = \"y\"\n",
    " \n",
    "while choice.lower() == \"y\":\n",
    "    print(\"Привет\")\n",
    "    choice = input(\"Для продолжения нажмите Y, а для выхода любую другую клавишу: \")\n",
    "print(\"Работа программы завешена\")"
   ]
  },
  {
   "cell_type": "markdown",
   "metadata": {},
   "source": [
    "В данном случае цикл while будет продолжаться, пока переменная choice содержит латинскую букву \"Y\" или \"y\".\n",
    "\n",
    "Сам блок цикла состоит из двух инструкций. Сначала выводится сообщение \"Привет\", а потом вводится новое значение для переменной choice. И если пользователь нажмет какую-то другую клавишу, отличную от Y, произойдет выход из цикла, так как условие choice.lower() == \"y\" вернет значение False. Каждый такой проход цикла называется итерацией.\n",
    "\n",
    "Также обратите внимание, что последняя инструкция print(\"Работа программы завешена\") не имеет отступов от начала строки, поэтому она не входит в цикл while."
   ]
  },
  {
   "cell_type": "markdown",
   "metadata": {},
   "source": [
    "#### Вывод чисел от 0 до 10"
   ]
  },
  {
   "cell_type": "code",
   "execution_count": 3,
   "metadata": {},
   "outputs": [
    {
     "name": "stdout",
     "output_type": "stream",
     "text": [
      "0\n",
      "1\n",
      "2\n",
      "3\n",
      "4\n",
      "5\n",
      "6\n",
      "7\n",
      "8\n",
      "9\n",
      "10\n"
     ]
    }
   ],
   "source": [
    "i=0\n",
    "while i<=10:\n",
    "    print(i)\n",
    "    i+=1 #i=i+1"
   ]
  },
  {
   "cell_type": "markdown",
   "metadata": {},
   "source": [
    "#### Умножение первой десятки чисел на 6"
   ]
  },
  {
   "cell_type": "code",
   "execution_count": 4,
   "metadata": {},
   "outputs": [
    {
     "name": "stdout",
     "output_type": "stream",
     "text": [
      "1 * 6 = 6\n",
      "2 * 6 = 12\n",
      "3 * 6 = 18\n",
      "4 * 6 = 24\n",
      "5 * 6 = 30\n",
      "6 * 6 = 36\n",
      "7 * 6 = 42\n",
      "8 * 6 = 48\n",
      "9 * 6 = 54\n",
      "10 * 6 = 60\n"
     ]
    }
   ],
   "source": [
    "i=1\n",
    "while i<=10:\n",
    "    print(i,'* 6 =',i*6)\n",
    "    i+=1"
   ]
  },
  {
   "cell_type": "markdown",
   "metadata": {},
   "source": [
    "#### Сумма  и произведение чисел от 1 до 20"
   ]
  },
  {
   "cell_type": "code",
   "execution_count": 7,
   "metadata": {},
   "outputs": [
    {
     "name": "stdout",
     "output_type": "stream",
     "text": [
      "210\n"
     ]
    }
   ],
   "source": [
    "i=1\n",
    "s=0\n",
    "while i<=20:\n",
    "    s+=i #s=s+i\n",
    "    i+=1\n",
    "print(s)"
   ]
  },
  {
   "cell_type": "code",
   "execution_count": 10,
   "metadata": {},
   "outputs": [
    {
     "name": "stdout",
     "output_type": "stream",
     "text": [
      "2432902008176640000\n"
     ]
    }
   ],
   "source": [
    "i=1\n",
    "s=1\n",
    "while i<=20:\n",
    "    s*=i\n",
    "    i+=1\n",
    "print(s)"
   ]
  },
  {
   "cell_type": "markdown",
   "metadata": {},
   "source": [
    "#### Сумма чисел с вводом с клавиатуры верхней границы последовательности чисел"
   ]
  },
  {
   "cell_type": "code",
   "execution_count": 12,
   "metadata": {},
   "outputs": [
    {
     "name": "stdout",
     "output_type": "stream",
     "text": [
      "Введите число: 10\n",
      "55\n"
     ]
    }
   ],
   "source": [
    "i=1\n",
    "s=0\n",
    "n=int(input(\"Введите число: \"))\n",
    "while i<=n:\n",
    "    s+=i #s=s+i\n",
    "    i+=1\n",
    "print(s)"
   ]
  },
  {
   "cell_type": "markdown",
   "metadata": {},
   "source": [
    "#### Вычисление факториала"
   ]
  },
  {
   "cell_type": "code",
   "execution_count": 13,
   "metadata": {},
   "outputs": [
    {
     "name": "stdout",
     "output_type": "stream",
     "text": [
      "Введите число: 5\n",
      "Факториал числа 5 равен 120\n"
     ]
    }
   ],
   "source": [
    "number = int(input(\"Введите число: \"))\n",
    "i = 1\n",
    "factorial = 1\n",
    "while i <= number:\n",
    "    factorial *= i #factorial = factorial * i\n",
    "    i += 1\n",
    "print(\"Факториал числа\", number, \"равен\", factorial)"
   ]
  },
  {
   "cell_type": "markdown",
   "metadata": {},
   "source": [
    "#### Нахождение параметров последовательности\n",
    "Дана непустая последовательность натуральных чисел, оканчивающаяся -1. Найти сумму всех четных чисел последовательности."
   ]
  },
  {
   "cell_type": "code",
   "execution_count": 14,
   "metadata": {},
   "outputs": [
    {
     "name": "stdout",
     "output_type": "stream",
     "text": [
      "Введите первое число: 5\n",
      "Введите следующее число: -10\n",
      "Введите следующее число: -2\n",
      "Введите следующее число: 3\n",
      "Введите следующее число: -1\n",
      "Сумма четных чисел последовательности =  -12\n"
     ]
    }
   ],
   "source": [
    "s=0\n",
    "x=int(input(\"Введите первое число: \"))\n",
    "while x!=-1: #<>\n",
    "    if x%2==0:\n",
    "        s+=x #s=s+x\n",
    "    x=int(input(\"Введите следующее число: \"))\n",
    "print(\"Сумма четных чисел последовательности = \",s)\n"
   ]
  },
  {
   "cell_type": "markdown",
   "metadata": {},
   "source": [
    "#### Нахождение НОД двух чисел с помощью алгоритма Евклида"
   ]
  },
  {
   "cell_type": "code",
   "execution_count": 16,
   "metadata": {},
   "outputs": [
    {
     "name": "stdout",
     "output_type": "stream",
     "text": [
      "A 18\n",
      "B 24\n",
      "6\n"
     ]
    }
   ],
   "source": [
    "a=int(input(\"A \"))\n",
    "b=int(input(\"B \"))\n",
    "while a!=b:\n",
    "    if a>b:\n",
    "        a=a-b #a-=b\n",
    "    else:\n",
    "        b=b-a #b-=a\n",
    "print(b)"
   ]
  },
  {
   "cell_type": "markdown",
   "metadata": {},
   "source": [
    "\n",
    "### <font color=\"red\"><u>Домашнее задание</u></font>\n",
    "\n",
    "<font color=\"blue\"><strong>Найти НОК (наименьшее общее кратное) двух чисел, введенных с клавиатуры.</strong>\n",
    "</font>"
   ]
  },
  {
   "cell_type": "markdown",
   "metadata": {},
   "source": [
    "\n",
    "\n",
    "## Цикл for"
   ]
  },
  {
   "cell_type": "markdown",
   "metadata": {},
   "source": [
    "Другой тип циклов представляет конструкция for. Цикл for вызывается для каждого числа в некоторой коллекции чисел. Коллекция чисел создается с помощью функции range(). Формальное определение цикла for:\n",
    "\t\n",
    "    for int_var in функция_range:\n",
    "\n",
    "        инструкции\n",
    "\n",
    "После ключевого слова for идет переменная int_var, которая хранит целые числа (название переменной может быть любое), затем ключевое слово in, вызов функции range() и двоеточие.\n",
    "\n",
    "А со следующей строки располагается блок инструкций цикла, которые также должны иметь отступы от начала строки.\n",
    "\n",
    "При выполнении цикла Python последовательно получает все числа из коллекции, которая создается функцией range, и сохраняет эти числа в переменной int_var. При первом проходе цикл получает первое число из коллекции, при втором - второе число и так далее, пока не переберет все числа. Когда все числа в коллекции будут перебраны, цикл завершает свою работу.\n",
    "\n",
    "Рассмотрим на примере вычисления факториала:"
   ]
  },
  {
   "cell_type": "code",
   "execution_count": null,
   "metadata": {},
   "outputs": [],
   "source": [
    "number = int(input(\"Введите число: \"))\n",
    "factorial = 1\n",
    "for i in range(1, number+1):\n",
    "    factorial *= i\n",
    "print(\"Факториал числа\", number, \"равен\", factorial)"
   ]
  },
  {
   "cell_type": "markdown",
   "metadata": {},
   "source": [
    "Вначале вводим с консоли число. В цикле определяем переменную i, в которую сохраняются числа из коллекции, создаваемой функцией range.\n",
    "\n",
    "Функция range здесь принимает два аргумента - начальное число коллекции (здесь число 1) и число, до которого надо добавлять числа (то есть number +1).\n",
    "\n",
    "Допустим, с консоли вводится число 6, то вызов функции range приобретает следующую форму:\n",
    "\n",
    "    range(1, 6+1):\n",
    "\n",
    "Эта функция будет создавать коллекцию, которая будет начинаться с 1 и будет последовательно наполняться целыми числами вплоть до 7. То есть это будет коллекция [1, 2, 3, 4, 5, 6].\n",
    "\n",
    "При выполнении цикла из этой коллекции последовательно будут передаваться числа в переменную i, а в самом цикле будет происходить умножение переменной i на переменную factorial. В итоге мы получим факториал числа."
   ]
  },
  {
   "cell_type": "markdown",
   "metadata": {},
   "source": [
    "#### Функция range()\n",
    "Функция range имеет следующие формы:\n",
    "\n",
    "    1) range(stop): возвращает все целые числа от 0 (включая) до stop (не включая)\n",
    "\n",
    "    2) range(start, stop): возвращает все целые числа в промежутке от start (включая) до stop (не включая). Выше в программе факториала использована именно эта форма.\n",
    "\n",
    "    3) range(start, stop, step): возвращает целые числа в промежутке от start (включая) до stop (не включая), которые увеличиваются на значение step\n",
    "\n",
    "Примеры вызовов функции range:\n",
    "\n",
    "    range(5)            # 0, 1, 2, 3, 4\n",
    "\n",
    "    range(1, 5)         # 1, 2, 3, 4\n",
    "\n",
    "    range(2, 10, 2)     # 2, 4, 6, 8\n",
    "\n",
    "    range(5, 0, -1)     # 5, 4, 3, 2, 1\n",
    "Например, выведем последовательно все числа от 0 до 4:"
   ]
  },
  {
   "cell_type": "code",
   "execution_count": null,
   "metadata": {},
   "outputs": [],
   "source": [
    "for i in range(5):\n",
    "    print(i, end=\" \")"
   ]
  },
  {
   "cell_type": "markdown",
   "metadata": {},
   "source": [
    "#### Последовательность случайных двузначных чисел"
   ]
  },
  {
   "cell_type": "code",
   "execution_count": null,
   "metadata": {},
   "outputs": [],
   "source": [
    "import random as rnd\n",
    "n=int(input(\"Введите кол-во чисел: \"))\n",
    "for x in range(n):\n",
    "    print(rnd.randint(10,100),end=\" \")\n",
    "print()\n"
   ]
  },
  {
   "cell_type": "markdown",
   "metadata": {},
   "source": [
    "#### Подсчитать кол-во чисел, кратных 3 и 7 среди трехзначных чисел"
   ]
  },
  {
   "cell_type": "code",
   "execution_count": null,
   "metadata": {},
   "outputs": [],
   "source": [
    "k=0\n",
    "for i in range(100,1000):\n",
    "    if i%3==0 and i%7==0:\n",
    "        k+=1\n",
    "        print(i,end=\" \")\n",
    "print()\n",
    "print(k)"
   ]
  },
  {
   "cell_type": "markdown",
   "metadata": {},
   "source": [
    "### <font color=\"red\"><u>Домашнее задание</u></font>\n",
    "\n",
    "<font color=\"blue\"><strong>Найти сумму цифр натурального числа, введенного с клавиатуры.</strong>\n",
    "</font>"
   ]
  },
  {
   "cell_type": "markdown",
   "metadata": {},
   "source": [
    "## Вложенные циклы"
   ]
  },
  {
   "cell_type": "markdown",
   "metadata": {},
   "source": [
    "Одни циклы внутри себя могут содержать другие циклы. Рассмотрим на примере вывода таблицы умножения:"
   ]
  },
  {
   "cell_type": "code",
   "execution_count": null,
   "metadata": {},
   "outputs": [],
   "source": [
    "for i in range(1, 10):\n",
    "    for j in range(1, 10):\n",
    "        print(i * j, end=\"\\t\")\n",
    "    print(\"\\n\")"
   ]
  },
  {
   "cell_type": "markdown",
   "metadata": {},
   "source": [
    "Внешний цикл for i in range(1, 10) срабатывает 9 раз, так как в коллекции, возвращаемой функцией range, 9 чисел. Внутренний цикл for j in range(1, 10) срабатывает 9 раз для одной итерации внешнего цикла, и соответственно 81 раз для всех итераций внешнего цикла.\n",
    "\n",
    "В каждой итерации внутреннего цикла на консоль будет выводится произведение чисел i и j. В итоге мы получим квадратное представление таблицы умножения."
   ]
  },
  {
   "cell_type": "markdown",
   "metadata": {},
   "source": [
    "### Выход из цикла. Break, continue и else.\n"
   ]
  },
  {
   "cell_type": "markdown",
   "metadata": {},
   "source": [
    "Для управления циклом мы можем использовать специальные операторы break и continue. Оператор break осуществляет выход из цикла. А оператор continue выполняет переход к следующей итерации цикла.\n",
    "\n",
    "Оператор break может использоваться, если в цикле образуются условия, которые несовместимы с его дальнейшим выполнением. Рассмотрим следующий пример:"
   ]
  },
  {
   "cell_type": "code",
   "execution_count": null,
   "metadata": {},
   "outputs": [],
   "source": [
    "for i in range(10):\n",
    "    if i==7:\n",
    "        break\n",
    "    print(i)\n",
    "print(\"Цикл закончен\")"
   ]
  },
  {
   "cell_type": "markdown",
   "metadata": {},
   "source": [
    "В этом примере цикл из 10 чисел (от 0 до 9) досрочно прерывает свою работу и передает управление команде, следующей за циклом. Оператор continue в следующем примере пропускает итерацию, в которой значение i равно 7:"
   ]
  },
  {
   "cell_type": "code",
   "execution_count": null,
   "metadata": {},
   "outputs": [],
   "source": [
    "for i in range(10):\n",
    "    if i==7:\n",
    "        continue\n",
    "    print(i)\n",
    "print(\"Цикл закончен\")"
   ]
  },
  {
   "cell_type": "markdown",
   "metadata": {},
   "source": [
    "Оператор else, примененный в цикле for или while, проверяет, был ли произведен выход из цикла инструкцией break, или же \"естественным\" образом. Блок инструкций внутри else выполнится только в том случае, если выход из цикла произошел без помощи break. В нижеприведенном примере цикла for происходит переход к оператору else, так как условие внутри тела цикла не выполнилось ни разу:"
   ]
  },
  {
   "cell_type": "code",
   "execution_count": null,
   "metadata": {},
   "outputs": [],
   "source": [
    "for i in range(0,10,2):\n",
    "    if i==6:\n",
    "        break\n",
    "    print(i)\n",
    "else:\n",
    "    print(\"Число 7 не найдено\")"
   ]
  }
 ],
 "metadata": {
  "kernelspec": {
   "display_name": "Python 3",
   "language": "python",
   "name": "python3"
  },
  "language_info": {
   "codemirror_mode": {
    "name": "ipython",
    "version": 3
   },
   "file_extension": ".py",
   "mimetype": "text/x-python",
   "name": "python",
   "nbconvert_exporter": "python",
   "pygments_lexer": "ipython3",
   "version": "3.8.5"
  }
 },
 "nbformat": 4,
 "nbformat_minor": 4
}
