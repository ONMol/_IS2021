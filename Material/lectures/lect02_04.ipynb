{
 "cells": [
  {
   "cell_type": "markdown",
   "metadata": {},
   "source": [
    "# <font color=red>Лекция 2.4</font> <font color=blue>Работа с файлами</font>"
   ]
  },
  {
   "cell_type": "markdown",
   "metadata": {},
   "source": [
    "## 1. Модуль OS и работа с файловой системой"
   ]
  },
  {
   "cell_type": "markdown",
   "metadata": {},
   "source": [
    "Ряд возможностей по работе с каталогами и файлами предоставляет встроенный модуль **os**. Хотя он содержит много функций, рассмотрим только основные из них:\n",
    "\n",
    "- mkdir(): создает новую папку\n",
    "- rmdir(): удаляет папку\n",
    "- rename(): переименовывает файл\n",
    "- remove(): удаляет файл\n",
    "\n",
    "#### Создание и удаление папки\n",
    "\n",
    "Для создания папки применяется функция mkdir(), в которую передается путь к создаваемой папке:"
   ]
  },
  {
   "cell_type": "code",
   "execution_count": null,
   "metadata": {},
   "outputs": [],
   "source": [
    "import os\n",
    " \n",
    "# путь относительно текущего скрипта\n",
    "os.mkdir(\"hello\")\n",
    "# абсолютный путь\n",
    "os.mkdir(\"c://somedir\")\n",
    "os.mkdir(\"c://somedir/hello\")"
   ]
  },
  {
   "cell_type": "markdown",
   "metadata": {},
   "source": [
    "Для удаления папки используется функция rmdir(), в которую передается путь к удаляемой папке:"
   ]
  },
  {
   "cell_type": "code",
   "execution_count": null,
   "metadata": {},
   "outputs": [],
   "source": [
    "import os\n",
    " \n",
    "# путь относительно текущего скрипта\n",
    "os.rmdir(\"hello\")\n",
    "# абсолютный путь\n",
    "os.rmdir(\"c://somedir/hello\")"
   ]
  },
  {
   "cell_type": "markdown",
   "metadata": {},
   "source": [
    "#### Переименование файла\n",
    "\n",
    "Для переименования вызывается функция rename(source, target), первый параметр которой - путь к исходному файлу, а второй - новое имя файла. В качестве путей могут использоваться как абсолютные, так и относительные. Например, пусть в папке C://SomeDir/ располагается файл somefile.txt. Переименуем его в файл \"hello.txt\":"
   ]
  },
  {
   "cell_type": "code",
   "execution_count": null,
   "metadata": {},
   "outputs": [],
   "source": [
    "import os\n",
    " \n",
    "os.rename(\"C://SomeDir/somefile.txt\", \"C://SomeDir/hello.txt\")"
   ]
  },
  {
   "cell_type": "markdown",
   "metadata": {},
   "source": [
    "#### Удаление файла\n",
    "\n",
    "Для удаления вызывается функция remove(), в которую передается путь к файлу:"
   ]
  },
  {
   "cell_type": "code",
   "execution_count": null,
   "metadata": {},
   "outputs": [],
   "source": [
    "import os\n",
    " \n",
    "os.remove(\"C://SomeDir/hello.txt\")"
   ]
  },
  {
   "cell_type": "markdown",
   "metadata": {},
   "source": [
    "#### Существование файла\n",
    "\n",
    "Если мы попытаемся открыть файл, который не существует, то Python выбросит исключение FileNotFoundError. Для отлова исключения мы можем использовать конструкцию try...except. Однако можно уже до открытия файла проверить, существует ли он или нет с помощью метода os.path.exists(path). В этот метод передается путь, который необходимо проверить:"
   ]
  },
  {
   "cell_type": "code",
   "execution_count": null,
   "metadata": {},
   "outputs": [],
   "source": [
    "filename = input(\"Введите путь к файлу: \")\n",
    "if os.path.exists(filename):\n",
    "    print(\"Указанный файл существует\") \n",
    "else:\n",
    "    print(\"Файл не существует\") "
   ]
  },
  {
   "cell_type": "markdown",
   "metadata": {},
   "source": [
    "## 2. Файлы\n",
    "Python поддерживает множество различных типов файлов, но условно их можно разделить на два виде: текстовые и бинарные. Текстовые файлы - это к примеру файлы с расширением cvs, txt, html, в общем любые файлы, которые сохраняют информацию в текстовом виде. Бинарные файлы - это изображения, аудио и видеофайлы и т.д. В зависимости от типа файла работа с ним может немного отличаться.\n",
    "\n",
    "При работе с файлами необходимо соблюдать некоторую последовательность операций:\n",
    "1. Открытие файла с помощью метода open()\n",
    "2. Чтение файла с помощью метода read() или запись в файл посредством метода write()\n",
    "3. Закрытие файла методом close()"
   ]
  },
  {
   "cell_type": "markdown",
   "metadata": {},
   "source": [
    "### Открытие и закрытие файла\n",
    "Чтобы начать работу с файлом, его надо открыть с помощью функции open(), которая имеет следующее формальное определение:\n",
    "\n",
    "     open(file, mode)\n",
    "Первый параметр функции представляет путь к файлу. Путь файла может быть абсолютным, то есть начинаться с буквы диска, например, C://somedir/somefile.txt. Либо можно быть относительным, например, somedir/somefile.txt - в этом случае поиск файла будет идти относительно расположения запущенного скрипта Python.\n",
    "\n",
    "Второй передаваемый аргумент - mode устанавливает режим открытия файла в зависимости от того, что мы собираемся с ним делать. Существует 4 общих режима:\n",
    "\n",
    "   - r (Read). Файл открывается для чтения. Если файл не найден, то генерируется исключение FileNotFoundError\n",
    "   - w (Write). Файл открывается для записи. Если файл отсутствует, то он создается. Если подобный файл уже есть, то он создается заново, и соответственно старые данные в нем стираются.\n",
    "   - a (Append). Файл открывается для дозаписи. Если файл отсутствует, то он создается. Если подобный файл уже есть, то данные записываются в его конец.\n",
    "   - b (Binary). Используется для работы с бинарными файлами. Применяется вместе с другими режимами - w или r.\n",
    "\n",
    "После завершения работы с файлом его обязательно нужно закрыть методом close(). Данный метод освободит все связанные с файлом используемые ресурсы.\n",
    "\n",
    "Например, откроем для записи текстовый файл \"hello.txt\":"
   ]
  },
  {
   "cell_type": "code",
   "execution_count": null,
   "metadata": {},
   "outputs": [],
   "source": [
    "myfile = open(\"files/hello.txt\", \"w\")\n",
    "\n",
    "myfile.close()"
   ]
  },
  {
   "cell_type": "markdown",
   "metadata": {},
   "source": [
    "При открытии файла или в процессе работы с ним мы можем столкнуться с различными исключениями, например, к нему нет доступа и т.д. В этом случае программа выпадет в ошибку, а ее выполнение не дойдет до вызова метода close, и соответственно файл не будет закрыт.\n",
    "\n",
    "В этом случае мы можем обрабатывать исключения:"
   ]
  },
  {
   "cell_type": "code",
   "execution_count": null,
   "metadata": {},
   "outputs": [],
   "source": [
    "try:\n",
    "    somefile = open(\"files/hello.txt\", \"w\")\n",
    "    try:\n",
    "        somefile.write(\"files/hello world\")\n",
    "    except Exception as e:\n",
    "        print(e)\n",
    "    finally:\n",
    "        somefile.close()\n",
    "except Exception as ex:\n",
    "    print(ex)"
   ]
  },
  {
   "cell_type": "markdown",
   "metadata": {},
   "source": [
    "В данном случае вся работа с файлом идет во вложенном блоке try. И если вдруг возникнет какое-либо исключение, то в любом случае в блоке finally файл будет закрыт.\n",
    "\n",
    "Однако есть и более удобная конструкция - конструкция with:\n",
    "    \n",
    "    with open(file, mode) as file_obj:\n",
    "        инструкции\n",
    "\n",
    "Эта конструкция определяет для открытого файла переменную file_obj и выполняет набор инструкций. После их выполнения файл автоматически закрывается. Даже если при выполнении инструкций в блоке with возникнут какие-либо исключения, то файл все равно закрывается.\n",
    "\n",
    "Так, перепишем предыдущий пример:"
   ]
  },
  {
   "cell_type": "code",
   "execution_count": null,
   "metadata": {},
   "outputs": [],
   "source": [
    "with open(\"files/hello.txt\", \"w\") as somefile:\n",
    "    somefile.write(\"hello world\")"
   ]
  },
  {
   "cell_type": "markdown",
   "metadata": {},
   "source": [
    "### Запись в текстовый файл\n",
    "\n",
    "Чтобы открыть текстовый файл на запись, необходимо применить режим w (перезапись) или a (дозапись). Затем для записи применяется метод write(str), в который передается записываемая строка. Стоит отметить, что записывается именно строка, поэтому, если нужно записать числа, данные других типов, то их предварительно нужно конвертировать в строку.\n",
    "\n",
    "Запишем некоторую информацию в файл \"hello.txt\":"
   ]
  },
  {
   "cell_type": "code",
   "execution_count": null,
   "metadata": {},
   "outputs": [],
   "source": [
    "with open(\"files/hello.txt\", \"w\") as file:\n",
    "    file.write(\"hello world\")"
   ]
  },
  {
   "cell_type": "markdown",
   "metadata": {},
   "source": [
    "Если мы откроем папку files, то увидем там файл hello.txt. Этот файл можно открыть в любом текстовом редакторе и при желании изменить.\n",
    "\n",
    "Теперь дозапишем в этот файл еще одну строку:"
   ]
  },
  {
   "cell_type": "code",
   "execution_count": null,
   "metadata": {},
   "outputs": [],
   "source": [
    "with open(\"files/hello.txt\", \"a\") as file:\n",
    "    file.write(\"\\ngood bye, world\")"
   ]
  },
  {
   "cell_type": "markdown",
   "metadata": {},
   "source": [
    "Дозапись выглядит как добавление строку к последнему символу в файле, поэтому, если необходимо сделать запись с новой строки, то можно использовать эскейп-последовательность \"\\n\". В итоге файл hello.txt будет иметь следующее содержимое:\n",
    "\n",
    "    hello world\n",
    "    good bye, world\n",
    "\n",
    "Еще один способ записи в файл представляет стандартный метод print(), который применяется для вывода данных на консоль:"
   ]
  },
  {
   "cell_type": "code",
   "execution_count": null,
   "metadata": {},
   "outputs": [],
   "source": [
    "with open(\"files/hello.txt\", \"a\") as hello_file:\n",
    "    print(\"Hello, world\", file=hello_file)"
   ]
  },
  {
   "cell_type": "markdown",
   "metadata": {},
   "source": [
    "Для вывода данных в файл в метод print в качестве второго параметра передается название файла через параметр file. А первый параметр представляет записываемую в файл строку."
   ]
  },
  {
   "cell_type": "markdown",
   "metadata": {},
   "source": [
    "### Чтение файла\n",
    "\n",
    "Для чтения файла он открывается с режимом r (Read), и затем мы можем считать его содержимое различными методами:\n",
    "\n",
    "  - readline(): считывает одну строку из файла\n",
    "  - read(): считывает все содержимое файла в одну строку\n",
    "  - readlines(): считывает все строки файла в список\n",
    "\n",
    "Например, считаем выше записанный файл построчно:"
   ]
  },
  {
   "cell_type": "code",
   "execution_count": null,
   "metadata": {},
   "outputs": [],
   "source": [
    "with open(\"files/hello.txt\", \"r\") as file:\n",
    "    for line in file:\n",
    "        print(line, end=\"\")"
   ]
  },
  {
   "cell_type": "markdown",
   "metadata": {},
   "source": [
    "Несмотря на то, что мы явно не применяем метод readline() для чтения каждой строки, но в при переборе файла этот метод автоматически вызывается для получения каждой новой строки. Поэтому в цикле вручную нет смысла вызывать метод readline. И поскольку строки разделяются символом перевода строки \"\\n\", то чтобы исключить излишнего переноса на другую строку в функцию print передается значение end=\"\".\n",
    "\n",
    "Теперь явным образом вызовем метод **readline()** для чтения отдельных строк:"
   ]
  },
  {
   "cell_type": "code",
   "execution_count": null,
   "metadata": {},
   "outputs": [],
   "source": [
    "with open(\"files/hello.txt\", \"r\") as file:\n",
    "    str1 = file.readline()\n",
    "    print(str1, end=\"\")\n",
    "    str2 = file.readline()\n",
    "    print(str2)"
   ]
  },
  {
   "cell_type": "markdown",
   "metadata": {},
   "source": [
    "Метод readline можно использовать для построчного считывания файла в цикле while:"
   ]
  },
  {
   "cell_type": "code",
   "execution_count": null,
   "metadata": {},
   "outputs": [],
   "source": [
    "with open(\"files/hello.txt\", \"r\") as file:\n",
    "    line = file.readline()\n",
    "    while line:\n",
    "        print(line, end=\"\")\n",
    "        line = file.readline()"
   ]
  },
  {
   "cell_type": "markdown",
   "metadata": {},
   "source": [
    "Если файл небольшой, то его можно разом считать с помощью метода **read()**:"
   ]
  },
  {
   "cell_type": "code",
   "execution_count": null,
   "metadata": {},
   "outputs": [],
   "source": [
    "with open(\"files/hello.txt\", \"r\") as file:\n",
    "    content = file.read()\n",
    "    print(content)"
   ]
  },
  {
   "cell_type": "markdown",
   "metadata": {},
   "source": [
    "И также применим метод **readlines()** для считывания всего файла в список строк:"
   ]
  },
  {
   "cell_type": "code",
   "execution_count": null,
   "metadata": {},
   "outputs": [],
   "source": [
    "with open(\"files/hello.txt\", \"r\") as file:\n",
    "    contents = file.readlines()\n",
    "    str1 = contents[0]\n",
    "    str2 = contents[1]\n",
    "    print(str1, end=\"\")\n",
    "    print(str2)"
   ]
  },
  {
   "cell_type": "markdown",
   "metadata": {},
   "source": [
    "При чтении файла мы можем столкнуться с тем, что его кодировка не совпадает с ASCII. В этом случае мы явным образом можем указать кодировку с помощью параметра encoding:"
   ]
  },
  {
   "cell_type": "code",
   "execution_count": null,
   "metadata": {},
   "outputs": [],
   "source": [
    "filename = \"files/hello.txt\"\n",
    "with open(filename, encoding=\"utf8\") as file:\n",
    "    text = file.read()"
   ]
  },
  {
   "cell_type": "markdown",
   "metadata": {},
   "source": [
    "Теперь напишем небольшой скрипт, в котором будет записывать введенный пользователем массив строк и считывать его обратно из файла на консоль:"
   ]
  },
  {
   "cell_type": "code",
   "execution_count": null,
   "metadata": {},
   "outputs": [],
   "source": [
    "# имя файла\n",
    "FILENAME = \"files/messages.txt\"\n",
    "# определяем пустой список\n",
    "messages = list()\n",
    " \n",
    "for i in range(4):\n",
    "    message = input(\"Введите строку \" + str(i+1) + \": \")\n",
    "    messages.append(message + \"\\n\")\n",
    " \n",
    "# запись списка в файл\n",
    "with open(FILENAME, \"a\") as file:\n",
    "    for message in messages:\n",
    "        file.write(message)\n",
    " \n",
    "# считываем сообщения из файла\n",
    "print(\"Считанные сообщения\")\n",
    "with open(FILENAME, \"r\") as file:\n",
    "    for message in file:\n",
    "        print(message, end=\"\")"
   ]
  },
  {
   "cell_type": "markdown",
   "metadata": {},
   "source": [
    "## Файлы CSV\n",
    "Одним из распространенных файловых форматов, которые хранят в удобном виде информацию, является формат csv. Каждая строка в файле csv представляет отдельную запись или строку, которая состоит из отдельных столбцов, разделенных запятыми. Собственно поэтому формат и называется Comma Separated Values. Но хотя формат csv - это формат текстовых файлов, Python для упрощения работы с ним предоставляет специальный встроенный модуль csv.\n",
    "\n",
    "Рассмотрим работу модуля на примере:"
   ]
  },
  {
   "cell_type": "code",
   "execution_count": null,
   "metadata": {},
   "outputs": [],
   "source": [
    "import csv\n",
    " \n",
    "FILENAME = \"files/users.csv\"\n",
    " \n",
    "users = [\n",
    "    [\"Tom\", 28],\n",
    "    [\"Alice\", 23],\n",
    "    [\"Bob\", 34]\n",
    "]\n",
    " \n",
    "with open(FILENAME, \"w\", newline=\"\") as file:\n",
    "    writer = csv.writer(file)\n",
    "    writer.writerows(users)\n",
    "     \n",
    " \n",
    "with open(FILENAME, \"a\", newline=\"\") as file:\n",
    "    user = [\"Sam\", 31]\n",
    "    writer = csv.writer(file)\n",
    "    writer.writerow(user)"
   ]
  },
  {
   "cell_type": "markdown",
   "metadata": {},
   "source": [
    " файл записывается двухмерный список - фактически таблица, где каждая строка представляет одного пользователя. А каждый пользователь содержит два поля - имя и возраст. То есть фактически таблица из трех строк и двух столбцов.\n",
    "\n",
    "При открытии файла на запись в качестве третьего параметра указывается значение newline=\"\" - пустая строка позволяет корректно считывать строки из файла вне зависимости от операционной системы.\n",
    "\n",
    "Для записи нам надо получить объект writer, который возвращается функцией csv.writer(file). В эту функцию передается открытый файл. А собственно запись производится с помощью метода writer.writerows(users) Этот метод принимает набор строк. В нашем случае это двухмерный список.\n",
    "\n",
    "Если необходимо добавить одну запись, которая представляет собой одномерный список, например, [\"Sam\", 31], то в этом случае можно вызвать метод writer.writerow(user)\n",
    "\n",
    "В итоге после выполнения скрипта в той же папке окажется файл users.csv, который будет иметь следующее содержимое:\n",
    "\n",
    "    Tom,28\n",
    "    Alice,23\n",
    "    Bob,34\n",
    "    Sam,31\n",
    "\n",
    "Для чтения из файла нам наоборот нужно создать объект reader:"
   ]
  },
  {
   "cell_type": "code",
   "execution_count": null,
   "metadata": {},
   "outputs": [],
   "source": [
    "import csv\n",
    " \n",
    "FILENAME = \"files/users.csv\"\n",
    " \n",
    "with open(FILENAME, \"r\", newline=\"\") as file:\n",
    "    reader = csv.reader(file)\n",
    "    for row in reader:  #При получении объекта reader мы можем в цикле перебрать все его строки\n",
    "        print(row[0], \" - \", row[1])"
   ]
  },
  {
   "cell_type": "markdown",
   "metadata": {},
   "source": [
    "#### Работа со словарями\n",
    "В примере выше каждая запись или строка представляла собой отдельный список, например, [\"Sam\", 31]. Но кроме того, модуль csv имеет специальные дополнительные возможности для работы со словарями. В частности, функция csv.DictWriter() возвращает объект writer, который позволяет записывать в файл. А функция csv.DictReader() возвращает объект reader для чтения из файла. Например:"
   ]
  },
  {
   "cell_type": "code",
   "execution_count": null,
   "metadata": {},
   "outputs": [],
   "source": [
    "import csv\n",
    " \n",
    "FILENAME = \"files/users.csv\"\n",
    " \n",
    "users = [\n",
    "    {\"name\": \"Tom\", \"age\": 28},\n",
    "    {\"name\": \"Alice\", \"age\": 23},\n",
    "    {\"name\": \"Bob\", \"age\": 34}\n",
    "]\n",
    " \n",
    "with open(FILENAME, \"w\", newline=\"\") as file:\n",
    "    columns = [\"name\", \"age\"]\n",
    "    writer = csv.DictWriter(file, fieldnames=columns)\n",
    "    writer.writeheader()\n",
    "     \n",
    "    # запись нескольких строк\n",
    "    writer.writerows(users)\n",
    "     \n",
    "    user = {\"name\" : \"Sam\", \"age\": 41}\n",
    "    # запись одной строки\n",
    "    writer.writerow(user)\n",
    " \n",
    "with open(FILENAME, \"r\", newline=\"\") as file:\n",
    "    reader = csv.DictReader(file)\n",
    "    for row in reader:\n",
    "        print(row[\"name\"], \"-\", row[\"age\"])"
   ]
  },
  {
   "cell_type": "markdown",
   "metadata": {},
   "source": [
    "Запись строк также производится с помощью методов writerow() и writerows(). Но теперь каждая строка представляет собой отдельный словарь, и кроме того, производится запись и заголовков столбцов с помощью метода writeheader(), а в метод csv.DictWriter в качестве второго параметра передается набор столбцов.\n",
    "\n",
    "При чтении строк, используя названия столбцов, мы можем обратиться к отдельным значениям внутри строки: row[\"name\"]."
   ]
  },
  {
   "cell_type": "markdown",
   "metadata": {},
   "source": [
    "## <center>Бинарные  файлы <font color=red>(дополнительный материал)</font></center>"
   ]
  },
  {
   "cell_type": "markdown",
   "metadata": {},
   "source": [
    "Бинарные файлы в отличие от текстовых хранят информацию в виде набора байт. Для работы с ними в Python необходим встроенный модуль pickle. Этот модуль предоставляет два метода:\n",
    "\n",
    "    dump(obj, file): записывает объект obj в бинарный файл file\n",
    "\n",
    "    load(file): считывает данные из бинарного файла в объект\n",
    "\n",
    "При открытии бинарного файла на чтение или запись также надо учитывать, что нам нужно применять режим \"b\" в дополнение к режиму записи (\"w\") или чтения (\"r\"). Допустим, надо надо сохранить два объекта:"
   ]
  },
  {
   "cell_type": "code",
   "execution_count": null,
   "metadata": {},
   "outputs": [],
   "source": [
    "import pickle\n",
    " \n",
    "FILENAME = \"files/user.dat\"\n",
    " \n",
    "name = \"Tom\"\n",
    "age = 19\n",
    " \n",
    "with open(FILENAME, \"wb\") as file:\n",
    "    pickle.dump(name, file)\n",
    "    pickle.dump(age, file)\n",
    " \n",
    "with open(FILENAME, \"rb\") as file:\n",
    "    name = pickle.load(file)\n",
    "    age = pickle.load(file)\n",
    "    print(\"Имя:\", name, \"\\tВозраст:\", age)"
   ]
  },
  {
   "cell_type": "markdown",
   "metadata": {},
   "source": [
    "С помощью функции dump последовательно записываются два объекта. Поэтому при чтении файла также последовательно посредством функции load мы можем считать эти объекты.\n",
    "\n",
    "Подобным образом мы можем сохранять и извлекать из файла наборы объектов:"
   ]
  },
  {
   "cell_type": "code",
   "execution_count": null,
   "metadata": {},
   "outputs": [],
   "source": [
    "import pickle\n",
    " \n",
    "FILENAME = \"files/users.dat\"\n",
    " \n",
    "users = [\n",
    "    [\"Tom\", 28, True],\n",
    "    [\"Alice\", 23, False],\n",
    "    [\"Bob\", 34, False]\n",
    "]\n",
    " \n",
    "with open(FILENAME, \"wb\") as file:\n",
    "    pickle.dump(users, file)\n",
    " \n",
    " \n",
    "with open(FILENAME, \"rb\") as file:\n",
    "    users_from_file = pickle.load(file)\n",
    "    for user in users_from_file:\n",
    "        print(\"Имя:\", user[0], \"\\tВозраст:\", user[1], \"\\tЖенат(замужем):\", user[2])"
   ]
  },
  {
   "cell_type": "markdown",
   "metadata": {},
   "source": [
    "В зависимости от того, какой объект мы записывали функцией dump, тот же объект будет возвращен функцией load при считывании файла."
   ]
  },
  {
   "cell_type": "code",
   "execution_count": null,
   "metadata": {},
   "outputs": [],
   "source": []
  }
 ],
 "metadata": {
  "kernelspec": {
   "display_name": "Python 3",
   "language": "python",
   "name": "python3"
  },
  "language_info": {
   "codemirror_mode": {
    "name": "ipython",
    "version": 3
   },
   "file_extension": ".py",
   "mimetype": "text/x-python",
   "name": "python",
   "nbconvert_exporter": "python",
   "pygments_lexer": "ipython3",
   "version": "3.8.5"
  }
 },
 "nbformat": 4,
 "nbformat_minor": 4
}
