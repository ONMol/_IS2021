{
 "cells": [
  {
   "cell_type": "markdown",
   "metadata": {},
   "source": [
    "# <font color=red>Лекция 4.1</font> <font color=blue>Создание и загрузка изображения, получение информации об изображении</font>"
   ]
  },
  {
   "cell_type": "markdown",
   "metadata": {},
   "source": [
    "Библиотека изображений Python, или PIL (Python Imaging Library) нужна для обработки графики в Python. Фредрик Лунд является автором одного из лучших блогов, посвященных Python. Однако он перестал обновляться в далеком 2009 году, незадолго до последнего релиза PIL. К счастью, нашлись разработчики Python, что подхватили проект, создав форк PIL под названием Pillow. Pillow стал заменой оригинальной библиотеки PIL. Он также поддерживает Python 3, чего PIL так и не достиг.\n",
    "\n",
    "Обратите внимание на то, что PIL и Pillow не могут быть установлены одновременно. В документации есть определенные предупреждения, где перечисляются различия между PIL и Pillow. Они обновляются время от времени, поэтому лучше ознакомиться с последними изменениями на [официальной странице](https://pillow.readthedocs.io/en/stable/index.html).\n",
    "\n",
    "Перед началом использования модуля Pillow, давайте укажем некоторые поддерживаемые типы файлов: BMP, EPS, GIF, IM, JPEG, MSP, PCX PNG, PPM, TIFF, WebP, ICO, PSD, PDF. Некоторые типы файлов возможны только для чтения, в то время как другие доступны только для написания. Чтобы увидеть полный список поддерживаемых типов файла и больше информации о них, ознакомьтесь с руководством к Pillow."
   ]
  },
  {
   "cell_type": "markdown",
   "metadata": {},
   "source": [
    "#### Установка Pillow в Python\n",
    "\n",
    "Установить Pillow в Python можно через pip:\n",
    "1. Запустите Cmd\n",
    "2. Выполните pip3 install pillow\n"
   ]
  },
  {
   "cell_type": "markdown",
   "metadata": {},
   "source": [
    "#### Открытие изображения в Python с Pillow\n",
    "\n",
    "Через Pillow можно легко открыть изображение и отобразить его на экране через внешнюю программу. Пример:"
   ]
  },
  {
   "cell_type": "code",
   "execution_count": null,
   "metadata": {},
   "outputs": [],
   "source": [
    "from PIL import Image\n",
    " \n",
    "image = Image.open('Images/jelly.png')\n",
    "image.show()"
   ]
  },
  {
   "cell_type": "markdown",
   "metadata": {},
   "source": [
    "Самый важный класс в Imaging Library Python — это класс Image, определенный в одноименном модуле. Мы используем open(), чтобы открыть изображение в нашей локальной директории. Метод show() в основном используется для отладки. В примере импортируется модуль Image и открывается указанное изображение. На Windows изображение сохранится во временной файле BMP и откроется через доступный просмотрщик изображений типа \"Фотографии\" или программу вроде Paint. На Unix метод открытия сохраняет изображения во временном PPM файле и открывает его через утилиту xv."
   ]
  },
  {
   "cell_type": "markdown",
   "metadata": {},
   "source": [
    "#### Свойства изображения\n",
    "С помощью свойств класса Image можно посмотреть свойства изображения, например:\n",
    "- формат\n",
    "- размер\n",
    "- цветовой режим\n",
    "\n",
    "Рассмотрим пример:"
   ]
  },
  {
   "cell_type": "code",
   "execution_count": null,
   "metadata": {},
   "outputs": [],
   "source": [
    "from PIL import Image\n",
    "\n",
    "image = Image.open('Images/jelly.jpg')\n",
    "print('Формат изображения: ',image.format)\n",
    "print('Размер изображения: ',image.size)\n",
    "print('Цветовой режим изображения: ',image.mode)"
   ]
  },
  {
   "cell_type": "markdown",
   "metadata": {},
   "source": [
    "#### Обрезка изображений через Pillow (crop)\n",
    "\n",
    "Pillow также можно использовать для обрезки изображения. Это довольно легкий процесс, хотя он постигается методом проб и ошибок. Попробуем обрезать нашу картинку с медузой через Image.crop():"
   ]
  },
  {
   "cell_type": "code",
   "execution_count": null,
   "metadata": {},
   "outputs": [],
   "source": [
    "from PIL import Image\n",
    " \n",
    "image = Image.open('Images/jelly.png')\n",
    "cropped = image.crop((0, 80, 600, 400))\n",
    "cropped.save('Images/cropped_jelly.png')"
   ]
  },
  {
   "cell_type": "code",
   "execution_count": null,
   "metadata": {},
   "outputs": [],
   "source": []
  },
  {
   "cell_type": "markdown",
   "metadata": {},
   "source": [
    "Обратите внимание, здесь просто нужно открыть изображение, после чего вызвать метод crop(). Потребуется передать координаты x,y того, что нужно обрезать, например (x1, y1, x2, y2).\n",
    "\n",
    "В Pillow пиксель 0 является верхним левым уровнем. С увеличением значения x идет смещение вправо. С увеличением значения y идет смещение вниз. \n",
    "\n",
    "Довольно унылый результат. Хотелось бы получить «голову» медузы. Для быстрого получения правильных координат можно использовать Paint или Photoshop. Он поможет определить координаты для следующего обрезания."
   ]
  },
  {
   "cell_type": "code",
   "execution_count": null,
   "metadata": {},
   "outputs": [],
   "source": [
    "from PIL import Image\n",
    " \n",
    "image = Image.open('Images/jelly.png')\n",
    "cropped = image.crop((85, 440, 570, 820))\n",
    "cropped.save('Images/cropped_jelly2.png')"
   ]
  },
  {
   "cell_type": "markdown",
   "metadata": {},
   "source": [
    "При запуске кода результатом станет обрезанное изображение."
   ]
  },
  {
   "cell_type": "markdown",
   "metadata": {},
   "source": [
    "#### Изменение размера изображения\n",
    "После запуска кода вы должны увидеть новое изображение с измененным размером в вашем каталоге с размером 320 на 320:"
   ]
  },
  {
   "cell_type": "code",
   "execution_count": null,
   "metadata": {},
   "outputs": [],
   "source": [
    "from PIL import Image\n",
    "\n",
    "image = Image.open('Images/jelly.png')\n",
    "resized_image = image.resize((250,250))\n",
    "resized_image.save('Images/resized_jelly.png')"
   ]
  },
  {
   "cell_type": "markdown",
   "metadata": {},
   "source": [
    "#### Поворачивание изображения — метод rotate() Pillow\n",
    "\n",
    "Image.rotate() возвращает развернутую копию изображения."
   ]
  },
  {
   "cell_type": "code",
   "execution_count": null,
   "metadata": {},
   "outputs": [],
   "source": [
    "from PIL import Image\n",
    "import sys\n",
    " \n",
    "try:\n",
    "    tatras = Image.open(\"Images/tatras.jpg\")\n",
    "except IOError:\n",
    "    print(\"Unable to load image\")\n",
    "    sys.exit(1)\n",
    "    \n",
    "rotated = tatras.rotate(45)\n",
    "rotated.save('Images/tatras_rotated.jpg')"
   ]
  },
  {
   "cell_type": "markdown",
   "metadata": {},
   "source": [
    "#### Использование фильтров в Pillow\n",
    "Pillow позволяет использовать множество различных фильтров для обработки изображения. Они являются частью модуля ImageFilter. Давайте рассмотрим несколько примеров использования метода filter():"
   ]
  },
  {
   "cell_type": "code",
   "execution_count": null,
   "metadata": {},
   "outputs": [],
   "source": [
    "from PIL import ImageFilter\n",
    "from PIL import Image\n",
    " \n",
    "image = Image.open('Images/jelly.jpg')\n",
    "blurred_jelly = image.filter(ImageFilter.BLUR)\n",
    "blurred_jelly.save('Images/blurry_jelly.png')"
   ]
  },
  {
   "cell_type": "markdown",
   "metadata": {},
   "source": [
    "Однако в большинстве случаев размывать изображение нет нужды, наоборот — требуется увеличить резкость. Pillow меняет резкость картинки следующим образом:"
   ]
  },
  {
   "cell_type": "code",
   "execution_count": null,
   "metadata": {},
   "outputs": [],
   "source": [
    "from PIL import ImageFilter\n",
    "from PIL import Image\n",
    " \n",
    "image = Image.open('Images/jelly.jpg')\n",
    "blurred_jelly = image.filter(ImageFilter.SHARPEN)\n",
    "blurred_jelly.save('Images/sharper_jelly.png')"
   ]
  },
  {
   "cell_type": "markdown",
   "metadata": {},
   "source": [
    "Модуль ImageFilter содержит определения предопределенных наборов фильтров и может использоваться с методом Image.filter ().\n",
    "\n",
    "Версия этой библиотеки 3.3.x предоставляет следующий набор предопределенных фильтров улучшения изображения:\n",
    "\n",
    "1. BLUR **Размытый фильтр.** Сделает изображение более размытым, чем оригинал.\n",
    "2. CONTOUR **Контурные линии.** То есть, контурная фильтрация, извлечение информации о контуре в изображении\n",
    "3. DETALL **Подробности.** То есть фильтрация улучшения деталей, он покажет детали на картинке.\n",
    "4. EDGE_ENHANCE **Улучшение краев.** Фильтрация по краям - метод улучшения изображения, который выделяет, усиливает и улучшает границы и контуры между различными серыми областями изображения. После обработки граница и край появляются на изображении как внезапное изменение уровня серого изображения, которое используется для улучшения способности распознавания человеческого глаза.\n",
    "5. EDGE_EHANCE_MORE **Края сильнее.** Глубокая фильтрация улучшений края сделает краевую часть изображения более очевидной.\n",
    "6. EMBOSS **Рельеф.** Выбитая фильтрация сделает изображение рельефным.\n",
    "7. FIND_EDGES **Поиск по краю.** Фильтрация для поиска информации о краях позволит найти информацию о краях на изображении.\n",
    "8. SMOOTH **Гладкость.** Плавная фильтрация, выделяющая большую площадь изображения, низкочастотные составляющие, основную часть или подавляющие шум изображения и мешающие высокочастотные составляющие, постепенно увеличивают яркость изображения, уменьшают резкий градиент и улучшают качество изображения.\n",
    "9. SMOOTH_MORE **Плавная гладкость.** Глубокая плавная фильтрация сделает изображение более плавным.\n",
    "10. SHARPEN **Резкость.** Компенсация контуров изображения, усиление края изображения и части серого перехода, обеспечение четкости изображения."
   ]
  },
  {
   "cell_type": "markdown",
   "metadata": {},
   "source": [
    "#### Создание рисунка в Pillow\n",
    "\n",
    "У Pillow есть базовые возможности для создания 2D графики. Модуль ImageDraw предоставляет простую 2D графику для объектов Image. Мы можем создавать новые изображения, аннотации к ним, ретушировать существующие фото, а также сразу генерировать графику для веб."
   ]
  },
  {
   "cell_type": "code",
   "execution_count": null,
   "metadata": {},
   "outputs": [],
   "source": [
    "from PIL import Image, ImageDraw\n",
    " \n",
    "# Создаем белый квадрат\n",
    "img = Image.new('RGBA', (200, 200), 'white')    \n",
    "idraw = ImageDraw.Draw(img)\n",
    " \n",
    "idraw.rectangle((10, 10, 100, 100), fill='blue')\n",
    " \n",
    "img.save('Images/rectangle.png')"
   ]
  },
  {
   "cell_type": "markdown",
   "metadata": {},
   "source": [
    "В примере создается новое изображение, на котором нарисован голубой прямоугольник поверх белого фона.\n",
    "\n",
    "    img = Image.new('RGBA', (200, 200), 'white')\n",
    "\n",
    "Создается новое изображение, у которого режим «RGBA», размер 200х200 и белый фон.\n",
    "\n",
    "    idraw = ImageDraw.Draw(img)\n",
    "\n",
    "Из картинки создается объект ImageDraw. Теперь на нем можно что-то нарисовать.\n",
    "Python\n",
    "\n",
    "    idraw.rectangle((10, 10, 100, 100), fill='blue')\n",
    "\n",
    "С помощью метода rectangle() на площади созданного изображения мы нарисовали голубой прямоугольник."
   ]
  },
  {
   "cell_type": "markdown",
   "metadata": {},
   "source": [
    "#### ImageFont — Пишем текст на изображение используя Pillow\n",
    "\n",
    "В следующем коде показано, как в Python можно написать текст на изображении с помощью Pillow."
   ]
  },
  {
   "cell_type": "code",
   "execution_count": null,
   "metadata": {},
   "outputs": [],
   "source": [
    "from PIL import Image, ImageDraw, ImageFont\n",
    "import sys\n",
    " \n",
    "try:\n",
    "    tatras = Image.open(\"Images/tatras.jpg\")\n",
    "except:\n",
    "    print(\"Unable to load image\")\n",
    "    sys.exit(1)\n",
    "    \n",
    "idraw = ImageDraw.Draw(tatras)\n",
    "text = \"High Tatras\"\n",
    " \n",
    "font = ImageFont.truetype(\"arial.ttf\", size=18)\n",
    " \n",
    "idraw.text((10, 10), text, font=font)\n",
    " \n",
    "tatras.save('Images/tatras_watermarked.png')"
   ]
  },
  {
   "cell_type": "code",
   "execution_count": null,
   "metadata": {},
   "outputs": [],
   "source": []
  }
 ],
 "metadata": {
  "kernelspec": {
   "display_name": "Python 3",
   "language": "python",
   "name": "python3"
  },
  "language_info": {
   "codemirror_mode": {
    "name": "ipython",
    "version": 3
   },
   "file_extension": ".py",
   "mimetype": "text/x-python",
   "name": "python",
   "nbconvert_exporter": "python",
   "pygments_lexer": "ipython3",
   "version": "3.8.5"
  }
 },
 "nbformat": 4,
 "nbformat_minor": 4
}
