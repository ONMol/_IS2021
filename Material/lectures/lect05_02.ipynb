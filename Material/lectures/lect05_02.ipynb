{
 "cells": [
  {
   "cell_type": "markdown",
   "metadata": {},
   "source": [
    "# <font color=red>Лекция 5.3</font> <font color=blue>Обмен данными с помощью модуля request</font>"
   ]
  },
  {
   "cell_type": "markdown",
   "metadata": {},
   "source": [
    "Пример:"
   ]
  },
  {
   "cell_type": "code",
   "execution_count": null,
   "metadata": {},
   "outputs": [],
   "source": [
    "import requests\n",
    "from bs4 import BeautifulSoup\n",
    "import csv"
   ]
  },
  {
   "cell_type": "code",
   "execution_count": null,
   "metadata": {},
   "outputs": [],
   "source": [
    "HOST = \"https://www.nbrb.by\"\n",
    "user_agent = {'User-Agent': 'Mozilla/5.0 (Windows NT 10.0; Win64; x64; rv:98.0) Gecko/20100101 Firefox/98.0'}\n",
    "url = \"https://www.nbrb.by/statistics/rates/ratesdaily.asp\"\n",
    "r = requests.get(url, headers = user_agent)\n",
    "#print(r)\n",
    "#print(r.text)\n",
    "\n",
    "soup = BeautifulSoup(r.text,\"html.parser\")\n",
    "#print(soup)\n",
    "\n",
    "items = soup.find_all(\"tr\")\n",
    "items.pop(0)\n",
    "#print(items)\n",
    "courses = []\n",
    "for item in items:\n",
    "    _item = item.find_all(\"td\")\n",
    "    #print(_item)\n",
    "    courses.append({\n",
    "        'naim': _item[0].find(\"span\",class_=\"text\").get_text(),\n",
    "        'curAmount': _item[1].get_text(),\n",
    "        'curs': _item[2].get_text().strip()\n",
    "    })\n",
    "print(courses)\n",
    "with open('files/curs.csv','w') as file:\n",
    "    writer = csv.DictWriter(\n",
    "        file,\n",
    "        fieldnames = ['naim','curAmount','curs'],\n",
    "        delimiter = ';',\n",
    "        lineterminator = '\\r',\n",
    "        quoting = csv.QUOTE_MINIMAL\n",
    "    )\n",
    "    writer.writeheader();\n",
    "    for elem in courses:\n",
    "        writer.writerow(elem)\n"
   ]
  },
  {
   "cell_type": "code",
   "execution_count": null,
   "metadata": {},
   "outputs": [],
   "source": []
  }
 ],
 "metadata": {
  "kernelspec": {
   "display_name": "Python 3",
   "language": "python",
   "name": "python3"
  },
  "language_info": {
   "codemirror_mode": {
    "name": "ipython",
    "version": 3
   },
   "file_extension": ".py",
   "mimetype": "text/x-python",
   "name": "python",
   "nbconvert_exporter": "python",
   "pygments_lexer": "ipython3",
   "version": "3.8.3"
  }
 },
 "nbformat": 4,
 "nbformat_minor": 4
}
