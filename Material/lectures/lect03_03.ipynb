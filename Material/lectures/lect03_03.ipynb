{
 "cells": [
  {
   "cell_type": "markdown",
   "metadata": {},
   "source": [
    "# <font color=red>Лекция 3.3</font> <font color=blue>Наследование</font>"
   ]
  },
  {
   "cell_type": "markdown",
   "metadata": {},
   "source": [
    "#### Модификаторы доступа\n",
    "\n",
    "Модификаторы доступа в Python используются для модификации области видимости переменных по умолчанию. Есть три типа модификаторов доступов в Python ООП:\n",
    "\n",
    "    публичный — public;\n",
    "    приватный — private;\n",
    "    защищенный — protected.\n",
    "\n",
    "Доступ к переменным с модификаторами публичного доступа открыт из любой точки вне класса, доступ к приватным переменным открыт только внутри класса, и в случае с защищенными переменными, доступ открыт только внутри того же пакета.\n",
    "\n",
    "Для создания приватной переменной, вам нужно проставить префикс двойного подчеркивание __ с названием переменной.\n",
    "\n",
    "Для создания защищенной переменной, вам нужно проставить префикс из одного нижнего подчеркивания _ с названием переменной. Для публичных переменных, вам не нужно проставлять префиксы вообще.\n",
    "\n",
    "Давайте взглянем на **публичные, приватные и защищенные** переменные в действии. Выполните следующий скрипт:"
   ]
  },
  {
   "cell_type": "code",
   "execution_count": 1,
   "metadata": {},
   "outputs": [],
   "source": [
    "class Car:  \n",
    "    def __init__(self):\n",
    "        print (\"Двигатель заведен\")\n",
    "        self.name = \"corolla\"\n",
    "        self.__make = \"toyota\"\n",
    "        self._model = 1999"
   ]
  },
  {
   "cell_type": "markdown",
   "metadata": {},
   "source": [
    "Здесь мы создали простой класс Car с конструктором и тремя переменными: name, make, и model (название, марка и модель). Переменная name является **публичной**, в то время как переменные make и model являются **приватными** и **защищенными**, соответственно.\n",
    "\n",
    "Давайте создадим объект класса Car и попытаемся получить доступ к переменной name. Выполним следующий скрипт:"
   ]
  },
  {
   "cell_type": "code",
   "execution_count": 2,
   "metadata": {},
   "outputs": [
    {
     "name": "stdout",
     "output_type": "stream",
     "text": [
      "Двигатель заведен\n",
      "corolla\n"
     ]
    }
   ],
   "source": [
    "car_a = Car()  \n",
    "print(car_a.name)"
   ]
  },
  {
   "cell_type": "markdown",
   "metadata": {},
   "source": [
    "Так как name является публичной переменной, мы можем получить к ней доступ не из класса. В выдаче вы увидите значение переменной name, выведенное в консоли.\n",
    "\n",
    "Теперь попробуем вывести значение переменной make. Выполняем следующий скрипт:"
   ]
  },
  {
   "cell_type": "code",
   "execution_count": 3,
   "metadata": {},
   "outputs": [
    {
     "ename": "AttributeError",
     "evalue": "'Car' object has no attribute 'make'",
     "output_type": "error",
     "traceback": [
      "\u001b[1;31m---------------------------------------------------------------------------\u001b[0m",
      "\u001b[1;31mAttributeError\u001b[0m                            Traceback (most recent call last)",
      "\u001b[1;32m<ipython-input-3-d3cec27cc813>\u001b[0m in \u001b[0;36m<module>\u001b[1;34m\u001b[0m\n\u001b[1;32m----> 1\u001b[1;33m \u001b[0mprint\u001b[0m\u001b[1;33m(\u001b[0m\u001b[0mcar_a\u001b[0m\u001b[1;33m.\u001b[0m\u001b[0mmake\u001b[0m\u001b[1;33m)\u001b[0m\u001b[1;33m\u001b[0m\u001b[1;33m\u001b[0m\u001b[0m\n\u001b[0m",
      "\u001b[1;31mAttributeError\u001b[0m: 'Car' object has no attribute 'make'"
     ]
    }
   ],
   "source": [
    "print(car_a.make)"
   ]
  },
  {
   "cell_type": "markdown",
   "metadata": {},
   "source": [
    "В выдаче мы получим уведомление об ошибке."
   ]
  },
  {
   "cell_type": "markdown",
   "metadata": {},
   "source": [
    "## Наследование\n",
    "\n",
    "Наследование в объектно-ориентированном программировании очень похоже на наследование в реальной жизни, где ребенок наследует те или иные характеристики его родителей в дополнение к его собственным характеристикам.\n",
    "\n",
    "В объектно-ориентированном программировании, наследование означает отношение IS-A. Например, болид — это транспорт. Наследование это одна из самых удивительных концепций объектно-ориентированного программирования, так как оно подразумевает повторное использование.\n",
    "\n",
    "Основная идея наследования в объектно-ориентированном программировании заключается в том, что класс может наследовать характеристики другого класса. Класс, который наследует другой класс, называется дочерним классом или производным классом, и класс, который дает наследие, называется родительским, или основным.\n",
    "\n",
    "Рассмотрим на очень простой пример наследования. Выполним следующий скрипт:"
   ]
  },
  {
   "cell_type": "code",
   "execution_count": 4,
   "metadata": {},
   "outputs": [],
   "source": [
    "# Создание класса Vehicle\n",
    "class Vehicle:  \n",
    "    def vehicle_method(self):\n",
    "        print(\"Это родительский метод из класса Vehicle\")\n",
    " \n",
    "# Создание класса Car, который наследует Vehicle\n",
    "class Car(Vehicle):  \n",
    "    def car_method(self):\n",
    "        print(\"Это метод из дочернего класса\")"
   ]
  },
  {
   "cell_type": "markdown",
   "metadata": {},
   "source": [
    "В скрипте выше мы создаем два класса: Vehicle и Car, который наследует класс Vehicle. Чтобы наследовать класс, вам нужно только вписать название родительского класса внутри скобок, которая следует за названием дочернего класса. Класс Vehicle содержит метод vehicle_method(), а дочерний класс содержит метод car_method(). Однако, так как класс Car наследует класс Vehicle, он также наследует и метод vehicle_method().\n",
    "\n",
    "Рассмотрим это на практике и выполним следующий скрипт:"
   ]
  },
  {
   "cell_type": "code",
   "execution_count": 5,
   "metadata": {},
   "outputs": [
    {
     "name": "stdout",
     "output_type": "stream",
     "text": [
      "Это родительский метод из класса Vehicle\n"
     ]
    }
   ],
   "source": [
    "car_a = Car()  \n",
    "car_a.vehicle_method() # Вызываем метод родительского класса"
   ]
  },
  {
   "cell_type": "markdown",
   "metadata": {},
   "source": [
    "В этом скрипте мы создали объект класса Car вызывали метод vehicle_method() при помощи объекта класса Car. Вы можете обратить внимание на то, что класс Car не содержит ни одного метода vehicle_method(), но так как он унаследовал класс Vehicle, который содержит vehicle_method(), класс Car также будет использовать его."
   ]
  },
  {
   "cell_type": "markdown",
   "metadata": {},
   "source": [
    "### Множественное наследование Python\n",
    "\n",
    "В Python, родительский класс может иметь несколько дочерних, и, аналогично, дочерний класс может иметь несколько родительских классов. Давайте рассмотрим первый сценарий. Выполним следующий скрипт:"
   ]
  },
  {
   "cell_type": "code",
   "execution_count": 6,
   "metadata": {},
   "outputs": [],
   "source": [
    "# создаем класс Vehicle\n",
    "class Vehicle:  \n",
    "    def vehicle_method(self):\n",
    "        print(\"Это родительский метод из класса Vehicle\")\n",
    " \n",
    "# создаем класс Car, который наследует Vehicle\n",
    "class Car(Vehicle):  \n",
    "    def car_method(self):\n",
    "        print(\"Это дочерний метод из класса Car\")\n",
    " \n",
    "# создаем класс Cycle, который наследует Vehicle\n",
    "class Cycle(Vehicle):  \n",
    "    def cycleMethod(self):\n",
    "        print(\"Это дочерний метод из класса Cycle\")"
   ]
  },
  {
   "cell_type": "markdown",
   "metadata": {},
   "source": [
    "В этом скрипте, родительский класс Vehicle наследуется двумя дочерними классами — Car и Cycle. Оба дочерних класса будут иметь доступ к vehicle_method() родительского класса. Запустите следующий скрипт, чтобы увидеть это лично:"
   ]
  },
  {
   "cell_type": "code",
   "execution_count": 7,
   "metadata": {},
   "outputs": [
    {
     "name": "stdout",
     "output_type": "stream",
     "text": [
      "Это родительский метод из класса Vehicle\n",
      "Это родительский метод из класса Vehicle\n"
     ]
    }
   ],
   "source": [
    "car_a = Car()  \n",
    "car_a.vehicle_method() # вызов метода родительского класса\n",
    "car_b = Cycle()  \n",
    "car_b.vehicle_method() # вызов метода родительского класса"
   ]
  },
  {
   "cell_type": "markdown",
   "metadata": {},
   "source": [
    "В выдаче вы увидите выдачу метода vehicle_method() дважды. В этом примере показано, как родительский класс наследуется двумя дочерними классами. \n",
    "\n",
    "Таким же образом, дочерний класс может иметь несколько родительских. Посмотрим на пример:"
   ]
  },
  {
   "cell_type": "code",
   "execution_count": 8,
   "metadata": {},
   "outputs": [],
   "source": [
    "class Camera:  \n",
    "    def camera_method(self):\n",
    "        print(\"Это родительский метод из класса Camera\")\n",
    " \n",
    "class Radio:  \n",
    "    def radio_method(self):\n",
    "        print(\"Это родительский метод из класса Radio\")\n",
    " \n",
    "class CellPhone(Camera, Radio):  \n",
    "     def cell_phone_method(self):\n",
    "        print(\"Это дочерний метод из класса CellPhone\")"
   ]
  },
  {
   "cell_type": "markdown",
   "metadata": {},
   "source": [
    "В скрипте выше мы создали три класса: Camera, Radio, и CellPhone. Классы Camera и Radio наследуются классом CellPhone. Это значит, что класс CellPhone будет иметь доступ к методам классов Camera и Radio. Следующий скрипт подтверждает это:"
   ]
  },
  {
   "cell_type": "code",
   "execution_count": 9,
   "metadata": {},
   "outputs": [
    {
     "name": "stdout",
     "output_type": "stream",
     "text": [
      "Это родительский метод из класса Camera\n",
      "Это родительский метод из класса Radio\n"
     ]
    }
   ],
   "source": [
    "cell_phone_a = CellPhone()  \n",
    "cell_phone_a.camera_method()  \n",
    "cell_phone_a.radio_method()"
   ]
  },
  {
   "cell_type": "markdown",
   "metadata": {},
   "source": [
    "### Полиморфизм\n",
    "\n",
    "Термин полиморфизм буквально означает наличие нескольких форм. В контексте объектно-ориентированного программирования, полиморфизм означает способность объекта вести себя по-разному.\n",
    "\n",
    "Полиморфизм в программировании реализуется через перегрузку метода, либо через его переопределение.\n",
    "\n",
    "#### Перегрузка метода\n",
    "\n",
    "Перегрузка метода относится к свойству метода вести себя по-разному, в зависимости от количества или типа параметров. Взглянем на очень простой пример перегрузки метода. Выполним следующий скрипт:"
   ]
  },
  {
   "cell_type": "code",
   "execution_count": 10,
   "metadata": {},
   "outputs": [],
   "source": [
    "# создаем класс Car\n",
    "class Car:  \n",
    "   def start(self, a, b=None):\n",
    "        if b is not None:\n",
    "            print (a + b)\n",
    "        else:\n",
    "            print (a)"
   ]
  },
  {
   "cell_type": "markdown",
   "metadata": {},
   "source": [
    "В скрипте выше, если метод start() вызывается передачей одного аргумента, параметр будет выведен на экран. Однако, если мы передадим 2 аргумента методу start(), он внесет оба аргумента и выведет результат суммы.\n",
    "\n",
    "Попробуем с одним аргументом для начала:"
   ]
  },
  {
   "cell_type": "code",
   "execution_count": 11,
   "metadata": {},
   "outputs": [
    {
     "name": "stdout",
     "output_type": "stream",
     "text": [
      "10\n"
     ]
    }
   ],
   "source": [
    "car_a = Car()  \n",
    "car_a.start(10)"
   ]
  },
  {
   "cell_type": "markdown",
   "metadata": {},
   "source": [
    "В выдаче мы можем видеть 10. Теперь попробуем передать два аргумента:"
   ]
  },
  {
   "cell_type": "code",
   "execution_count": 12,
   "metadata": {},
   "outputs": [
    {
     "name": "stdout",
     "output_type": "stream",
     "text": [
      "30\n"
     ]
    }
   ],
   "source": [
    "car_a.start(10, 20)"
   ]
  },
  {
   "cell_type": "markdown",
   "metadata": {},
   "source": [
    "В выдаче вы увидите 30."
   ]
  },
  {
   "cell_type": "markdown",
   "metadata": {},
   "source": [
    "#### Переопределение метода\n",
    "\n",
    "Переопределение метода относится к наличию метода с одинаковым названием в дочернем и родительском классах. Определение метода отличается в родительском и дочернем классах, но название остается тем же. Давайте посмотрим на простой пример переопределения метода в Python."
   ]
  },
  {
   "cell_type": "code",
   "execution_count": 13,
   "metadata": {},
   "outputs": [],
   "source": [
    "# создание класса Vehicle\n",
    "class Vehicle:  \n",
    "    def print_details(self):\n",
    "        print(\"Это родительский метод из класса Vehicle\")\n",
    " \n",
    "# создание класса, который наследует Vehicle\n",
    "class Car(Vehicle):  \n",
    "    def print_details(self):\n",
    "        print(\"Это дочерний метод из класса Car\")\n",
    " \n",
    "# создание класса Cycle, который наследует Vehicle\n",
    "class Cycle(Vehicle):  \n",
    "    def print_details(self):\n",
    "        print(\"Это дочерний метод из класса Cycle\")"
   ]
  },
  {
   "cell_type": "markdown",
   "metadata": {},
   "source": [
    "В скрипте выше, классы Cycle и Car наследуют класс Vehicle. Класс Vehicle содержит метод print_details(), который переопределен дочерним классом. Теперь, если вы вызовите метод print_details(), выдача будет зависеть от объекта, через который вызывается метод. Выполните следующий скрипт, чтобы понять суть на деле:"
   ]
  },
  {
   "cell_type": "code",
   "execution_count": 14,
   "metadata": {},
   "outputs": [
    {
     "name": "stdout",
     "output_type": "stream",
     "text": [
      "Это родительский метод из класса Vehicle\n",
      "Это дочерний метод из класса Car\n",
      "Это дочерний метод из класса Cycle\n"
     ]
    }
   ],
   "source": [
    "car_a = Vehicle()  \n",
    "car_a. print_details()\n",
    " \n",
    "car_b = Car()  \n",
    "car_b.print_details()\n",
    " \n",
    "car_c = Cycle()  \n",
    "car_c.print_details()"
   ]
  },
  {
   "cell_type": "markdown",
   "metadata": {},
   "source": [
    "Как вы видите, выдача отличается, к тому же метод print_details() вызывается через производные классы одного и того же базового класса. Однако, так как дочерние классы переопределены методом родительского класса, методы ведут себя по-разному."
   ]
  },
  {
   "cell_type": "code",
   "execution_count": null,
   "metadata": {},
   "outputs": [],
   "source": []
  }
 ],
 "metadata": {
  "kernelspec": {
   "display_name": "Python 3",
   "language": "python",
   "name": "python3"
  },
  "language_info": {
   "codemirror_mode": {
    "name": "ipython",
    "version": 3
   },
   "file_extension": ".py",
   "mimetype": "text/x-python",
   "name": "python",
   "nbconvert_exporter": "python",
   "pygments_lexer": "ipython3",
   "version": "3.8.5"
  }
 },
 "nbformat": 4,
 "nbformat_minor": 4
}
