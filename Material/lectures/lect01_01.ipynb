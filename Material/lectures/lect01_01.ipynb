{
 "cells": [
  {
   "cell_type": "markdown",
   "metadata": {},
   "source": [
    "# <u><font color=red>Лекция 1.1</font></u> <font color=blue>Типы данных, переменные, арифметически операторы и математические функции</font>"
   ]
  },
  {
   "cell_type": "markdown",
   "metadata": {},
   "source": [
    "### Простые типы данных"
   ]
  },
  {
   "cell_type": "markdown",
   "metadata": {},
   "source": [
    "Каждое значение в Python имеет тип. Поскольку всё в Python — объекты, типы являются классами, а значения — экземплярами (объектами) этих классов.\n",
    "\n",
    "Прим. перев. В Python 2 типы и классы — разные понятия, в то время как в Python 3 это одно и то же.\n",
    "В Python есть разные типы, давайте рассмотрим самые основные."
   ]
  },
  {
   "cell_type": "markdown",
   "metadata": {},
   "source": [
    "<b>Числа</b>\n",
    "\n",
    "Целые числа, числа с плавающей запятой и комплексные числа относятся к группе чисел. В Python они представлены классами int, float и complex.\n",
    "\n",
    "Целые числа могут быть любой длины, они ограничиваются лишь доступной памятью.\n",
    "\n",
    "Числа с плавающей запятой имеют ограниченную точность. Визуально разницу между целым числом и числом с плавающей запятой можно заметить в консоли по наличию точки: 1 — целое число, 1.0 — с плавающей запятой.\n",
    "\n",
    "Комплексные числа записываются в форме x+yj, где x — действительная часть числа, а y — мнимая."
   ]
  },
  {
   "cell_type": "code",
   "execution_count": 1,
   "metadata": {},
   "outputs": [
    {
     "data": {
      "text/plain": [
       "int"
      ]
     },
     "execution_count": 1,
     "metadata": {},
     "output_type": "execute_result"
    }
   ],
   "source": [
    "type(-5)"
   ]
  },
  {
   "cell_type": "markdown",
   "metadata": {},
   "source": [
    "<B>Строки</B>\n",
    "\n",
    "Строка представляет собой последовательность символов. Мы можем использовать одинарные или двойные кавычки для создания строки.  Многострочные строки можно обозначить тройными кавычками, ''' или \"\"\":\n",
    "\n",
    "Стоит отметить, что строки в Python относятся к категории неизменяемых последовательностей, то есть все функции и методы могут лишь создавать новую строку.Строка представляет собой последовательность символов. Мы можем использовать одинарные или двойные кавычки для создания строки.  Многострочные строки можно обозначить тройными кавычками, ''' или \"\"\":\n",
    "\n",
    "Как и в случае со списками и кортежами, мы можем использовать оператор [] и со строками. Стоит отметить, что строки в Python относятся к категории неизменяемых последовательностей, то есть все функции и методы могут лишь создавать новую строку."
   ]
  },
  {
   "cell_type": "code",
   "execution_count": 2,
   "metadata": {},
   "outputs": [
    {
     "name": "stdout",
     "output_type": "stream",
     "text": [
      "Это строка\n",
      "O'Brayen\n",
      "O'Bra\"yen\n"
     ]
    }
   ],
   "source": [
    "print('Это строка')\n",
    "print(\"O'Brayen\")\n",
    "print(\"O'Bra\\\"yen\")"
   ]
  },
  {
   "cell_type": "markdown",
   "metadata": {},
   "source": [
    "<b>Булевы значения</b>\n",
    "\n",
    "Булевы значения в Python это две константы True и False.\n",
    "\n",
    "В Python истинными и ложными значениями считаются не только True и False.\n",
    "\n",
    "    истинное значение:\n",
    "        любое ненулевое число\n",
    "        любая непустая строка\n",
    "        любой непустой объект\n",
    "    ложное значение:\n",
    "        0\n",
    "        None\n",
    "        пустая строка\n",
    "        пустой объект\n",
    "\n",
    "Остальные истинные и ложные значения, как правило, логически следуют из условия."
   ]
  },
  {
   "cell_type": "code",
   "execution_count": null,
   "metadata": {},
   "outputs": [],
   "source": [
    "bool(5)\n",
    "bool(-4.2)\n",
    "bool(7-3-4)\n",
    "bool('h')"
   ]
  },
  {
   "cell_type": "markdown",
   "metadata": {},
   "source": [
    "<b>Переменные в Python</b>\n",
    "\n",
    "Переменная — это простейшая именованная структура данных, в которой может быть сохранён промежуточный или конечный результат работы программы.\n",
    "\n",
    "Переменную в Python создать очень просто — нужно присвоить некоторому идентификатору значение при помощи оператора присваивания «=». \n",
    "\n",
    "Никакого специального объявления переменных не требуется, первое присваивание переменной значения и является ее объявлением. Идентификатор в Python является \"ссылкой\" на хранимые в памяти данные.\n",
    "\n",
    "Python — язык с динамической типизацией: каждая переменная в каждый момент времени имеет определенный тип, но этот тип может меняться по ходу выполнения программы, достаточно просто присвоить ей новое значение другого типа."
   ]
  },
  {
   "cell_type": "markdown",
   "metadata": {},
   "source": [
    "#### 3 способа обмена значений двух переменных"
   ]
  },
  {
   "cell_type": "code",
   "execution_count": null,
   "metadata": {},
   "outputs": [],
   "source": [
    "x=5\n",
    "y=3\n",
    "c=x\n",
    "x=y\n",
    "y=c\n",
    "print(x,y)"
   ]
  },
  {
   "cell_type": "code",
   "execution_count": null,
   "metadata": {},
   "outputs": [],
   "source": [
    "x=5\n",
    "y=3\n",
    "x=x+y\n",
    "y=x-y\n",
    "x=x-y\n",
    "print(x,y)"
   ]
  },
  {
   "cell_type": "code",
   "execution_count": null,
   "metadata": {},
   "outputs": [],
   "source": [
    "x=5\n",
    "y=3\n",
    "x,y=y,x\n",
    "print(x,y)"
   ]
  },
  {
   "cell_type": "markdown",
   "metadata": {},
   "source": [
    "### Математические выражения"
   ]
  },
  {
   "cell_type": "code",
   "execution_count": null,
   "metadata": {},
   "outputs": [],
   "source": [
    "print(2+10)\n",
    "print(2-10)\n",
    "print(2*10)\n",
    "print(10/2)\n",
    "print(10//2) #Целочисленное деление\n",
    "print(10**2) #Степень числа\n",
    "print(10%2) #Остаток от деления\n",
    "print(19%4)"
   ]
  },
  {
   "cell_type": "markdown",
   "metadata": {},
   "source": [
    "### Математические функции"
   ]
  },
  {
   "cell_type": "markdown",
   "metadata": {},
   "source": [
    "<b>Функции в библиотеке math</b>\n",
    "\n",
    "ceil(x) \tВозвращает округленное x как ближайшее целое значение типа int, большее или равное x (округление \"вверх\")."
   ]
  },
  {
   "cell_type": "code",
   "execution_count": null,
   "metadata": {},
   "outputs": [],
   "source": [
    "import math as m #Подключение (импорт) библиотеки math\n",
    "a=6.34\n",
    "print(m.ceil(a))"
   ]
  },
  {
   "cell_type": "code",
   "execution_count": null,
   "metadata": {},
   "outputs": [],
   "source": [
    "from math import * #Подключение всех функций библиотеки math\n",
    "a=6.34\n",
    "print(ceil(a))"
   ]
  },
  {
   "cell_type": "markdown",
   "metadata": {},
   "source": [
    "fabs(x) \tВозвращает абсолютное значение (модуль) числа x. В Python есть встроенная функция abs, но она возвращает модуль числа с тем же типом, что число, здесь же всегда float abs (fabs)."
   ]
  },
  {
   "cell_type": "code",
   "execution_count": null,
   "metadata": {},
   "outputs": [],
   "source": [
    "import math as m\n",
    "print(fabs(-5))\n",
    "print(abs(-5))"
   ]
  },
  {
   "cell_type": "markdown",
   "metadata": {},
   "source": [
    "factorial(x) \tВозвращает факториал целого числа x, если x не целое возбуждается исключение ValueError."
   ]
  },
  {
   "cell_type": "code",
   "execution_count": null,
   "metadata": {},
   "outputs": [],
   "source": [
    "import math as m\n",
    "print(factorial(24))"
   ]
  },
  {
   "cell_type": "markdown",
   "metadata": {},
   "source": [
    "floor(x) \tВ противоположность ceil(x) возвращает округленное x как ближайшее целое значение типа int, меньшее или равное x (округление \"вниз\")."
   ]
  },
  {
   "cell_type": "code",
   "execution_count": null,
   "metadata": {},
   "outputs": [],
   "source": [
    "import math as m #Подключение (импорт) библиотеки math\n",
    "a=6.34\n",
    "print(m.floor(a))"
   ]
  },
  {
   "cell_type": "markdown",
   "metadata": {},
   "source": [
    "frexp(x) \tПредставляет число в экспоненциальной записи\n",
    "и возвращает мантиссу m (действительное число, модуль которого лежит в интервале от 0.5 включительно до 1 не включительно) и порядок n (целое число) как пару чисел (m, n). Если x=0, то возвращает (0.0, 0)\n",
    "\n",
    "fsum(iterable) \tВозвращает float сумму от числовых элементов итерируемого объекта.\n",
    "\n",
    "isinf(x) \tПроверяет, является ли float объект x плюс или минус бесконечностью, результат соответственно True или False.\n",
    "\n",
    "isnan(x) \tПроверяет, является ли float объект x объектом NaN (not a number).\n",
    "\n",
    "trunc(x) \tВозвращает целую часть числа x в виде int объекта.\n",
    "\n",
    "<b>Степенные и логарифмические функции</b>\n",
    "\n",
    "exp(x) \tВозвращает экспоненту (е в степени).\n",
    "\n",
    "log(x) \tПри передаче функции одного аргумента x, возвращает натуральный логарифм x (логарифм по основанию e = 2.7182…). При передаче двух аргументов, второй берется как основание логарифма.\n",
    "\n",
    "log10(x) \tВозвращает десятичный логарифм x.\n",
    "\n",
    "pow(x, y) \tВозвращает x в степени y. В отличие от операции ** приводит оба аргумента к типу float.\n",
    "\n",
    "sqrt(x) \tКвадратный корень (square root) из x.\n",
    "\n",
    "<b>Тригонометрические функции</b>\n",
    "\n",
    "acos(x) \tВозвращает арккосинус x, в радианах.\n",
    "\n",
    "asin(x) \tВозвращает арксинус x, в радианах.\n",
    "\n",
    "atan(x) \tВозвращает арктангенс x, в радианах\n",
    "\n",
    "cos(x) \tВозвращает косинус x, где x выражен в радианах.\n",
    "\n",
    "hyp(x, y) \tВозвращает sqrt(x**2+y**2). Удобно для вычисления гипотенузы (hyp) и длины вектора.\n",
    "\n",
    "sin(x) \tВозвращает синус x, где x выражен в радианах.\n",
    "\n",
    "tan(x) \tВозвращает тангенс x, где x выражен в радианах."
   ]
  },
  {
   "cell_type": "code",
   "execution_count": null,
   "metadata": {},
   "outputs": [],
   "source": [
    "import math as m #Подключение (импорт) библиотеки math\n",
    "a=radians(30)\n",
    "print(a)\n",
    "print(m.sin(a))"
   ]
  },
  {
   "cell_type": "markdown",
   "metadata": {},
   "source": [
    "<b>Радианы в градусы и наоборот</b>\n",
    "\n",
    "degrees(x) \tКонвертирует значение угла x из радиан в градусы.\n",
    "\n",
    "radians(x) \tКонвертирует значение угла x из градусов в радианы."
   ]
  },
  {
   "cell_type": "markdown",
   "metadata": {},
   "source": [
    "#### Сумма цифр двузначного числа"
   ]
  },
  {
   "cell_type": "code",
   "execution_count": null,
   "metadata": {},
   "outputs": [],
   "source": [
    "c=14\n",
    "s=0\n",
    "s+=c%10 #s=s+c%10\n",
    "c=c//10\n",
    "s+=c #s=s+c\n",
    "print(s)"
   ]
  },
  {
   "cell_type": "markdown",
   "metadata": {},
   "source": [
    "#### Работа с системами счисления"
   ]
  },
  {
   "cell_type": "markdown",
   "metadata": {},
   "source": [
    "Python не может переводить по умолчанию дробные числа, а  может лишь только целые части, иначе возникает ошибка.\n",
    "Можно перевести целую часть числа из десятичной в двоичную систему счисления с помощью оператора bin, в 8-ричную – oct, в 16-ричную – hex."
   ]
  },
  {
   "cell_type": "code",
   "execution_count": 6,
   "metadata": {},
   "outputs": [
    {
     "name": "stdout",
     "output_type": "stream",
     "text": [
      "23\n",
      "0b10111 0o27 0x17\n"
     ]
    }
   ],
   "source": [
    "a=int(input())\n",
    "print(bin(a),oct(a),hex(a))"
   ]
  },
  {
   "cell_type": "markdown",
   "metadata": {},
   "source": [
    "## Ввод и вывод данных"
   ]
  },
  {
   "cell_type": "markdown",
   "metadata": {},
   "source": [
    "Ввод данных осуществляется при помощи команды input(список ввода):"
   ]
  },
  {
   "cell_type": "code",
   "execution_count": 7,
   "metadata": {},
   "outputs": [
    {
     "name": "stdout",
     "output_type": "stream",
     "text": [
      "10\n",
      "<class 'str'> 10\n"
     ]
    }
   ],
   "source": [
    "a = input()\n",
    "print(type(a),a)"
   ]
  },
  {
   "cell_type": "markdown",
   "metadata": {},
   "source": [
    "В скобках функции можно указать сообщение - комментарий к вводимым данным:"
   ]
  },
  {
   "cell_type": "code",
   "execution_count": 8,
   "metadata": {},
   "outputs": [
    {
     "name": "stdout",
     "output_type": "stream",
     "text": [
      "Введите количество: \n"
     ]
    }
   ],
   "source": [
    "a = input (\"Введите количество: \")"
   ]
  },
  {
   "cell_type": "markdown",
   "metadata": {},
   "source": [
    "Команда input() по умолчанию воспринимает входные данные как строку символов. Поэтому, чтобы ввести целочисленное значение, следует указать тип данных int():"
   ]
  },
  {
   "cell_type": "code",
   "execution_count": null,
   "metadata": {},
   "outputs": [],
   "source": [
    "a = int (input())"
   ]
  },
  {
   "cell_type": "markdown",
   "metadata": {},
   "source": [
    "Для ввода вещественных чисел применяется команда "
   ]
  },
  {
   "cell_type": "code",
   "execution_count": null,
   "metadata": {},
   "outputs": [],
   "source": [
    "a=float(input())"
   ]
  },
  {
   "cell_type": "markdown",
   "metadata": {},
   "source": [
    "Вывод данных осуществляется при помощи команды print(список вывода):"
   ]
  },
  {
   "cell_type": "code",
   "execution_count": 9,
   "metadata": {},
   "outputs": [
    {
     "name": "stdout",
     "output_type": "stream",
     "text": [
      "1\n",
      "3\n",
      "сумма =  3\n"
     ]
    }
   ],
   "source": [
    "a = 1\n",
    "b = 2\n",
    "print(a)\n",
    "print(a + b)\n",
    "print('сумма = ', a + b)"
   ]
  },
  {
   "cell_type": "markdown",
   "metadata": {},
   "source": [
    "Существует возможность записи команд в одну строку, разделяя их через ;. Однако не следует часто использовать такой способ, это снижает удобочитаемость:\n",
    "    "
   ]
  },
  {
   "cell_type": "code",
   "execution_count": 10,
   "metadata": {},
   "outputs": [
    {
     "name": "stdout",
     "output_type": "stream",
     "text": [
      "1\n",
      "3\n",
      "сумма =  3\n"
     ]
    }
   ],
   "source": [
    "a = 1; b = 2; print(a)\n",
    "print (a + b)\n",
    "print ('сумма = ', a + b)"
   ]
  },
  {
   "cell_type": "markdown",
   "metadata": {},
   "source": [
    "Для команды print может задаваться так называемый сепаратор — разделитель между элементами вывода:"
   ]
  },
  {
   "cell_type": "code",
   "execution_count": 14,
   "metadata": {},
   "outputs": [
    {
     "name": "stdout",
     "output_type": "stream",
     "text": [
      "2 + 5 = 7\n"
     ]
    }
   ],
   "source": [
    "x=2\n",
    "y=5\n",
    "print ( x, \"+\", y, \"=\", x+y, sep = \" \" )"
   ]
  },
  {
   "cell_type": "markdown",
   "metadata": {},
   "source": [
    "Результат отобразится с пробелами между элементами: 2 + 5 = 7\n",
    "Можно также использовать и другие разделители. Выведем, например, время:"
   ]
  },
  {
   "cell_type": "code",
   "execution_count": 5,
   "metadata": {},
   "outputs": [
    {
     "name": "stdout",
     "output_type": "stream",
     "text": [
      "12:23:45\n"
     ]
    }
   ],
   "source": [
    "h=12\n",
    "m=23\n",
    "s=45\n",
    "print(h,m,s,sep=\":\")"
   ]
  }
 ],
 "metadata": {
  "kernelspec": {
   "display_name": "Python 3",
   "language": "python",
   "name": "python3"
  },
  "language_info": {
   "codemirror_mode": {
    "name": "ipython",
    "version": 3
   },
   "file_extension": ".py",
   "mimetype": "text/x-python",
   "name": "python",
   "nbconvert_exporter": "python",
   "pygments_lexer": "ipython3",
   "version": "3.8.5"
  }
 },
 "nbformat": 4,
 "nbformat_minor": 4
}
