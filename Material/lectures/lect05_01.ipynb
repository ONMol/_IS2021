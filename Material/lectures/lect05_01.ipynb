{
 "cells": [
  {
   "cell_type": "markdown",
   "metadata": {},
   "source": [
    "# <font color=red>Лекция 5.1</font> <font color=blue>Разбор URL-адреса</font>"
   ]
  },
  {
   "cell_type": "markdown",
   "metadata": {},
   "source": [
    "Интернет прочно вошел в нашу жизнь. Очень часто необходимо передать данные на Web-сервер или, наоборот, получить данные. Например, нужно получить котировку валют или прогноз погоды, проверить наличие писем в почтовом ящике. В состав стандартной библиотеке Python входит множество модулей, позволяющий работать практически со всеми протоколами Интернета."
   ]
  },
  {
   "cell_type": "markdown",
   "metadata": {},
   "source": [
    "### Модуль urllib.parse"
   ]
  },
  {
   "cell_type": "markdown",
   "metadata": {},
   "source": [
    "Данный модуль определяет стандартный интерфейс для разбиения строк унифицированного указателя ресурсов (URL) на компоненты (схема адресации, сетевое расположение, путь и т. д.), чтобы объединить компоненты обратно в строку URL и преобразовать «относительный URL» в абсолютный URL-адрес с «базовым URL-адресом»\n",
    "\n",
    "Модуль был разработан в соответствии с RFC Интернета по относительным унифицированным указателям ресурсов. Он поддерживает следующие URL схемы: file, ftp, gopher, hdl, http, https, imap, mailto, mms, news, nntp, prospero, rsync, rtsp, rtspu, sftp, shttp, sip, sips, snews, svn, svn+ssh , telnet, wais, ws, wss.\n",
    "\n",
    "Модуль urllib.parse определяет функции, которые делятся на две большие категории: разбор (парсинг) URL и закавычивание URL. Подключение модуля осуществляется стандартным образом:"
   ]
  },
  {
   "cell_type": "code",
   "execution_count": null,
   "metadata": {},
   "outputs": [],
   "source": [
    "from urllib.parse import urlparse"
   ]
  },
  {
   "cell_type": "markdown",
   "metadata": {},
   "source": [
    "#### Разбор (парсинг) URL-адреса"
   ]
  },
  {
   "cell_type": "markdown",
   "metadata": {},
   "source": [
    "URL-адрес состоит из следующих элементов:"
   ]
  },
  {
   "cell_type": "markdown",
   "metadata": {},
   "source": [
    "`<Протокол>://<Домен>:<Порт>/<Путь>;<Параметры>?<Запрос>#<Якорь>`"
   ]
  },
  {
   "cell_type": "markdown",
   "metadata": {},
   "source": [
    "Схема URL-адрес для протокола FTP выглядит по-другому."
   ]
  },
  {
   "cell_type": "markdown",
   "metadata": {},
   "source": [
    "`<Протокол>://<Пользователь>:<Пароль>@<Домен>`"
   ]
  },
  {
   "cell_type": "markdown",
   "metadata": {},
   "source": [
    "Функции парсинга URL-адресов сосредоточены на разделении строки URL-адреса на ее компоненты или на объединении компонентов URL-адреса в строку URL-адреса.\n",
    "\n",
    "`urllib.parse.urlparse(urlstring, scheme='', allow_fragments=True)`¶\n",
    "\n",
    "Функция `urlparse` разбирает URL-адрес на шесть компонентов, вернув именованный кортеж из 6 элементов. Соответствует общей структуре URL-адреса: scheme://netloc/path;parameters?query#fragment. Каждый элемент кортежа представляет собой строку, возможно, пустую. Компоненты не разбиваются на более мелкие части (например, местоположение в сети представляет собой одну строку). Указанные выше разделители не являются частью результата, за исключением ведущей косой черты в компоненте path, которая сохраняется, если присутствует. Например:"
   ]
  },
  {
   "cell_type": "code",
   "execution_count": null,
   "metadata": {},
   "outputs": [],
   "source": [
    "up = urlparse('http://www.cwi.nl:80/%7Eguido/Python.html')\n",
    "\n",
    "print(up)\n",
    "\n",
    "print(up.scheme)\n",
    "print(up.port)\n",
    "up.geturl()"
   ]
  },
  {
   "cell_type": "markdown",
   "metadata": {},
   "source": [
    "Функция возвращает объект ParserResult с результатами разбора URL-адреса. Получить значения можно с помощи атрибутов или индексов. Объект можно преобразовать в кортеж из следующих элементов: (scheme, netloc, path, params, query, fragment). Элементы соотвествуют схеме URL-адреса:"
   ]
  },
  {
   "cell_type": "markdown",
   "metadata": {},
   "source": [
    "`<scheme>://<netloc>/<path>;<params?<query>#<fragment>`"
   ]
  },
  {
   "cell_type": "markdown",
   "metadata": {},
   "source": [
    "Обратите внимание на то, что название домена может содержать номер порта. Кроме того, не ко всем атрибутам объекта можно получить доступ с помощью индексов."
   ]
  },
  {
   "cell_type": "markdown",
   "metadata": {},
   "source": [
    "Во втором параметре функции `urlparse()` можно указать название протокола, которое бу­дет использоваться, если протокола нет в составе URL-aдpeca. По умолчанию используется пустая строка. Пример:"
   ]
  },
  {
   "cell_type": "code",
   "execution_count": null,
   "metadata": {},
   "outputs": [],
   "source": [
    "print(urlparse('http://www.cwi.nl:80/%7Eguido/Python.html'))"
   ]
  },
  {
   "cell_type": "markdown",
   "metadata": {},
   "source": [
    "Сравните"
   ]
  },
  {
   "cell_type": "code",
   "execution_count": null,
   "metadata": {},
   "outputs": [],
   "source": [
    "urlparse(\"//wwwadmin.ru/test.php\", \"http\")"
   ]
  },
  {
   "cell_type": "markdown",
   "metadata": {},
   "source": [
    "netloc — название домена вместе с номером порта. Значение доступно также по индексу 1. По умолчанию пустая строка."
   ]
  },
  {
   "cell_type": "markdown",
   "metadata": {},
   "source": [
    "#### Пример функции для создания URL-адреса из компонентов:"
   ]
  },
  {
   "cell_type": "code",
   "execution_count": null,
   "metadata": {},
   "outputs": [],
   "source": [
    "import urllib.parse\n",
    "def build_url(base_url, path, args_dict):\n",
    "    # Возвращает список в структуре urlparse.ParseResult\n",
    "    url_parts = list(urllib.parse.urlparse(base_url))\n",
    "    url_parts[2] = path\n",
    "    url_parts[4] = urllib.parse.urlencode(args_dict)\n",
    "    return urllib.parse.urlunparse(url_parts)\n",
    "args = {'arg1': 'value1', 'arg2': 'value2'}\n",
    "# работает со сценарием двойной косой черты\n",
    "build_url('http://www.example.com/', '/somepage/index.html', args)\n",
    "# http://www.example.com/somepage/index.html?arg1=value1&arg2=value2\n",
    "\n",
    "# работает без косой черты\n",
    "build_url('http://www.example.com', 'somepage/index.html', args)\n",
    "# http://www.example.com/somepage/index.html?arg1=value1&arg2=value2"
   ]
  },
  {
   "cell_type": "markdown",
   "metadata": {},
   "source": [
    "#### Добавление/изменение протокола URL-адреса: "
   ]
  },
  {
   "cell_type": "code",
   "execution_count": null,
   "metadata": {},
   "outputs": [],
   "source": [
    "from urllib.parse import urlparse\n",
    "url = urlparse('//www.cwi.nl:80/%7Eguido/Python.html')\n",
    "print(url)\n",
    "\n",
    "# Добавление протокола к URL-адресу \n",
    "url._replace(scheme='http')"
   ]
  },
  {
   "cell_type": "code",
   "execution_count": null,
   "metadata": {},
   "outputs": [],
   "source": []
  }
 ],
 "metadata": {
  "kernelspec": {
   "display_name": "Python 3",
   "language": "python",
   "name": "python3"
  },
  "language_info": {
   "codemirror_mode": {
    "name": "ipython",
    "version": 3
   },
   "file_extension": ".py",
   "mimetype": "text/x-python",
   "name": "python",
   "nbconvert_exporter": "python",
   "pygments_lexer": "ipython3",
   "version": "3.8.3"
  }
 },
 "nbformat": 4,
 "nbformat_minor": 4
}
