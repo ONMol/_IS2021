{
 "cells": [
  {
   "cell_type": "markdown",
   "metadata": {},
   "source": [
    "## <center>Лабораторная работа №1</center>\n",
    "\n",
    "**Тема:** Разработка, отладка и испытание линейных программ и математических функций \n",
    "\n",
    "**Цель:** Получить навыки разработки, отладки и испытаний линейных программ, использующих вычисление выражений со стандартными математическими функциями. \n",
    "\n",
    "**Материал:** [Лекция 1.1 Типы данных, переменный, арифметически операторы и математические функции](../../material/lectures/lect01_01.ipynb)\n",
    "\n",
    "### <center>Индивидуальные задания</center> "
   ]
  },
  {
   "cell_type": "markdown",
   "metadata": {},
   "source": [
    "Тексты индивидуальных заданий по вариантам находятся в файле **Лабораторная работа_01.docx** на Yandex-диске.\n"
   ]
  },
  {
   "cell_type": "markdown",
   "metadata": {},
   "source": [
    "**Задание 1 (решение)**"
   ]
  },
  {
   "cell_type": "code",
   "execution_count": null,
   "metadata": {},
   "outputs": [],
   "source": []
  },
  {
   "cell_type": "markdown",
   "metadata": {},
   "source": [
    "**Задание 2 (решение)**"
   ]
  },
  {
   "cell_type": "code",
   "execution_count": null,
   "metadata": {},
   "outputs": [],
   "source": []
  },
  {
   "cell_type": "markdown",
   "metadata": {},
   "source": [
    "**Задание 3 (решение)**"
   ]
  },
  {
   "cell_type": "code",
   "execution_count": null,
   "metadata": {},
   "outputs": [],
   "source": []
  },
  {
   "cell_type": "markdown",
   "metadata": {},
   "source": [
    "**Задание 4 (решение)**"
   ]
  },
  {
   "cell_type": "code",
   "execution_count": null,
   "metadata": {},
   "outputs": [],
   "source": []
  },
  {
   "cell_type": "markdown",
   "metadata": {},
   "source": [
    "**Дополнительная литература**\n",
    "\n",
    "https://www.opennet.ru/docs/RUS/python/python_b.html\n",
    "\n",
    "https://metanit.com/python/tutorial/1.1.php\n",
    "\n",
    "https://pythonworld.ru/osnovy\n"
   ]
  }
 ],
 "metadata": {
  "kernelspec": {
   "display_name": "Python 3",
   "language": "python",
   "name": "python3"
  },
  "language_info": {
   "codemirror_mode": {
    "name": "ipython",
    "version": 3
   },
   "file_extension": ".py",
   "mimetype": "text/x-python",
   "name": "python",
   "nbconvert_exporter": "python",
   "pygments_lexer": "ipython3",
   "version": "3.8.3"
  }
 },
 "nbformat": 4,
 "nbformat_minor": 4
}
