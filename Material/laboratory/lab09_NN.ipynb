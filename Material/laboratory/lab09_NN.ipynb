{
 "cells": [
  {
   "cell_type": "markdown",
   "metadata": {},
   "source": [
    "## <center>Лабораторная работа №9</center>\n",
    "\n",
    "**Тема:** Разработка, отладка и испытание программ, разделенных на модули и функции. \n",
    "\n",
    "**Цель:** Получить навыки разработки, отладки и испытаний программ, использующих собственные функции, упакованные в модули. \n",
    "\n",
    "**Материал:** [Лекция 2.3 Функции, модули и пакеты](../../material/lectures/lect02_03.ipynb) "
   ]
  },
  {
   "attachments": {
    "image.png": {
     "image/png": "[encoded data removed]"
    }
   },
   "cell_type": "markdown",
   "metadata": {},
   "source": [
    "### <center>Примеры программ с использованием функций</center>\n",
    "1. Определить, являются ли три треугольника равновеликими. Длины сторон вводить с клавиатуры. Для подсчёта площади треугольника использовать формулу Герона. Вычисление площади оформить в виде функции с тремя параметрами.\n",
    "Формула Герона: ![image.png](attachment:image.png)"
   ]
  },
  {
   "cell_type": "code",
   "execution_count": null,
   "metadata": {},
   "outputs": [],
   "source": [
    "import math\n",
    "def s(x,y,z):\n",
    "    p=(x+y+z)/2\n",
    "    s=math.sqrt(p*(p-x)*(p-y)*p-z)\n",
    "    return s\n",
    "m=[]\n",
    "for i in range(3):\n",
    "    print('Введите стороны',i+1,'треугольника')\n",
    "    a=int(input('Сторона a: '))\n",
    "    b=int(input('Сторона b: '))\n",
    "    c=int(input('Сторона c: '))\n",
    "    m.append(s(a,b,c))\n",
    "for i in range(3):\n",
    "    print('Площадь',i+1, 'треугольника {:.2f}'.format(m[i]))\n",
    "if (m[0]==m[1]) & (m[1]==m[2]):\n",
    "    print('Треугольники равновеликие')\n",
    "else: print('Треугольники неравновеликие')\n",
    "    "
   ]
  },
  {
   "cell_type": "markdown",
   "metadata": {},
   "source": [
    "2. Ввести одномерный массив A длиной m. Поменять в нём местами первый и последний  элементы. Длину массива и его элементы ввести с клавиатуры. В программе описать процедуру для замены элементов массива. Вывести исходные и полученные массивы."
   ]
  },
  {
   "cell_type": "code",
   "execution_count": null,
   "metadata": {},
   "outputs": [],
   "source": [
    "def zam(x):\n",
    "    tmp=x[0]\n",
    "    x[0]=x[len(x)-1]\n",
    "    x[len(x)-1]=tmp\n",
    "a=[]\n",
    "n=int(input('Ведите длину массива: '))\n",
    "for i in range(n):\n",
    "    print('Введите',i,'элемент')\n",
    "    a.append(int(input()))\n",
    "print(a)\n",
    "zam(a)\n",
    "print(a)"
   ]
  },
  {
   "cell_type": "markdown",
   "metadata": {},
   "source": [
    "## <center>Индивидуальные задания</center>\n",
    "### <font color=blue>Задание 1.</font> \n",
    "#### Оформите вычисления индивидуального задания в виде функций.<br><br>\n",
    "\n",
    "**Вариант 1.**<br>\n",
    "1. Составить программу для вычисления площади разных геометрических фигур.\n",
    "2. (доп.) Даны 3 различных массива целых чисел (размер каждого не превышает 15). В каждом массиве найти сумму элементов и среднеарифметическое значение.\n",
    "\n",
    "\n",
    "**Вариант 2.**<br>\n",
    "1. Вычислить площадь правильного шестиугольника со стороной а, используя подпрограмму вычисления площади треугольника.\n",
    "2. (доп.) Пользователь вводит две стороны трех прямоугольников. Вывести их площади.\n",
    "\n",
    "**Вариант 3.**<br>\n",
    "1. Даны катеты двух прямоугольных треугольников. Написать функцию вычисления длины гипотенузы этих треугольников. Сравнить и вывести какая из гипотенуз больше, а какая меньше.\n",
    "2. (доп.) Преобразовать строку так, чтобы буквы каждого слова в ней были отсортированы по алфавиту.\n",
    "\n",
    "**Вариант 4.**<br>\n",
    "1. Даны две дроби A/B и C/D (А, В, С, D — натуральные числа). Составить программу деления дроби на дробь. Ответ должен быть несократимой дробью. Использовать подпрограмму алгоритма Евклида для определения НОД.\n",
    "2. (доп.) Задана окружность (x-a)2 + (y-b)2 = R2 и точки Р(р1, р2), F(f1, f1), L(l1,l2). Выяснить и вывести на экран, сколько точек лежит внутри окружности. Проверку, лежит ли точка внутри окружности, оформить в виде процедуры.\n",
    "\n",
    "**Вариант 5.**<br>\n",
    "1. Даны две дроби A/B и C/D (А, В, С, D — натуральные числа). Составить программу вычитания из первой дроби второй. Ответ должен быть несократимой дробью. Использовать подпрограмму алгоритма Евклида для определения НОД.\n",
    "2. (доп.) Напишите программу, которая выводит в одну строчку все делители переданного ей числа, разделяя их пробелами.\n",
    "\n",
    "**Вариант 6.**<br>\n",
    "1. Составить программу нахождения наибольшего общего делителя (НОД) и наименьшего общего кратного (НОК) двух натуральных чисел НОК(А, В) = (A\\*B)/НОД(A,B). Использовать подпрограмму алгоритма Евклида для определения НОД.\n",
    "2. (доп.) Cоставить программу вычисления площади выпуклого четырехугольника, заданного длинами четырех сторон и диагонали.\n",
    "\n",
    "**Вариант 7.**<br>\n",
    "1. Даны числа X, Y, Z, Т — длины сторон четырехугольника. Вычислить его площадь, если угол между сторонами длиной X и У — прямой. Использовать две подпрограммы для вычисления площадей: прямоугольного треугольника и прямоугольника.\n",
    "2. (доп.) Напишите программу, которая переводит переданное ей неотрицательное целое число в 10-значный восьмеричный код, сохранив лидирующие нули.\n",
    "\n",
    "**Вариант 8.**\n",
    "1. Найти все натуральные числа, не превосходящие заданного n, которые делятся на каждую из своих цифр.\n",
    "2. (доп.) Ввести одномерный массив A длиной m. Поменять в нём местами первый и последний  элементы. Длину массива и его элементы ввести с клавиатуры. В программе описать процедуру для замены элементов массива. Вывести исходные и полученные массивы.\n",
    "\n",
    "**Вариант 9.**\n",
    "1. Из заданного числа вычли сумму его цифр. Из результата вновь вычли сумму его цифр и т. д. Через сколько таких действий получится нуль?\n",
    "2. (доп.) Даны 3 различных массива целых чисел. В каждом массиве найти произведение элементов и среднеарифметическое значение.\n",
    "\n",
    "**Вариант 10.**\n",
    "1. На отрезке [100, N] (210 < N < 231) найти количество чисел, составленных из цифр а, b, с.\n",
    "2. (доп.) Составить программу, которая изменяет последовательность слов в строке на обратную.\n",
    "\n",
    "**Вариант 11.**\n",
    "1. Два простых числа называются «близнецами», если они отличаются друг от друга на 2 (например, 41 и 43). Напечатать все пары «близнецов» из отрезка [n, 2n], где n — заданное натуральное число, большее двух.\n",
    "2. (доп.) Даны две матрицы А и В. Написать программу, меняющую местами максимальные элементы этих матриц. Нахождение максимального элемента матрицы оформить в виде процедуры.\n",
    "\n",
    "**Вариант 12.**\n",
    "1. Два натуральных числа называются «дружественными», если каждое из них равно сумме всех делителей (кроме его самого) другого (например, числа 220 и 284). Найти все пары «дружественных» чисел, которые не больше данного числа N.\n",
    "2. (доп.) Даны длины сторон треугольника a, b, c. Найти медианы треугольника, сторонами которого являются медианы исходного треугольника. Для вычисления медианы проведенной к стороне а, использовать формулу Вычисление медианы оформить в виде процедуры.\n",
    "\n",
    "**Вариант 13.**\n",
    "1. Натуральное число, в записи которого n цифр, называется числом Армстронга, если сумма его цифр, возведенная в степень n, равна самому числу. Найти все числа Армстронга от 1 до k.\n",
    "2. (доп.) Три точки заданы своими координатами X(x1, x2), Y(y1, y2) и Z(z1, z2). Найти и напечатать координаты точки, для которой угол между осью абсцисс и лучом, соединяющим начало координат с точкой, минимальный. Вычисления оформить в виде процедуры.\n",
    "\n",
    "**Вариант 14.**\n",
    "1. Составить программу для нахождения чисел из интервала [М, N], имеющих наибольшее количество делителей.\n",
    "2. (доп.) Четыре точки заданы своими координатами X(x1, x2), Y(y1, y2), Z(z1, z2), P(p1, p2). Выяснить, какие из них находятся на максимальном расстоянии друг от друга и вывести на экран значение этого расстояния. Вычисление расстояния между двумя точками оформить в виде процедуры.\n",
    "\n",
    "**Вариант 15.**\n",
    "1. Найти все простые натуральные числа, не превосходящие n, двоичная запись которых представляет собой палиндром, т. е. читается одинаково слева направо и справа налево.\n",
    "2. (доп.) Четыре точки заданы своими координатами X(x1, x2, x3), Y(y1, y2, y3), Z(z1, z2, z3), T(t1,t2, t3). Выяснить, какие из них находятся на минимальном расстоянии друг от друга и вывести на экран значение этого расстояния. Вычисление расстояния между двумя точками оформить в виде процедуры."
   ]
  },
  {
   "cell_type": "markdown",
   "metadata": {},
   "source": [
    "#### <center>Ваше решение задачи 1 задания 1</center>"
   ]
  },
  {
   "cell_type": "code",
   "execution_count": null,
   "metadata": {},
   "outputs": [],
   "source": []
  },
  {
   "cell_type": "markdown",
   "metadata": {},
   "source": [
    "#### <center>Ваше решение задачи 2 (доп.) задания 1</center>"
   ]
  },
  {
   "cell_type": "code",
   "execution_count": null,
   "metadata": {},
   "outputs": [],
   "source": []
  },
  {
   "cell_type": "markdown",
   "metadata": {},
   "source": [
    "### <font color=blue>Задание 2</font> \n",
    "#### Добавьте пользовательские функции индивидуального задания в собственный модуль, подключите модуль и продемострируйте работу функций (см. [материал](../../material/lectures/lect08.ipynb), раздел. \"Модули\").<br><br>"
   ]
  },
  {
   "cell_type": "markdown",
   "metadata": {},
   "source": [
    "#### <center>Ваше решение задачи 1 задания 2</center>"
   ]
  },
  {
   "cell_type": "code",
   "execution_count": null,
   "metadata": {},
   "outputs": [],
   "source": []
  },
  {
   "cell_type": "markdown",
   "metadata": {},
   "source": [
    "#### <center>Ваше решение задачи 2 (доп.) задания 2</center>"
   ]
  },
  {
   "cell_type": "code",
   "execution_count": null,
   "metadata": {},
   "outputs": [],
   "source": []
  }
 ],
 "metadata": {
  "kernelspec": {
   "display_name": "Python 3",
   "language": "python",
   "name": "python3"
  },
  "language_info": {
   "codemirror_mode": {
    "name": "ipython",
    "version": 3
   },
   "file_extension": ".py",
   "mimetype": "text/x-python",
   "name": "python",
   "nbconvert_exporter": "python",
   "pygments_lexer": "ipython3",
   "version": "3.8.5"
  }
 },
 "nbformat": 4,
 "nbformat_minor": 4
}
