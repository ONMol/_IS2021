{
 "cells": [
  {
   "cell_type": "markdown",
   "metadata": {},
   "source": [
    "## <center>Лабораторная работа №20</center>\n",
    "\n",
    "**Тема:** Разработка, отладка и испытание программ взаимодействующих с URL-адресом\n",
    "\n",
    "**Цель:** Получить навыки разработки, отладки и испытаний программ, обрабатывающих URL-адреса с помощью библиотеки urllib.parse. \n",
    "\n",
    "**Материал:** [Лекция 5.1 Разбор URL-адреса](../../material/lectures/lect05_01.ipynb) "
   ]
  },
  {
   "cell_type": "markdown",
   "metadata": {},
   "source": [
    "**<center>Задания:</center>**\n",
    "\n",
    "**Выполните примеры из лекции.** См. \n",
    "[**Лекция 5.1 Разбор URL-адреса**](material/lectures/lect05_01.ipynb)"
   ]
  },
  {
   "cell_type": "markdown",
   "metadata": {},
   "source": [
    "**Задание 1.** Найдите любой новостной сайт (повтор ресурса внутри подгруппы не допускается, уточняйте у одногруппников). Откройте любую новость на этом сайте. Выполните разбор URL-адреса этой страницы (получите кортеж из 6 элементов). В комментариях опишите каждый полученный элемент кортежа."
   ]
  },
  {
   "cell_type": "code",
   "execution_count": null,
   "metadata": {},
   "outputs": [],
   "source": []
  },
  {
   "cell_type": "markdown",
   "metadata": {},
   "source": [
    "**Задание 2.** Добавьте протокол к полученному кортежу (http или https в зависимости от протокола выбранного сайта, который можно увидеть в адресной строке)."
   ]
  },
  {
   "cell_type": "code",
   "execution_count": null,
   "metadata": {},
   "outputs": [],
   "source": []
  },
  {
   "cell_type": "markdown",
   "metadata": {},
   "source": [
    "**Задание 3.** Выполните обратную операцию к заданию 1 (соберите в строку элементы полученного в задании 1 кортежа). Полученную строку выведите на печать."
   ]
  },
  {
   "cell_type": "code",
   "execution_count": null,
   "metadata": {},
   "outputs": [],
   "source": []
  }
 ],
 "metadata": {
  "kernelspec": {
   "display_name": "Python 3",
   "language": "python",
   "name": "python3"
  },
  "language_info": {
   "codemirror_mode": {
    "name": "ipython",
    "version": 3
   },
   "file_extension": ".py",
   "mimetype": "text/x-python",
   "name": "python",
   "nbconvert_exporter": "python",
   "pygments_lexer": "ipython3",
   "version": "3.8.3"
  }
 },
 "nbformat": 4,
 "nbformat_minor": 4
}
