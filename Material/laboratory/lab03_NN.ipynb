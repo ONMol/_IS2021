{
 "cells": [
  {
   "cell_type": "markdown",
   "metadata": {},
   "source": [
    "## <center>Лабораторная работа №3</center>\n",
    "\n",
    "**Тема:** Разработка, отладка и испытание программ содержащих циклы с известным и неизвестным числом повторений \n",
    "\n",
    "**Цель:** Получить навыки разработки, отладки и испытаний программ, использующих операторы циклов для реализации алгоритмов с известным и неизвестным числом повторений. \n",
    "\n",
    "**Материал:** [Лекция 1.3 Оператор ветвления](../../material/lectures/lect01_03.ipynb)\n",
    "\n",
    "### <center>Индивидуальные задания</center> "
   ]
  },
  {
   "cell_type": "markdown",
   "metadata": {},
   "source": [
    "Тексты индивидуальных заданий по вариантам находятся в файле **Лабораторная работа_03.docx** на Yandex-диске.\n"
   ]
  },
  {
   "cell_type": "markdown",
   "metadata": {},
   "source": [
    "**Задание 1 (решение)**"
   ]
  },
  {
   "cell_type": "code",
   "execution_count": null,
   "metadata": {},
   "outputs": [],
   "source": []
  },
  {
   "cell_type": "markdown",
   "metadata": {},
   "source": [
    "**Задание 2 (решение)**"
   ]
  },
  {
   "cell_type": "code",
   "execution_count": null,
   "metadata": {},
   "outputs": [],
   "source": []
  },
  {
   "cell_type": "markdown",
   "metadata": {},
   "source": [
    "**Дополнительная литература**\n",
    "\n",
    "https://pythonworld.ru/osnovy/cikly-for-i-while-operatory-break-i-continue-volshebnoe-slovo-else.html\n",
    "\n",
    "https://python-scripts.com/loops-for-while\n",
    "\n",
    "https://metanit.com/python/tutorial/2.7.php\n",
    "\n",
    "https://younglinux.info/python/for.php\n",
    "\n",
    "http://labs.org.ru/python-2/\n",
    "\n",
    "\n"
   ]
  },
  {
   "cell_type": "code",
   "execution_count": null,
   "metadata": {},
   "outputs": [],
   "source": []
  }
 ],
 "metadata": {
  "kernelspec": {
   "display_name": "Python 3",
   "language": "python",
   "name": "python3"
  },
  "language_info": {
   "codemirror_mode": {
    "name": "ipython",
    "version": 3
   },
   "file_extension": ".py",
   "mimetype": "text/x-python",
   "name": "python",
   "nbconvert_exporter": "python",
   "pygments_lexer": "ipython3",
   "version": "3.8.5"
  }
 },
 "nbformat": 4,
 "nbformat_minor": 4
}
