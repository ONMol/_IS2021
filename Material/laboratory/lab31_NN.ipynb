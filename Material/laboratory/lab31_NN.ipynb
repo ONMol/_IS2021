{
 "cells": [
  {
   "cell_type": "markdown",
   "metadata": {},
   "source": [
    "## <center>Лабораторная работа №31</center>\n",
    "\n",
    "**Тема:** Разработка, отладка и испытание программ машинного обучения на основе числовых данных\n",
    "\n",
    "**Цель:** Получить пргнозные данные на основе машинного обучения по реальному датасету. \n",
    "\n",
    "**Материал:** [Лекция 6.6  Машинное обучение с использованием числовых и графических данных](../../material/lectures/lect06_06.ipynb) "
   ]
  },
  {
   "cell_type": "markdown",
   "metadata": {},
   "source": [
    "### Построение прогноза на основе [задачи о \"Титанике\"](Titanic.ipynb)"
   ]
  },
  {
   "cell_type": "markdown",
   "metadata": {},
   "source": [
    "### Пример прогнозной задачи.\n",
    "Построить модель на основе данных о пассажирах \"Титаника\" по обучающей выборке (67% от всего объема данных). Оценить вероятность правильного результата по тестовой выборке (23%)."
   ]
  },
  {
   "cell_type": "code",
   "execution_count": 2,
   "metadata": {},
   "outputs": [],
   "source": [
    "import numpy as np\n",
    "import pandas as pd\n",
    "\n",
    "data = pd.read_csv(\"Files/train.csv\")\n"
   ]
  },
  {
   "cell_type": "code",
   "execution_count": null,
   "metadata": {},
   "outputs": [],
   "source": [
    "data[:15]"
   ]
  },
  {
   "cell_type": "code",
   "execution_count": null,
   "metadata": {},
   "outputs": [],
   "source": [
    "data.info()"
   ]
  },
  {
   "cell_type": "code",
   "execution_count": null,
   "metadata": {},
   "outputs": [],
   "source": [
    "data['Sex'].unique()"
   ]
  },
  {
   "cell_type": "code",
   "execution_count": null,
   "metadata": {},
   "outputs": [],
   "source": [
    "d = {'male': 0, 'female': 1}\n",
    "data['Sex'] = data['Sex'].apply(lambda x:d[x])"
   ]
  },
  {
   "cell_type": "code",
   "execution_count": null,
   "metadata": {},
   "outputs": [],
   "source": [
    "data[:15]"
   ]
  },
  {
   "cell_type": "code",
   "execution_count": null,
   "metadata": {},
   "outputs": [],
   "source": [
    "data['Age'].isnull().sum()"
   ]
  },
  {
   "cell_type": "code",
   "execution_count": null,
   "metadata": {},
   "outputs": [],
   "source": [
    "data['Age'] = data['Age'].fillna(data['Age'].median())\n",
    "data[:15]"
   ]
  },
  {
   "cell_type": "code",
   "execution_count": null,
   "metadata": {},
   "outputs": [],
   "source": [
    "col_target = ['Survived']\n",
    "col_train = ['Pclass','Sex','Age']\n",
    "\n",
    "X = data[col_train]\n",
    "Y = data[col_target]"
   ]
  },
  {
   "cell_type": "code",
   "execution_count": null,
   "metadata": {},
   "outputs": [],
   "source": [
    "from sklearn.model_selection import train_test_split\n",
    "X_train, X_test, Y_train, Y_test = train_test_split(X, Y, test_size = 0.33, random_state=42)"
   ]
  },
  {
   "cell_type": "code",
   "execution_count": null,
   "metadata": {},
   "outputs": [],
   "source": [
    "from sklearn import svm\n",
    "premodel = svm.LinearSVC()\n",
    "premodel.fit(X_train,Y_train)"
   ]
  },
  {
   "cell_type": "code",
   "execution_count": null,
   "metadata": {},
   "outputs": [],
   "source": [
    "premodel.predict(X_test[:15])"
   ]
  },
  {
   "cell_type": "code",
   "execution_count": null,
   "metadata": {},
   "outputs": [],
   "source": [
    "premodel.score(X_test,Y_test)"
   ]
  },
  {
   "cell_type": "code",
   "execution_count": null,
   "metadata": {},
   "outputs": [],
   "source": [
    "\n",
    "XX = [[2,0,30]]\n",
    "premodel.predict(XX)"
   ]
  },
  {
   "cell_type": "markdown",
   "metadata": {},
   "source": [
    "### Задание 1.\n",
    "Ввести с клавиатуры собственные данные (возраст, пол, предполагаемый класс пассажира). Получить прогноз выживаемости."
   ]
  },
  {
   "cell_type": "code",
   "execution_count": null,
   "metadata": {},
   "outputs": [],
   "source": []
  },
  {
   "cell_type": "markdown",
   "metadata": {},
   "source": [
    "### Задание 1 (доп).\n",
    "Дополнить набор данных для прогноза информацией о стоимости билета (поле Fare). Ввести с клавиатуры собственные данные (возраст, пол, предполагаемый класс пассажира и стоимость билета). Получить прогноз выживаемости."
   ]
  },
  {
   "cell_type": "code",
   "execution_count": null,
   "metadata": {},
   "outputs": [],
   "source": []
  },
  {
   "cell_type": "markdown",
   "metadata": {},
   "source": [
    "### Дополнительное задание\n",
    "#### Прогноз о доверии к вакцинации.\n",
    "Эти данные содержат информацию о 41 признаке для прогнозирования поля - Vaccine_Hesitant (1- недоверие к вакцине, 0-принятие вакцины).\n",
    "\n",
    "Исследователи определили различные переменные, такие как демографические, политические, психологические и связанные со здоровьем переменные, связанные с недоверием в отношении вакцин, которые можно использовать для определения потенциальной оценки нерешительности человека. Исследователи собрали данные от 3353 взрослых американцев, чтобы создать прогностическую модель недоверия в отношении вакцины против COVID-19.\n",
    "\n",
    "Постройте модель, обучите ее и сделайте прогноз на основе данных, введенных с клавиатуры. Признаки для обучения (5 призаков) выберите самостоятельно.\n",
    "\n",
    "**Файл vh_data15.csv с данными находится в папке Material/laboratory/Files**\n"
   ]
  },
  {
   "cell_type": "code",
   "execution_count": null,
   "metadata": {},
   "outputs": [],
   "source": []
  }
 ],
 "metadata": {
  "kernelspec": {
   "display_name": "Python 3",
   "language": "python",
   "name": "python3"
  },
  "language_info": {
   "codemirror_mode": {
    "name": "ipython",
    "version": 3
   },
   "file_extension": ".py",
   "mimetype": "text/x-python",
   "name": "python",
   "nbconvert_exporter": "python",
   "pygments_lexer": "ipython3",
   "version": "3.8.3"
  }
 },
 "nbformat": 4,
 "nbformat_minor": 1
}
