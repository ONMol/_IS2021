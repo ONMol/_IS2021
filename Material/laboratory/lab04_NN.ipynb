{
 "cells": [
  {
   "cell_type": "markdown",
   "metadata": {},
   "source": [
    "## <center>Лабораторная работа №4</center>\n",
    "\n",
    "**Тема:** Разработка, отладка и испытание алгоритмов и программ обработки строк \n",
    "\n",
    "**Цель:** Получить навыки разработки, отладки и испытаний программ для обработки строк. \n",
    "\n",
    "**Материал:** [Лекция 1.4 Символы и строки](../../material/lectures/lect01_04.ipynb)\n",
    "\n",
    "### <center>Индивидуальные задания</center> "
   ]
  },
  {
   "cell_type": "markdown",
   "metadata": {},
   "source": [
    "Тексты индивидуальных заданий по вариантам находятся в файле **Лабораторная работа_04.docx** на Yandex-диске.\n"
   ]
  },
  {
   "cell_type": "markdown",
   "metadata": {},
   "source": [
    "**Задание (решение)**"
   ]
  },
  {
   "cell_type": "code",
   "execution_count": null,
   "metadata": {},
   "outputs": [],
   "source": []
  },
  {
   "cell_type": "markdown",
   "metadata": {},
   "source": [
    "**Дополнительная литература**\n",
    "\n",
    "1. https://ps.readthedocs.io/ru/latest/strings.html\n",
    "2. https://pythonworld.ru/tipy-dannyx-v-python/stroki-literaly-strok.html\n",
    "3. https://pythonworld.ru/tipy-dannyx-v-python/stroki-funkcii-i-metody-strok.html\n",
    "\n",
    "\n",
    "\n"
   ]
  },
  {
   "cell_type": "code",
   "execution_count": null,
   "metadata": {},
   "outputs": [],
   "source": []
  }
 ],
 "metadata": {
  "kernelspec": {
   "display_name": "Python 3",
   "language": "python",
   "name": "python3"
  },
  "language_info": {
   "codemirror_mode": {
    "name": "ipython",
    "version": 3
   },
   "file_extension": ".py",
   "mimetype": "text/x-python",
   "name": "python",
   "nbconvert_exporter": "python",
   "pygments_lexer": "ipython3",
   "version": "3.8.5"
  }
 },
 "nbformat": 4,
 "nbformat_minor": 4
}
