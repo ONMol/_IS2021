{
 "cells": [
  {
   "cell_type": "markdown",
   "metadata": {},
   "source": [
    "## <center>Лабораторная работа №29</center>\n",
    "\n",
    "**Тема:** Разработка, отладка и испытание программ создания мультииндексов\n",
    "\n",
    "**Цель:** Получить навыки создания наборов данных со случайными значениями для последующего анализа. \n",
    "\n",
    "**Материал:** [Лекция 6.4  Иерархическая индексация](../../material/lectures/lect06_04.ipynb) "
   ]
  },
  {
   "cell_type": "markdown",
   "metadata": {},
   "source": [
    "**<center>Рассмотрите и проверьте работу предложенного кода</center>**"
   ]
  },
  {
   "cell_type": "code",
   "execution_count": null,
   "metadata": {},
   "outputs": [],
   "source": [
    "import pandas as pd\n",
    "import numpy as np\n",
    "df = pd.DataFrame({ \n",
    "\n",
    "    # some ways to create random data\n",
    "    'a':np.random.randn(6),\n",
    "    'b':np.random.choice( [5,7,np.nan], 6),\n",
    "    'c':np.random.choice( ['panda','python','shark'], 6),\n",
    "\n",
    "    # some ways to create systematic groups for indexing or groupby\n",
    "    # this is similar to r's expand.grid(), see note 2 below\n",
    "    'd':np.repeat(range(3), 2 ),\n",
    "    'e':np.tile(range(2), 3 ),\n",
    "\n",
    "    # a date range and set of random dates\n",
    "    'f':pd.date_range('1/1/2021', periods=6, freq='D'),\n",
    "    'g':np.random.choice( pd.date_range('1/1/2020', periods=365, \n",
    "                          freq='D'), 6, replace=False) \n",
    "    })\n",
    "df"
   ]
  },
  {
   "cell_type": "markdown",
   "metadata": {},
   "source": [
    "**<center>Выполнение работы</center>**\n",
    "1. С помощью комментариев опишите каждый столбец полученного набора данных.\n",
    "2. Избавьтесь от NaN-величин (заменив их нулями) не изменяя предложенного выше кода."
   ]
  },
  {
   "cell_type": "code",
   "execution_count": null,
   "metadata": {},
   "outputs": [],
   "source": []
  },
  {
   "cell_type": "markdown",
   "metadata": {},
   "source": [
    "3. Выполните примеры из лекции (раздел \"Многоуровневая (иерархическая) индексация\n",
    "\") для полученного набора данных, используя мультииндекс столбца e."
   ]
  },
  {
   "cell_type": "code",
   "execution_count": null,
   "metadata": {},
   "outputs": [],
   "source": []
  }
 ],
 "metadata": {
  "kernelspec": {
   "display_name": "Python 3",
   "language": "python",
   "name": "python3"
  },
  "language_info": {
   "codemirror_mode": {
    "name": "ipython",
    "version": 3
   },
   "file_extension": ".py",
   "mimetype": "text/x-python",
   "name": "python",
   "nbconvert_exporter": "python",
   "pygments_lexer": "ipython3",
   "version": "3.8.3"
  }
 },
 "nbformat": 4,
 "nbformat_minor": 4
}
